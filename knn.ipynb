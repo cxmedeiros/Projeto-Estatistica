{
 "cells": [
  {
   "cell_type": "code",
   "execution_count": 1,
   "metadata": {},
   "outputs": [],
   "source": [
    "import pandas as pd\n",
    "# import dummy classifier\n",
    "from sklearn.dummy import DummyClassifier\n",
    "# import train_test_split\n",
    "from sklearn.model_selection import train_test_split"
   ]
  },
  {
   "cell_type": "code",
   "execution_count": 2,
   "metadata": {},
   "outputs": [],
   "source": [
    "data = pd.read_csv('train.csv')"
   ]
  },
  {
   "cell_type": "code",
   "execution_count": 3,
   "metadata": {},
   "outputs": [],
   "source": [
    "data.head()\n",
    "data['age'] = round(data['age'] / 365)\n",
    "target = data['cardio']"
   ]
  },
  {
   "cell_type": "code",
   "execution_count": 4,
   "metadata": {},
   "outputs": [],
   "source": [
    "x_train, x_val, y_train, y_val = train_test_split(data.drop('cardio', axis=1), data['cardio'], test_size=0.2, random_state=0)"
   ]
  },
  {
   "cell_type": "code",
   "execution_count": 5,
   "metadata": {},
   "outputs": [
    {
     "data": {
      "text/plain": [
       "0.4988392857142857"
      ]
     },
     "execution_count": 5,
     "metadata": {},
     "output_type": "execute_result"
    }
   ],
   "source": [
    "dummy_clf = DummyClassifier(strategy='most_frequent')\n",
    "dummy_clf.fit(x_train, y_train)\n",
    "\n",
    "dummy_clf.score(x_val, y_val)"
   ]
  },
  {
   "attachments": {},
   "cell_type": "markdown",
   "metadata": {},
   "source": [
    "O KNN É um dos primeiros algoritmos aprendido no estudo de ML e é utilizado em problemas de classificação, ou sejam, tenta prever os resultados em uma saída discreta, em outras palavras, ele quer mapear variáveis ​​de entrada em categorias distintas.\n",
    "\n",
    "o KNN tenta classificar cada amostra de um conjunto de dados avaliando sua distância em relação aos vizinhos mais próximos. Se os vizinhos mais próximos forem majoritariamente de uma classe, a amostra em questão será classificada nesta categoria."
   ]
  },
  {
   "cell_type": "code",
   "execution_count": 6,
   "metadata": {},
   "outputs": [
    {
     "data": {
      "text/plain": [
       "0.6325"
      ]
     },
     "execution_count": 6,
     "metadata": {},
     "output_type": "execute_result"
    }
   ],
   "source": [
    "#knn algorithm\n",
    "from sklearn.neighbors import KNeighborsClassifier\n",
    "\n",
    "knn_clf = KNeighborsClassifier()\n",
    "knn_clf.fit(x_train, y_train)\n",
    "\n",
    "knn_clf.score(x_val, y_val)"
   ]
  },
  {
   "cell_type": "code",
   "execution_count": 7,
   "metadata": {},
   "outputs": [],
   "source": [
    "#import min max scaler (normalizar os dados), one hot encoder (transformar em binários os dados categóricos), and column transformer\n",
    "from sklearn.preprocessing import MinMaxScaler, OneHotEncoder\n",
    "from sklearn.compose import ColumnTransformer\n",
    "\n",
    "# pode deixar dessa forma, se tiver mt ruim a gente muda\n",
    "var_to_be_used = ['gluc', 'cholesterol', 'ap_hi', 'age', 'ap_lo', 'weight']\n",
    "numerical_features = ['ap_hi', 'ap_lo', 'age', 'weight']\n",
    "categorical_features = ['gluc', 'cholesterol']\n",
    "\n",
    "# create column transformer\n",
    "preprocessor = ColumnTransformer(\n",
    "    transformers=[\n",
    "        ('num', MinMaxScaler(), numerical_features),\n",
    "        ('cat', OneHotEncoder(), categorical_features)\n",
    "    ])\n",
    "\n",
    "x_train = preprocessor.fit_transform(x_train)\n",
    "x_val = preprocessor.transform(x_val)"
   ]
  },
  {
   "cell_type": "code",
   "execution_count": 8,
   "metadata": {},
   "outputs": [
    {
     "name": "stderr",
     "output_type": "stream",
     "text": [
      "/home/bmmuc/.pyenv/versions/3.8.0/envs/estat/lib/python3.8/site-packages/tqdm/auto.py:21: TqdmWarning: IProgress not found. Please update jupyter and ipywidgets. See https://ipywidgets.readthedocs.io/en/stable/user_install.html\n",
      "  from .autonotebook import tqdm as notebook_tqdm\n",
      "\u001b[32m[I 2023-04-20 17:25:55,131]\u001b[0m A new study created in memory with name: no-name-828fb98e-e97b-4368-b310-05b2909fd0c6\u001b[0m\n",
      "\u001b[32m[I 2023-04-20 17:25:59,078]\u001b[0m Trial 2 finished with value: 0.6864439324116743 and parameters: {'n_neighbors': 27, 'weights': 'uniform', 'algorithm': 'auto', 'leaf_size': 20, 'p': 10}. Best is trial 2 with value: 0.6864439324116743.\u001b[0m\n",
      "\u001b[32m[I 2023-04-20 17:26:06,730]\u001b[0m Trial 0 finished with value: 0.692573051948052 and parameters: {'n_neighbors': 37, 'weights': 'distance', 'algorithm': 'auto', 'leaf_size': 85, 'p': 3}. Best is trial 0 with value: 0.692573051948052.\u001b[0m\n",
      "\u001b[32m[I 2023-04-20 17:26:11,529]\u001b[0m Trial 3 finished with value: 0.684628804031789 and parameters: {'n_neighbors': 33, 'weights': 'uniform', 'algorithm': 'kd_tree', 'leaf_size': 90, 'p': 7}. Best is trial 0 with value: 0.692573051948052.\u001b[0m\n",
      "\u001b[32m[I 2023-04-20 17:26:17,273]\u001b[0m Trial 8 finished with value: 0.689367757674324 and parameters: {'n_neighbors': 77, 'weights': 'distance', 'algorithm': 'brute', 'leaf_size': 100, 'p': 10}. Best is trial 0 with value: 0.692573051948052.\u001b[0m\n",
      "\u001b[32m[I 2023-04-20 17:26:23,332]\u001b[0m Trial 5 finished with value: 0.6893460990018334 and parameters: {'n_neighbors': 6, 'weights': 'distance', 'algorithm': 'ball_tree', 'leaf_size': 61, 'p': 7}. Best is trial 0 with value: 0.692573051948052.\u001b[0m\n",
      "\u001b[32m[I 2023-04-20 17:26:23,575]\u001b[0m Trial 1 finished with value: 0.6899067693554926 and parameters: {'n_neighbors': 90, 'weights': 'distance', 'algorithm': 'ball_tree', 'leaf_size': 35, 'p': 6}. Best is trial 0 with value: 0.692573051948052.\u001b[0m\n",
      "\u001b[32m[I 2023-04-20 17:26:25,155]\u001b[0m Trial 6 finished with value: 0.6919171405361495 and parameters: {'n_neighbors': 31, 'weights': 'distance', 'algorithm': 'ball_tree', 'leaf_size': 67, 'p': 6}. Best is trial 0 with value: 0.692573051948052.\u001b[0m\n",
      "\u001b[32m[I 2023-04-20 17:26:27,418]\u001b[0m Trial 13 finished with value: 0.6328281906153004 and parameters: {'n_neighbors': 1, 'weights': 'uniform', 'algorithm': 'auto', 'leaf_size': 15, 'p': 9}. Best is trial 0 with value: 0.692573051948052.\u001b[0m\n",
      "\u001b[32m[I 2023-04-20 17:26:28,711]\u001b[0m Trial 7 finished with value: 0.6919325340377972 and parameters: {'n_neighbors': 34, 'weights': 'distance', 'algorithm': 'ball_tree', 'leaf_size': 51, 'p': 10}. Best is trial 0 with value: 0.692573051948052.\u001b[0m\n",
      "\u001b[32m[I 2023-04-20 17:26:28,738]\u001b[0m Trial 11 finished with value: 0.6914483038797481 and parameters: {'n_neighbors': 51, 'weights': 'distance', 'algorithm': 'kd_tree', 'leaf_size': 35, 'p': 5}. Best is trial 0 with value: 0.692573051948052.\u001b[0m\n",
      "\u001b[32m[I 2023-04-20 17:26:30,779]\u001b[0m Trial 10 finished with value: 0.6823669107460915 and parameters: {'n_neighbors': 78, 'weights': 'uniform', 'algorithm': 'brute', 'leaf_size': 68, 'p': 8}. Best is trial 0 with value: 0.692573051948052.\u001b[0m\n",
      "\u001b[32m[I 2023-04-20 17:26:32,945]\u001b[0m Trial 16 finished with value: 0.7027896995708155 and parameters: {'n_neighbors': 10, 'weights': 'uniform', 'algorithm': 'brute', 'leaf_size': 29, 'p': 1}. Best is trial 16 with value: 0.7027896995708155.\u001b[0m\n",
      "\u001b[32m[I 2023-04-20 17:26:33,722]\u001b[0m Trial 17 finished with value: 0.6739842095128057 and parameters: {'n_neighbors': 61, 'weights': 'uniform', 'algorithm': 'auto', 'leaf_size': 78, 'p': 1}. Best is trial 16 with value: 0.7027896995708155.\u001b[0m\n",
      "\u001b[32m[I 2023-04-20 17:26:34,201]\u001b[0m Trial 18 finished with value: 0.6933605720122574 and parameters: {'n_neighbors': 57, 'weights': 'distance', 'algorithm': 'auto', 'leaf_size': 83, 'p': 2}. Best is trial 16 with value: 0.7027896995708155.\u001b[0m\n",
      "\u001b[32m[I 2023-04-20 17:26:35,300]\u001b[0m Trial 14 finished with value: 0.6878391959798995 and parameters: {'n_neighbors': 12, 'weights': 'distance', 'algorithm': 'auto', 'leaf_size': 41, 'p': 6}. Best is trial 16 with value: 0.7027896995708155.\u001b[0m\n",
      "\u001b[32m[I 2023-04-20 17:26:40,671]\u001b[0m Trial 19 finished with value: 0.6773156519991963 and parameters: {'n_neighbors': 54, 'weights': 'uniform', 'algorithm': 'brute', 'leaf_size': 2, 'p': 1}. Best is trial 16 with value: 0.7027896995708155.\u001b[0m\n",
      "\u001b[32m[I 2023-04-20 17:26:41,007]\u001b[0m Trial 20 finished with value: 0.705820770519263 and parameters: {'n_neighbors': 16, 'weights': 'uniform', 'algorithm': 'brute', 'leaf_size': 3, 'p': 1}. Best is trial 20 with value: 0.705820770519263.\u001b[0m\n",
      "\u001b[32m[I 2023-04-20 17:26:41,126]\u001b[0m Trial 9 finished with value: 0.6736862442040186 and parameters: {'n_neighbors': 45, 'weights': 'uniform', 'algorithm': 'ball_tree', 'leaf_size': 39, 'p': 10}. Best is trial 20 with value: 0.705820770519263.\u001b[0m\n",
      "\u001b[32m[I 2023-04-20 17:26:41,719]\u001b[0m Trial 21 finished with value: 0.7046076162423732 and parameters: {'n_neighbors': 14, 'weights': 'uniform', 'algorithm': 'brute', 'leaf_size': 32, 'p': 1}. Best is trial 20 with value: 0.705820770519263.\u001b[0m\n",
      "\u001b[32m[I 2023-04-20 17:26:42,844]\u001b[0m Trial 22 finished with value: 0.6841892438334007 and parameters: {'n_neighbors': 58, 'weights': 'uniform', 'algorithm': 'brute', 'leaf_size': 3, 'p': 1}. Best is trial 20 with value: 0.705820770519263.\u001b[0m\n",
      "\u001b[32m[I 2023-04-20 17:26:58,581]\u001b[0m Trial 4 finished with value: 0.678310637458062 and parameters: {'n_neighbors': 60, 'weights': 'uniform', 'algorithm': 'ball_tree', 'leaf_size': 96, 'p': 9}. Best is trial 20 with value: 0.705820770519263.\u001b[0m\n",
      "\u001b[32m[I 2023-04-20 17:27:00,017]\u001b[0m Trial 15 finished with value: 0.6914772727272728 and parameters: {'n_neighbors': 13, 'weights': 'uniform', 'algorithm': 'brute', 'leaf_size': 26, 'p': 10}. Best is trial 20 with value: 0.705820770519263.\u001b[0m\n",
      "\u001b[32m[I 2023-04-20 17:27:29,803]\u001b[0m Trial 23 finished with value: 0.6792341097512831 and parameters: {'n_neighbors': 68, 'weights': 'uniform', 'algorithm': 'brute', 'leaf_size': 22, 'p': 3}. Best is trial 20 with value: 0.705820770519263.\u001b[0m\n",
      "\u001b[32m[I 2023-04-20 17:27:30,142]\u001b[0m Trial 25 finished with value: 0.6903114186851211 and parameters: {'n_neighbors': 19, 'weights': 'uniform', 'algorithm': 'brute', 'leaf_size': 7, 'p': 3}. Best is trial 20 with value: 0.705820770519263.\u001b[0m\n",
      "\u001b[32m[I 2023-04-20 17:27:30,154]\u001b[0m Trial 24 finished with value: 0.6898928024502297 and parameters: {'n_neighbors': 19, 'weights': 'uniform', 'algorithm': 'brute', 'leaf_size': 4, 'p': 4}. Best is trial 20 with value: 0.705820770519263.\u001b[0m\n",
      "\u001b[32m[I 2023-04-20 17:27:31,330]\u001b[0m Trial 26 finished with value: 0.689628779181018 and parameters: {'n_neighbors': 21, 'weights': 'uniform', 'algorithm': 'brute', 'leaf_size': 3, 'p': 4}. Best is trial 20 with value: 0.705820770519263.\u001b[0m\n",
      "\u001b[32m[I 2023-04-20 17:27:32,557]\u001b[0m Trial 27 finished with value: 0.689628779181018 and parameters: {'n_neighbors': 21, 'weights': 'uniform', 'algorithm': 'brute', 'leaf_size': 14, 'p': 4}. Best is trial 20 with value: 0.705820770519263.\u001b[0m\n",
      "\u001b[32m[I 2023-04-20 17:27:34,057]\u001b[0m Trial 32 finished with value: 0.6982175783650891 and parameters: {'n_neighbors': 22, 'weights': 'uniform', 'algorithm': 'brute', 'leaf_size': 13, 'p': 2}. Best is trial 20 with value: 0.705820770519263.\u001b[0m\n",
      "\u001b[32m[I 2023-04-20 17:27:34,088]\u001b[0m Trial 31 finished with value: 0.6916874640046075 and parameters: {'n_neighbors': 21, 'weights': 'uniform', 'algorithm': 'brute', 'leaf_size': 48, 'p': 2}. Best is trial 20 with value: 0.705820770519263.\u001b[0m\n",
      "\u001b[32m[I 2023-04-20 17:27:34,805]\u001b[0m Trial 33 finished with value: 0.705716760502382 and parameters: {'n_neighbors': 8, 'weights': 'uniform', 'algorithm': 'brute', 'leaf_size': 47, 'p': 2}. Best is trial 20 with value: 0.705820770519263.\u001b[0m\n",
      "\u001b[32m[I 2023-04-20 17:27:35,338]\u001b[0m Trial 12 finished with value: 0.6926952141057935 and parameters: {'n_neighbors': 4, 'weights': 'distance', 'algorithm': 'ball_tree', 'leaf_size': 79, 'p': 3}. Best is trial 20 with value: 0.705820770519263.\u001b[0m\n",
      "\u001b[32m[I 2023-04-20 17:27:38,051]\u001b[0m Trial 34 finished with value: 0.6860323886639677 and parameters: {'n_neighbors': 42, 'weights': 'uniform', 'algorithm': 'kd_tree', 'leaf_size': 48, 'p': 2}. Best is trial 20 with value: 0.705820770519263.\u001b[0m\n",
      "\u001b[32m[I 2023-04-20 17:27:40,170]\u001b[0m Trial 35 finished with value: 0.6854364998987239 and parameters: {'n_neighbors': 40, 'weights': 'uniform', 'algorithm': 'kd_tree', 'leaf_size': 30, 'p': 2}. Best is trial 20 with value: 0.705820770519263.\u001b[0m\n",
      "\u001b[32m[I 2023-04-20 17:27:41,216]\u001b[0m Trial 36 finished with value: 0.6849232012934519 and parameters: {'n_neighbors': 42, 'weights': 'uniform', 'algorithm': 'kd_tree', 'leaf_size': 30, 'p': 2}. Best is trial 20 with value: 0.705820770519263.\u001b[0m\n",
      "\u001b[32m[I 2023-04-20 17:27:41,854]\u001b[0m Trial 37 finished with value: 0.6831163784728969 and parameters: {'n_neighbors': 41, 'weights': 'uniform', 'algorithm': 'kd_tree', 'leaf_size': 50, 'p': 2}. Best is trial 20 with value: 0.705820770519263.\u001b[0m\n",
      "\u001b[32m[I 2023-04-20 17:27:42,334]\u001b[0m Trial 28 finished with value: 0.7016129032258065 and parameters: {'n_neighbors': 20, 'weights': 'uniform', 'algorithm': 'brute', 'leaf_size': 23, 'p': 3}. Best is trial 20 with value: 0.705820770519263.\u001b[0m\n",
      "\u001b[32m[I 2023-04-20 17:27:43,285]\u001b[0m Trial 29 finished with value: 0.6903114186851211 and parameters: {'n_neighbors': 19, 'weights': 'uniform', 'algorithm': 'brute', 'leaf_size': 13, 'p': 3}. Best is trial 20 with value: 0.705820770519263.\u001b[0m\n",
      "\u001b[32m[I 2023-04-20 17:27:43,552]\u001b[0m Trial 38 finished with value: 0.6787949921752738 and parameters: {'n_neighbors': 43, 'weights': 'uniform', 'algorithm': 'brute', 'leaf_size': 31, 'p': 1}. Best is trial 20 with value: 0.705820770519263.\u001b[0m\n",
      "\u001b[32m[I 2023-04-20 17:27:45,348]\u001b[0m Trial 39 finished with value: 0.7073535699016674 and parameters: {'n_neighbors': 12, 'weights': 'uniform', 'algorithm': 'brute', 'leaf_size': 29, 'p': 1}. Best is trial 39 with value: 0.7073535699016674.\u001b[0m\n",
      "\u001b[32m[I 2023-04-20 17:27:48,770]\u001b[0m Trial 40 finished with value: 0.6865924948142561 and parameters: {'n_neighbors': 11, 'weights': 'uniform', 'algorithm': 'brute', 'leaf_size': 58, 'p': 1}. Best is trial 39 with value: 0.7073535699016674.\u001b[0m\n",
      "\u001b[32m[I 2023-04-20 17:27:50,197]\u001b[0m Trial 41 finished with value: 0.6865924948142561 and parameters: {'n_neighbors': 11, 'weights': 'uniform', 'algorithm': 'brute', 'leaf_size': 56, 'p': 1}. Best is trial 39 with value: 0.7073535699016674.\u001b[0m\n",
      "\u001b[32m[I 2023-04-20 17:27:51,430]\u001b[0m Trial 42 finished with value: 0.6865924948142561 and parameters: {'n_neighbors': 11, 'weights': 'uniform', 'algorithm': 'brute', 'leaf_size': 57, 'p': 1}. Best is trial 39 with value: 0.7073535699016674.\u001b[0m\n",
      "\u001b[32m[I 2023-04-20 17:27:52,123]\u001b[0m Trial 43 finished with value: 0.7027896995708155 and parameters: {'n_neighbors': 10, 'weights': 'uniform', 'algorithm': 'brute', 'leaf_size': 55, 'p': 1}. Best is trial 39 with value: 0.7073535699016674.\u001b[0m\n",
      "\u001b[32m[I 2023-04-20 17:27:52,972]\u001b[0m Trial 45 finished with value: 0.7010645231370846 and parameters: {'n_neighbors': 8, 'weights': 'uniform', 'algorithm': 'brute', 'leaf_size': 58, 'p': 1}. Best is trial 39 with value: 0.7073535699016674.\u001b[0m\n",
      "\u001b[32m[I 2023-04-20 17:27:53,318]\u001b[0m Trial 44 finished with value: 0.7027896995708155 and parameters: {'n_neighbors': 10, 'weights': 'uniform', 'algorithm': 'brute', 'leaf_size': 59, 'p': 1}. Best is trial 39 with value: 0.7073535699016674.\u001b[0m\n",
      "\u001b[32m[I 2023-04-20 17:27:55,992]\u001b[0m Trial 46 finished with value: 0.6791423001949318 and parameters: {'n_neighbors': 99, 'weights': 'uniform', 'algorithm': 'brute', 'leaf_size': 57, 'p': 1}. Best is trial 39 with value: 0.7073535699016674.\u001b[0m\n",
      "\u001b[32m[I 2023-04-20 17:27:57,659]\u001b[0m Trial 47 finished with value: 0.6865875024333269 and parameters: {'n_neighbors': 27, 'weights': 'uniform', 'algorithm': 'brute', 'leaf_size': 42, 'p': 1}. Best is trial 39 with value: 0.7073535699016674.\u001b[0m\n",
      "\u001b[32m[I 2023-04-20 17:27:58,345]\u001b[0m Trial 51 finished with value: 0.6844632225849817 and parameters: {'n_neighbors': 29, 'weights': 'uniform', 'algorithm': 'brute', 'leaf_size': 38, 'p': 2}. Best is trial 39 with value: 0.7073535699016674.\u001b[0m\n",
      "\u001b[32m[I 2023-04-20 17:27:58,647]\u001b[0m Trial 53 finished with value: 0.6920267802799757 and parameters: {'n_neighbors': 28, 'weights': 'distance', 'algorithm': 'brute', 'leaf_size': 42, 'p': 2}. Best is trial 39 with value: 0.7073535699016674.\u001b[0m\n",
      "\u001b[32m[I 2023-04-20 17:27:58,970]\u001b[0m Trial 52 finished with value: 0.6844632225849817 and parameters: {'n_neighbors': 29, 'weights': 'uniform', 'algorithm': 'brute', 'leaf_size': 43, 'p': 2}. Best is trial 39 with value: 0.7073535699016674.\u001b[0m\n",
      "\u001b[32m[I 2023-04-20 17:28:00,221]\u001b[0m Trial 48 finished with value: 0.696126905644829 and parameters: {'n_neighbors': 28, 'weights': 'uniform', 'algorithm': 'brute', 'leaf_size': 42, 'p': 1}. Best is trial 39 with value: 0.7073535699016674.\u001b[0m\n",
      "\u001b[32m[I 2023-04-20 17:28:00,247]\u001b[0m Trial 49 finished with value: 0.696126905644829 and parameters: {'n_neighbors': 28, 'weights': 'uniform', 'algorithm': 'brute', 'leaf_size': 41, 'p': 1}. Best is trial 39 with value: 0.7073535699016674.\u001b[0m\n",
      "\u001b[32m[I 2023-04-20 17:28:00,249]\u001b[0m Trial 50 finished with value: 0.6839024390243903 and parameters: {'n_neighbors': 29, 'weights': 'uniform', 'algorithm': 'brute', 'leaf_size': 41, 'p': 1}. Best is trial 39 with value: 0.7073535699016674.\u001b[0m\n",
      "\u001b[32m[I 2023-04-20 17:28:00,265]\u001b[0m Trial 30 finished with value: 0.7016129032258065 and parameters: {'n_neighbors': 20, 'weights': 'uniform', 'algorithm': 'brute', 'leaf_size': 13, 'p': 3}. Best is trial 39 with value: 0.7073535699016674.\u001b[0m\n",
      "\u001b[32m[I 2023-04-20 17:28:00,316]\u001b[0m Trial 54 finished with value: 0.6892300535008141 and parameters: {'n_neighbors': 2, 'weights': 'distance', 'algorithm': 'ball_tree', 'leaf_size': 34, 'p': 2}. Best is trial 39 with value: 0.7073535699016674.\u001b[0m\n",
      "\u001b[32m[I 2023-04-20 17:28:02,340]\u001b[0m Trial 58 finished with value: 0.7076372315035799 and parameters: {'n_neighbors': 2, 'weights': 'uniform', 'algorithm': 'ball_tree', 'leaf_size': 67, 'p': 1}. Best is trial 58 with value: 0.7076372315035799.\u001b[0m\n",
      "\u001b[32m[I 2023-04-20 17:28:04,220]\u001b[0m Trial 61 finished with value: 0.7061764705882353 and parameters: {'n_neighbors': 2, 'weights': 'uniform', 'algorithm': 'auto', 'leaf_size': 67, 'p': 5}. Best is trial 58 with value: 0.7076372315035799.\u001b[0m\n",
      "\u001b[32m[I 2023-04-20 17:28:05,922]\u001b[0m Trial 55 finished with value: 0.6901605024424284 and parameters: {'n_neighbors': 2, 'weights': 'distance', 'algorithm': 'ball_tree', 'leaf_size': 18, 'p': 7}. Best is trial 58 with value: 0.7076372315035799.\u001b[0m\n",
      "\u001b[32m[I 2023-04-20 17:28:07,023]\u001b[0m Trial 62 finished with value: 0.6890232382391839 and parameters: {'n_neighbors': 15, 'weights': 'uniform', 'algorithm': 'auto', 'leaf_size': 66, 'p': 7}. Best is trial 58 with value: 0.7076372315035799.\u001b[0m\n",
      "\u001b[32m[I 2023-04-20 17:28:07,351]\u001b[0m Trial 56 finished with value: 0.6340792369772561 and parameters: {'n_neighbors': 1, 'weights': 'distance', 'algorithm': 'ball_tree', 'leaf_size': 18, 'p': 5}. Best is trial 58 with value: 0.7076372315035799.\u001b[0m\n",
      "\u001b[32m[I 2023-04-20 17:28:08,447]\u001b[0m Trial 64 finished with value: 0.6727272727272727 and parameters: {'n_neighbors': 5, 'weights': 'distance', 'algorithm': 'auto', 'leaf_size': 71, 'p': 7}. Best is trial 58 with value: 0.7076372315035799.\u001b[0m\n",
      "\u001b[32m[I 2023-04-20 17:28:09,576]\u001b[0m Trial 59 finished with value: 0.6746233613774213 and parameters: {'n_neighbors': 5, 'weights': 'distance', 'algorithm': 'ball_tree', 'leaf_size': 35, 'p': 7}. Best is trial 58 with value: 0.7076372315035799.\u001b[0m\n",
      "\u001b[32m[I 2023-04-20 17:28:12,101]\u001b[0m Trial 65 finished with value: 0.7021510096575944 and parameters: {'n_neighbors': 6, 'weights': 'uniform', 'algorithm': 'auto', 'leaf_size': 70, 'p': 5}. Best is trial 58 with value: 0.7076372315035799.\u001b[0m\n",
      "\u001b[32m[I 2023-04-20 17:28:13,135]\u001b[0m Trial 66 finished with value: 0.6751287711552613 and parameters: {'n_neighbors': 5, 'weights': 'uniform', 'algorithm': 'auto', 'leaf_size': 72, 'p': 4}. Best is trial 58 with value: 0.7076372315035799.\u001b[0m\n",
      "\u001b[32m[I 2023-04-20 17:28:13,136]\u001b[0m Trial 67 finished with value: 0.7021510096575944 and parameters: {'n_neighbors': 6, 'weights': 'uniform', 'algorithm': 'auto', 'leaf_size': 73, 'p': 5}. Best is trial 58 with value: 0.7076372315035799.\u001b[0m\n",
      "\u001b[32m[I 2023-04-20 17:28:15,665]\u001b[0m Trial 69 finished with value: 0.689120151371807 and parameters: {'n_neighbors': 15, 'weights': 'uniform', 'algorithm': 'auto', 'leaf_size': 73, 'p': 8}. Best is trial 58 with value: 0.7076372315035799.\u001b[0m\n",
      "\u001b[32m[I 2023-04-20 17:28:16,186]\u001b[0m Trial 70 finished with value: 0.6870300751879699 and parameters: {'n_neighbors': 15, 'weights': 'uniform', 'algorithm': 'auto', 'leaf_size': 25, 'p': 8}. Best is trial 58 with value: 0.7076372315035799.\u001b[0m\n",
      "\u001b[32m[I 2023-04-20 17:28:16,782]\u001b[0m Trial 60 finished with value: 0.6360462979974278 and parameters: {'n_neighbors': 1, 'weights': 'distance', 'algorithm': 'ball_tree', 'leaf_size': 66, 'p': 7}. Best is trial 58 with value: 0.7076372315035799.\u001b[0m\n",
      "\u001b[32m[I 2023-04-20 17:28:17,514]\u001b[0m Trial 57 finished with value: 0.6360462979974278 and parameters: {'n_neighbors': 1, 'weights': 'distance', 'algorithm': 'ball_tree', 'leaf_size': 66, 'p': 7}. Best is trial 58 with value: 0.7076372315035799.\u001b[0m\n",
      "\u001b[32m[I 2023-04-20 17:28:18,021]\u001b[0m Trial 68 finished with value: 0.7054104093807858 and parameters: {'n_neighbors': 16, 'weights': 'uniform', 'algorithm': 'auto', 'leaf_size': 89, 'p': 5}. Best is trial 58 with value: 0.7076372315035799.\u001b[0m\n",
      "\u001b[32m[I 2023-04-20 17:28:23,186]\u001b[0m Trial 63 finished with value: 0.6906130268199234 and parameters: {'n_neighbors': 15, 'weights': 'uniform', 'algorithm': 'ball_tree', 'leaf_size': 65, 'p': 5}. Best is trial 58 with value: 0.7076372315035799.\u001b[0m\n",
      "\u001b[32m[I 2023-04-20 17:28:28,292]\u001b[0m Trial 71 finished with value: 0.7087378640776699 and parameters: {'n_neighbors': 14, 'weights': 'uniform', 'algorithm': 'ball_tree', 'leaf_size': 64, 'p': 6}. Best is trial 71 with value: 0.7087378640776699.\u001b[0m\n",
      "\u001b[32m[I 2023-04-20 17:28:29,254]\u001b[0m Trial 73 finished with value: 0.6908083317408752 and parameters: {'n_neighbors': 15, 'weights': 'uniform', 'algorithm': 'ball_tree', 'leaf_size': 63, 'p': 3}. Best is trial 71 with value: 0.7087378640776699.\u001b[0m\n",
      "\u001b[32m[I 2023-04-20 17:28:30,631]\u001b[0m Trial 75 finished with value: 0.6885911490052781 and parameters: {'n_neighbors': 34, 'weights': 'uniform', 'algorithm': 'ball_tree', 'leaf_size': 63, 'p': 3}. Best is trial 71 with value: 0.7087378640776699.\u001b[0m\n",
      "\u001b[32m[I 2023-04-20 17:28:32,474]\u001b[0m Trial 77 finished with value: 0.6875631951466128 and parameters: {'n_neighbors': 36, 'weights': 'uniform', 'algorithm': 'auto', 'leaf_size': 92, 'p': 4}. Best is trial 71 with value: 0.7087378640776699.\u001b[0m\n",
      "\u001b[32m[I 2023-04-20 17:28:33,406]\u001b[0m Trial 72 finished with value: 0.7080033347228012 and parameters: {'n_neighbors': 16, 'weights': 'uniform', 'algorithm': 'ball_tree', 'leaf_size': 90, 'p': 8}. Best is trial 71 with value: 0.7087378640776699.\u001b[0m\n",
      "\u001b[32m[I 2023-04-20 17:28:35,302]\u001b[0m Trial 78 finished with value: 0.6899943257045583 and parameters: {'n_neighbors': 17, 'weights': 'uniform', 'algorithm': 'auto', 'leaf_size': 89, 'p': 6}. Best is trial 71 with value: 0.7087378640776699.\u001b[0m\n",
      "\u001b[32m[I 2023-04-20 17:28:36,013]\u001b[0m Trial 74 finished with value: 0.6885911490052781 and parameters: {'n_neighbors': 34, 'weights': 'uniform', 'algorithm': 'ball_tree', 'leaf_size': 63, 'p': 3}. Best is trial 71 with value: 0.7087378640776699.\u001b[0m\n",
      "\u001b[32m[I 2023-04-20 17:28:37,799]\u001b[0m Trial 80 finished with value: 0.6973172230186361 and parameters: {'n_neighbors': 24, 'weights': 'uniform', 'algorithm': 'auto', 'leaf_size': 89, 'p': 6}. Best is trial 71 with value: 0.7087378640776699.\u001b[0m\n",
      "\u001b[32m[I 2023-04-20 17:28:38,164]\u001b[0m Trial 76 finished with value: 0.6908083317408752 and parameters: {'n_neighbors': 15, 'weights': 'uniform', 'algorithm': 'ball_tree', 'leaf_size': 80, 'p': 3}. Best is trial 71 with value: 0.7087378640776699.\u001b[0m\n",
      "\u001b[32m[I 2023-04-20 17:28:39,076]\u001b[0m Trial 81 finished with value: 0.6871072176728242 and parameters: {'n_neighbors': 23, 'weights': 'uniform', 'algorithm': 'auto', 'leaf_size': 90, 'p': 6}. Best is trial 71 with value: 0.7087378640776699.\u001b[0m\n",
      "\u001b[32m[I 2023-04-20 17:28:41,604]\u001b[0m Trial 82 finished with value: 0.6878701050620821 and parameters: {'n_neighbors': 23, 'weights': 'uniform', 'algorithm': 'auto', 'leaf_size': 83, 'p': 6}. Best is trial 71 with value: 0.7087378640776699.\u001b[0m\n",
      "\u001b[32m[I 2023-04-20 17:28:47,414]\u001b[0m Trial 83 finished with value: 0.6840891621829363 and parameters: {'n_neighbors': 25, 'weights': 'uniform', 'algorithm': 'ball_tree', 'leaf_size': 83, 'p': 8}. Best is trial 71 with value: 0.7087378640776699.\u001b[0m\n",
      "\u001b[32m[I 2023-04-20 17:28:50,172]\u001b[0m Trial 84 finished with value: 0.7064600611086862 and parameters: {'n_neighbors': 8, 'weights': 'uniform', 'algorithm': 'ball_tree', 'leaf_size': 77, 'p': 9}. Best is trial 71 with value: 0.7087378640776699.\u001b[0m\n",
      "\u001b[32m[I 2023-04-20 17:28:52,133]\u001b[0m Trial 90 finished with value: 0.7034720724606427 and parameters: {'n_neighbors': 8, 'weights': 'uniform', 'algorithm': 'kd_tree', 'leaf_size': 76, 'p': 9}. Best is trial 71 with value: 0.7087378640776699.\u001b[0m\n",
      "\u001b[32m[I 2023-04-20 17:28:54,725]\u001b[0m Trial 85 finished with value: 0.6812778603268945 and parameters: {'n_neighbors': 7, 'weights': 'uniform', 'algorithm': 'ball_tree', 'leaf_size': 78, 'p': 9}. Best is trial 71 with value: 0.7087378640776699.\u001b[0m\n",
      "\u001b[32m[I 2023-04-20 17:28:55,759]\u001b[0m Trial 79 finished with value: 0.6957595718402635 and parameters: {'n_neighbors': 24, 'weights': 'uniform', 'algorithm': 'ball_tree', 'leaf_size': 92, 'p': 6}. Best is trial 71 with value: 0.7087378640776699.\u001b[0m\n",
      "\u001b[32m[I 2023-04-20 17:28:57,614]\u001b[0m Trial 88 finished with value: 0.7017922694882315 and parameters: {'n_neighbors': 8, 'weights': 'uniform', 'algorithm': 'ball_tree', 'leaf_size': 99, 'p': 9}. Best is trial 71 with value: 0.7087378640776699.\u001b[0m\n",
      "\u001b[32m[I 2023-04-20 17:28:57,946]\u001b[0m Trial 86 finished with value: 0.6959556559228085 and parameters: {'n_neighbors': 24, 'weights': 'uniform', 'algorithm': 'ball_tree', 'leaf_size': 99, 'p': 9}. Best is trial 71 with value: 0.7087378640776699.\u001b[0m\n",
      "\u001b[32m[I 2023-04-20 17:29:04,075]\u001b[0m Trial 96 finished with value: 0.7056501869547154 and parameters: {'n_neighbors': 18, 'weights': 'uniform', 'algorithm': 'ball_tree', 'leaf_size': 9, 'p': 10}. Best is trial 71 with value: 0.7087378640776699.\u001b[0m\n",
      "\u001b[32m[I 2023-04-20 17:29:06,907]\u001b[0m Trial 87 finished with value: 0.7029360967184801 and parameters: {'n_neighbors': 8, 'weights': 'uniform', 'algorithm': 'ball_tree', 'leaf_size': 95, 'p': 6}. Best is trial 71 with value: 0.7087378640776699.\u001b[0m\n",
      "\u001b[32m[I 2023-04-20 17:29:08,139]\u001b[0m Trial 91 finished with value: 0.7064600611086862 and parameters: {'n_neighbors': 8, 'weights': 'uniform', 'algorithm': 'ball_tree', 'leaf_size': 76, 'p': 9}. Best is trial 71 with value: 0.7087378640776699.\u001b[0m\n",
      "\u001b[32m[I 2023-04-20 17:29:08,599]\u001b[0m Trial 89 finished with value: 0.7017922694882315 and parameters: {'n_neighbors': 8, 'weights': 'uniform', 'algorithm': 'ball_tree', 'leaf_size': 97, 'p': 9}. Best is trial 71 with value: 0.7087378640776699.\u001b[0m\n",
      "\u001b[32m[I 2023-04-20 17:29:10,771]\u001b[0m Trial 92 finished with value: 0.6792035398230089 and parameters: {'n_neighbors': 7, 'weights': 'uniform', 'algorithm': 'ball_tree', 'leaf_size': 97, 'p': 10}. Best is trial 71 with value: 0.7087378640776699.\u001b[0m\n",
      "\u001b[32m[I 2023-04-20 17:29:11,428]\u001b[0m Trial 95 finished with value: 0.7083768539795279 and parameters: {'n_neighbors': 18, 'weights': 'uniform', 'algorithm': 'ball_tree', 'leaf_size': 75, 'p': 10}. Best is trial 71 with value: 0.7087378640776699.\u001b[0m\n",
      "\u001b[32m[I 2023-04-20 17:29:11,730]\u001b[0m Trial 97 finished with value: 0.7056501869547154 and parameters: {'n_neighbors': 18, 'weights': 'uniform', 'algorithm': 'ball_tree', 'leaf_size': 9, 'p': 10}. Best is trial 71 with value: 0.7087378640776699.\u001b[0m\n",
      "\u001b[32m[I 2023-04-20 17:29:13,881]\u001b[0m Trial 93 finished with value: 0.683943661971831 and parameters: {'n_neighbors': 9, 'weights': 'uniform', 'algorithm': 'ball_tree', 'leaf_size': 99, 'p': 9}. Best is trial 71 with value: 0.7087378640776699.\u001b[0m\n",
      "\u001b[32m[I 2023-04-20 17:29:14,339]\u001b[0m Trial 98 finished with value: 0.7056501869547154 and parameters: {'n_neighbors': 18, 'weights': 'uniform', 'algorithm': 'ball_tree', 'leaf_size': 9, 'p': 10}. Best is trial 71 with value: 0.7087378640776699.\u001b[0m\n",
      "\u001b[32m[I 2023-04-20 17:29:14,869]\u001b[0m Trial 99 finished with value: 0.7086346235644406 and parameters: {'n_neighbors': 12, 'weights': 'uniform', 'algorithm': 'ball_tree', 'leaf_size': 9, 'p': 10}. Best is trial 71 with value: 0.7087378640776699.\u001b[0m\n",
      "\u001b[32m[I 2023-04-20 17:29:18,822]\u001b[0m Trial 94 finished with value: 0.709731543624161 and parameters: {'n_neighbors': 18, 'weights': 'uniform', 'algorithm': 'ball_tree', 'leaf_size': 100, 'p': 9}. Best is trial 94 with value: 0.709731543624161.\u001b[0m\n"
     ]
    }
   ],
   "source": [
    "import optuna\n",
    "#import accuracy score\n",
    "from sklearn.metrics import accuracy_score, precision_score\n",
    "def objective(trial):\n",
    "    \"\"\"Define the objective function\"\"\"\n",
    "\n",
    "    params = {\n",
    "        'n_neighbors': trial.suggest_int('n_neighbors', 1, 100),\n",
    "        'weights': trial.suggest_categorical('weights', ['uniform', 'distance']),\n",
    "        'algorithm': trial.suggest_categorical('algorithm', ['auto', 'ball_tree', 'kd_tree', 'brute']),\n",
    "        'leaf_size': trial.suggest_int('leaf_size', 1, 100),\n",
    "        'p': trial.suggest_int('p', 1, 10),\n",
    "    }\n",
    "\n",
    "    # Fit the model\n",
    "    optuna_model = KNeighborsClassifier(**params)\n",
    "    optuna_model.fit(x_train, y_train)\n",
    "\n",
    "    # Make predictions\n",
    "    y_pred = optuna_model.predict(x_val)\n",
    "\n",
    "    # Evaluate predictions\n",
    "    accuracy = precision_score(y_val, y_pred)\n",
    "    return accuracy\n",
    "study = optuna.create_study(direction='maximize')\n",
    "study.optimize(objective, n_trials=100, n_jobs=8, timeout=600 * 3)"
   ]
  },
  {
   "cell_type": "code",
   "execution_count": 9,
   "metadata": {},
   "outputs": [],
   "source": [
    "# train knn with the best params\n",
    "trial = study.best_trial\n",
    "params = trial.params\n",
    "knn_clf = KNeighborsClassifier(**params)\n",
    "# knn_clf.fit(x_train, y_train)"
   ]
  },
  {
   "cell_type": "code",
   "execution_count": 10,
   "metadata": {},
   "outputs": [
    {
     "data": {
      "text/plain": [
       "{'n_neighbors': 18,\n",
       " 'weights': 'uniform',\n",
       " 'algorithm': 'ball_tree',\n",
       " 'leaf_size': 100,\n",
       " 'p': 9}"
      ]
     },
     "execution_count": 10,
     "metadata": {},
     "output_type": "execute_result"
    }
   ],
   "source": [
    "params"
   ]
  },
  {
   "cell_type": "code",
   "execution_count": 18,
   "metadata": {},
   "outputs": [
    {
     "name": "stdout",
     "output_type": "stream",
     "text": [
      "precision: 0.70 +/- 0.01\n"
     ]
    }
   ],
   "source": [
    "from sklearn.model_selection import KFold\n",
    "kf = KFold(n_splits=5, shuffle=True, random_state=0)\n",
    "\n",
    "# import cross_val_score\n",
    "from sklearn.model_selection import cross_val_score\n",
    "\n",
    "# evaluate the model using 10-fold cross-validation\n",
    "scores = cross_val_score(knn_clf, x_train, y_train, cv=kf, scoring='precision', n_jobs=8)\n",
    "\n",
    "#compute the mean of the scores and the standard deviation\n",
    "print('precision: {:.2f} +/- {:.2f}'.format(scores.mean(), scores.std()))"
   ]
  },
  {
   "cell_type": "code",
   "execution_count": 12,
   "metadata": {},
   "outputs": [
    {
     "data": {
      "text/html": [
       "<style>#sk-container-id-1 {color: black;background-color: white;}#sk-container-id-1 pre{padding: 0;}#sk-container-id-1 div.sk-toggleable {background-color: white;}#sk-container-id-1 label.sk-toggleable__label {cursor: pointer;display: block;width: 100%;margin-bottom: 0;padding: 0.3em;box-sizing: border-box;text-align: center;}#sk-container-id-1 label.sk-toggleable__label-arrow:before {content: \"▸\";float: left;margin-right: 0.25em;color: #696969;}#sk-container-id-1 label.sk-toggleable__label-arrow:hover:before {color: black;}#sk-container-id-1 div.sk-estimator:hover label.sk-toggleable__label-arrow:before {color: black;}#sk-container-id-1 div.sk-toggleable__content {max-height: 0;max-width: 0;overflow: hidden;text-align: left;background-color: #f0f8ff;}#sk-container-id-1 div.sk-toggleable__content pre {margin: 0.2em;color: black;border-radius: 0.25em;background-color: #f0f8ff;}#sk-container-id-1 input.sk-toggleable__control:checked~div.sk-toggleable__content {max-height: 200px;max-width: 100%;overflow: auto;}#sk-container-id-1 input.sk-toggleable__control:checked~label.sk-toggleable__label-arrow:before {content: \"▾\";}#sk-container-id-1 div.sk-estimator input.sk-toggleable__control:checked~label.sk-toggleable__label {background-color: #d4ebff;}#sk-container-id-1 div.sk-label input.sk-toggleable__control:checked~label.sk-toggleable__label {background-color: #d4ebff;}#sk-container-id-1 input.sk-hidden--visually {border: 0;clip: rect(1px 1px 1px 1px);clip: rect(1px, 1px, 1px, 1px);height: 1px;margin: -1px;overflow: hidden;padding: 0;position: absolute;width: 1px;}#sk-container-id-1 div.sk-estimator {font-family: monospace;background-color: #f0f8ff;border: 1px dotted black;border-radius: 0.25em;box-sizing: border-box;margin-bottom: 0.5em;}#sk-container-id-1 div.sk-estimator:hover {background-color: #d4ebff;}#sk-container-id-1 div.sk-parallel-item::after {content: \"\";width: 100%;border-bottom: 1px solid gray;flex-grow: 1;}#sk-container-id-1 div.sk-label:hover label.sk-toggleable__label {background-color: #d4ebff;}#sk-container-id-1 div.sk-serial::before {content: \"\";position: absolute;border-left: 1px solid gray;box-sizing: border-box;top: 0;bottom: 0;left: 50%;z-index: 0;}#sk-container-id-1 div.sk-serial {display: flex;flex-direction: column;align-items: center;background-color: white;padding-right: 0.2em;padding-left: 0.2em;position: relative;}#sk-container-id-1 div.sk-item {position: relative;z-index: 1;}#sk-container-id-1 div.sk-parallel {display: flex;align-items: stretch;justify-content: center;background-color: white;position: relative;}#sk-container-id-1 div.sk-item::before, #sk-container-id-1 div.sk-parallel-item::before {content: \"\";position: absolute;border-left: 1px solid gray;box-sizing: border-box;top: 0;bottom: 0;left: 50%;z-index: -1;}#sk-container-id-1 div.sk-parallel-item {display: flex;flex-direction: column;z-index: 1;position: relative;background-color: white;}#sk-container-id-1 div.sk-parallel-item:first-child::after {align-self: flex-end;width: 50%;}#sk-container-id-1 div.sk-parallel-item:last-child::after {align-self: flex-start;width: 50%;}#sk-container-id-1 div.sk-parallel-item:only-child::after {width: 0;}#sk-container-id-1 div.sk-dashed-wrapped {border: 1px dashed gray;margin: 0 0.4em 0.5em 0.4em;box-sizing: border-box;padding-bottom: 0.4em;background-color: white;}#sk-container-id-1 div.sk-label label {font-family: monospace;font-weight: bold;display: inline-block;line-height: 1.2em;}#sk-container-id-1 div.sk-label-container {text-align: center;}#sk-container-id-1 div.sk-container {/* jupyter's `normalize.less` sets `[hidden] { display: none; }` but bootstrap.min.css set `[hidden] { display: none !important; }` so we also need the `!important` here to be able to override the default hidden behavior on the sphinx rendered scikit-learn.org. See: https://github.com/scikit-learn/scikit-learn/issues/21755 */display: inline-block !important;position: relative;}#sk-container-id-1 div.sk-text-repr-fallback {display: none;}</style><div id=\"sk-container-id-1\" class=\"sk-top-container\"><div class=\"sk-text-repr-fallback\"><pre>KNeighborsClassifier(algorithm=&#x27;ball_tree&#x27;, leaf_size=100, n_neighbors=18, p=9)</pre><b>In a Jupyter environment, please rerun this cell to show the HTML representation or trust the notebook. <br />On GitHub, the HTML representation is unable to render, please try loading this page with nbviewer.org.</b></div><div class=\"sk-container\" hidden><div class=\"sk-item\"><div class=\"sk-estimator sk-toggleable\"><input class=\"sk-toggleable__control sk-hidden--visually\" id=\"sk-estimator-id-1\" type=\"checkbox\" checked><label for=\"sk-estimator-id-1\" class=\"sk-toggleable__label sk-toggleable__label-arrow\">KNeighborsClassifier</label><div class=\"sk-toggleable__content\"><pre>KNeighborsClassifier(algorithm=&#x27;ball_tree&#x27;, leaf_size=100, n_neighbors=18, p=9)</pre></div></div></div></div></div>"
      ],
      "text/plain": [
       "KNeighborsClassifier(algorithm='ball_tree', leaf_size=100, n_neighbors=18, p=9)"
      ]
     },
     "execution_count": 12,
     "metadata": {},
     "output_type": "execute_result"
    }
   ],
   "source": [
    "knn_clf.fit(x_train, y_train)"
   ]
  },
  {
   "cell_type": "code",
   "execution_count": 13,
   "metadata": {},
   "outputs": [],
   "source": [
    "data_test = pd.read_csv('test.csv')\n",
    "test_target = data_test['cardio']\n",
    "data_test['age'] = round(data_test['age'] / 365)"
   ]
  },
  {
   "cell_type": "code",
   "execution_count": 14,
   "metadata": {},
   "outputs": [
    {
     "data": {
      "text/plain": [
       "(14000,)"
      ]
     },
     "execution_count": 14,
     "metadata": {},
     "output_type": "execute_result"
    }
   ],
   "source": [
    "data_test['cardio'].shape"
   ]
  },
  {
   "cell_type": "code",
   "execution_count": 15,
   "metadata": {},
   "outputs": [],
   "source": [
    "x_test = preprocessor.transform(data_test)\n",
    "y_test = knn_clf.predict(x_test)"
   ]
  },
  {
   "cell_type": "code",
   "execution_count": 16,
   "metadata": {},
   "outputs": [
    {
     "data": {
      "text/plain": [
       "0.7055150884495317"
      ]
     },
     "execution_count": 16,
     "metadata": {},
     "output_type": "execute_result"
    }
   ],
   "source": [
    "from sklearn.metrics import accuracy_score\n",
    "precision_score(data_test['cardio'], y_test)"
   ]
  },
  {
   "cell_type": "code",
   "execution_count": null,
   "metadata": {},
   "outputs": [],
   "source": []
  }
 ],
 "metadata": {
  "kernelspec": {
   "display_name": "Python 3",
   "language": "python",
   "name": "python3"
  },
  "language_info": {
   "codemirror_mode": {
    "name": "ipython",
    "version": 3
   },
   "file_extension": ".py",
   "mimetype": "text/x-python",
   "name": "python",
   "nbconvert_exporter": "python",
   "pygments_lexer": "ipython3",
   "version": "3.8.0"
  },
  "orig_nbformat": 4
 },
 "nbformat": 4,
 "nbformat_minor": 2
}
