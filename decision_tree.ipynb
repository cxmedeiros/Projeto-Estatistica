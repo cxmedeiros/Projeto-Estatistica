{
 "cells": [
  {
   "cell_type": "code",
   "execution_count": 1,
   "metadata": {},
   "outputs": [],
   "source": [
    "import pandas as pd\n",
    "from sklearn.dummy import DummyClassifier\n",
    "from sklearn.model_selection import train_test_split"
   ]
  },
  {
   "cell_type": "code",
   "execution_count": 2,
   "metadata": {},
   "outputs": [],
   "source": [
    "data = pd.read_csv('train.csv')"
   ]
  },
  {
   "cell_type": "code",
   "execution_count": 3,
   "metadata": {},
   "outputs": [],
   "source": [
    "data.head()\n",
    "data['age'] = data['age'] / 365"
   ]
  },
  {
   "cell_type": "code",
   "execution_count": 4,
   "metadata": {},
   "outputs": [],
   "source": [
    "x_train, x_val, y_train, y_val = train_test_split(data.drop('cardio', axis=1), data['cardio'], test_size=0.2, random_state=0)"
   ]
  },
  {
   "cell_type": "code",
   "execution_count": 5,
   "metadata": {},
   "outputs": [
    {
     "data": {
      "text/plain": [
       "0.4988392857142857"
      ]
     },
     "execution_count": 5,
     "metadata": {},
     "output_type": "execute_result"
    }
   ],
   "source": [
    "dummy_clf = DummyClassifier(strategy='most_frequent')\n",
    "dummy_clf.fit(x_train, y_train)\n",
    "\n",
    "dummy_clf.score(x_val, y_val)"
   ]
  },
  {
   "cell_type": "code",
   "execution_count": 6,
   "metadata": {},
   "outputs": [
    {
     "data": {
      "text/plain": [
       "0.631875"
      ]
     },
     "execution_count": 6,
     "metadata": {},
     "output_type": "execute_result"
    }
   ],
   "source": [
    "from sklearn.tree import DecisionTreeClassifier\n",
    "\n",
    "dt_clf = DecisionTreeClassifier()\n",
    "dt_clf.fit(x_train, y_train)\n",
    "\n",
    "dt_clf.score(x_val, y_val)"
   ]
  },
  {
   "cell_type": "code",
   "execution_count": 7,
   "metadata": {},
   "outputs": [],
   "source": [
    "#import min max scaler, one hot encoder, and column transformer\n",
    "from sklearn.preprocessing import MinMaxScaler, OneHotEncoder, StandardScaler\n",
    "from sklearn.compose import ColumnTransformer\n",
    "# pode deixar dessa forma, se tiver mt ruim a gente muda\n",
    "x_train, x_val, y_train, y_val = train_test_split(data.drop('cardio', axis=1), data['cardio'], test_size=0.2, random_state=0)\n",
    "var_to_be_used = ['ap_hi', 'ap_lo', 'age', 'weight', 'gluc', 'cholesterol', 'smoke', 'alco', 'active']\n",
    "\n",
    "numerical_features = ['ap_hi', 'ap_lo', 'weight', 'age']\n",
    "categorical_features = ['gluc', 'cholesterol', 'smoke', 'alco', 'active',]\n",
    "\n",
    "# create column transformer\n",
    "preprocessor = ColumnTransformer(\n",
    "    transformers=[\n",
    "        ('num', MinMaxScaler(), numerical_features),\n",
    "        ('cat', OneHotEncoder(), categorical_features)\n",
    "    ]\n",
    ")\n",
    "\n",
    "data_transformed = preprocessor.fit_transform(x_train)\n",
    "val_transformed = preprocessor.transform(x_val)"
   ]
  },
  {
   "cell_type": "code",
   "execution_count": 10,
   "metadata": {},
   "outputs": [
    {
     "name": "stderr",
     "output_type": "stream",
     "text": [
      "\u001b[32m[I 2023-04-20 17:16:54,556]\u001b[0m A new study created in memory with name: no-name-40b374a9-97d0-4bed-bfa9-945d0a0af13b\u001b[0m\n",
      "/home/bmmuc/.pyenv/versions/3.8.0/envs/estat/lib/python3.8/site-packages/sklearn/tree/_classes.py:269: FutureWarning: `max_features='auto'` has been deprecated in 1.1 and will be removed in 1.3. To keep the past behaviour, explicitly set `max_features='sqrt'`.\n",
      "  warnings.warn(\n",
      "/home/bmmuc/.pyenv/versions/3.8.0/envs/estat/lib/python3.8/site-packages/sklearn/tree/_classes.py:269: FutureWarning: `max_features='auto'` has been deprecated in 1.1 and will be removed in 1.3. To keep the past behaviour, explicitly set `max_features='sqrt'`.\n",
      "  warnings.warn(\n",
      "\u001b[32m[I 2023-04-20 17:16:54,621]\u001b[0m Trial 1 finished with value: 0.6813868613138686 and parameters: {'criterion': 'gini', 'max_depth': 80, 'min_samples_split': 21, 'min_samples_leaf': 25, 'splitter': 'random', 'max_features': 'auto', 'max_leaf_nodes': 13}. Best is trial 1 with value: 0.6813868613138686.\u001b[0m\n",
      "/home/bmmuc/.pyenv/versions/3.8.0/envs/estat/lib/python3.8/site-packages/sklearn/tree/_classes.py:269: FutureWarning: `max_features='auto'` has been deprecated in 1.1 and will be removed in 1.3. To keep the past behaviour, explicitly set `max_features='sqrt'`.\n",
      "  warnings.warn(\n",
      "\u001b[32m[I 2023-04-20 17:16:54,633]\u001b[0m Trial 2 finished with value: 0.6199807877041307 and parameters: {'criterion': 'gini', 'max_depth': 98, 'min_samples_split': 73, 'min_samples_leaf': 38, 'splitter': 'random', 'max_features': 'sqrt', 'max_leaf_nodes': 20}. Best is trial 1 with value: 0.6813868613138686.\u001b[0m\n",
      "\u001b[32m[I 2023-04-20 17:16:54,643]\u001b[0m Trial 4 finished with value: 0.6142160540135033 and parameters: {'criterion': 'gini', 'max_depth': 16, 'min_samples_split': 23, 'min_samples_leaf': 29, 'splitter': 'random', 'max_features': 'auto', 'max_leaf_nodes': 8}. Best is trial 1 with value: 0.6813868613138686.\u001b[0m\n",
      "\u001b[32m[I 2023-04-20 17:16:54,649]\u001b[0m Trial 0 finished with value: 0.7351381013352845 and parameters: {'criterion': 'gini', 'max_depth': 17, 'min_samples_split': 87, 'min_samples_leaf': 77, 'splitter': 'best', 'max_features': 'log2', 'max_leaf_nodes': 52}. Best is trial 0 with value: 0.7351381013352845.\u001b[0m\n",
      "/home/bmmuc/.pyenv/versions/3.8.0/envs/estat/lib/python3.8/site-packages/sklearn/tree/_classes.py:269: FutureWarning: `max_features='auto'` has been deprecated in 1.1 and will be removed in 1.3. To keep the past behaviour, explicitly set `max_features='sqrt'`.\n",
      "  warnings.warn(\n",
      "\u001b[32m[I 2023-04-20 17:16:54,657]\u001b[0m Trial 3 finished with value: 0.7408131352619234 and parameters: {'criterion': 'entropy', 'max_depth': 17, 'min_samples_split': 54, 'min_samples_leaf': 14, 'splitter': 'best', 'max_features': 'auto', 'max_leaf_nodes': 94}. Best is trial 3 with value: 0.7408131352619234.\u001b[0m\n",
      "\u001b[32m[I 2023-04-20 17:16:54,671]\u001b[0m Trial 8 finished with value: 0.7789450156459544 and parameters: {'criterion': 'entropy', 'max_depth': 18, 'min_samples_split': 10, 'min_samples_leaf': 56, 'splitter': 'best', 'max_features': 'sqrt', 'max_leaf_nodes': 28}. Best is trial 8 with value: 0.7789450156459544.\u001b[0m\n",
      "\u001b[32m[I 2023-04-20 17:16:54,683]\u001b[0m Trial 7 finished with value: 0.7562874251497006 and parameters: {'criterion': 'entropy', 'max_depth': 24, 'min_samples_split': 35, 'min_samples_leaf': 98, 'splitter': 'best', 'max_features': 'auto', 'max_leaf_nodes': 79}. Best is trial 8 with value: 0.7789450156459544.\u001b[0m\n",
      "\u001b[32m[I 2023-04-20 17:16:54,684]\u001b[0m Trial 5 finished with value: 0.7751794871794871 and parameters: {'criterion': 'gini', 'max_depth': 28, 'min_samples_split': 49, 'min_samples_leaf': 15, 'splitter': 'best', 'max_features': 'sqrt', 'max_leaf_nodes': 60}. Best is trial 8 with value: 0.7789450156459544.\u001b[0m\n",
      "\u001b[32m[I 2023-04-20 17:16:54,706]\u001b[0m Trial 12 finished with value: 0.6722417048826544 and parameters: {'criterion': 'gini', 'max_depth': 91, 'min_samples_split': 4, 'min_samples_leaf': 1, 'splitter': 'random', 'max_features': 'log2', 'max_leaf_nodes': 41}. Best is trial 8 with value: 0.7789450156459544.\u001b[0m\n",
      "\u001b[32m[I 2023-04-20 17:16:54,713]\u001b[0m Trial 6 finished with value: 0.6650051921079958 and parameters: {'criterion': 'gini', 'max_depth': 33, 'min_samples_split': 17, 'min_samples_leaf': 50, 'splitter': 'random', 'max_features': None, 'max_leaf_nodes': 42}. Best is trial 8 with value: 0.7789450156459544.\u001b[0m\n",
      "\u001b[32m[I 2023-04-20 17:16:54,716]\u001b[0m Trial 10 finished with value: 0.7673594709494568 and parameters: {'criterion': 'entropy', 'max_depth': 93, 'min_samples_split': 42, 'min_samples_leaf': 71, 'splitter': 'best', 'max_features': 'log2', 'max_leaf_nodes': 9}. Best is trial 8 with value: 0.7789450156459544.\u001b[0m\n",
      "\u001b[32m[I 2023-04-20 17:16:54,718]\u001b[0m Trial 9 finished with value: 0.7470748829953198 and parameters: {'criterion': 'gini', 'max_depth': 68, 'min_samples_split': 11, 'min_samples_leaf': 89, 'splitter': 'best', 'max_features': 'auto', 'max_leaf_nodes': 58}. Best is trial 8 with value: 0.7789450156459544.\u001b[0m\n",
      "\u001b[32m[I 2023-04-20 17:16:54,754]\u001b[0m Trial 11 finished with value: 0.7472090823084201 and parameters: {'criterion': 'gini', 'max_depth': 43, 'min_samples_split': 61, 'min_samples_leaf': 83, 'splitter': 'best', 'max_features': 'log2', 'max_leaf_nodes': 47}. Best is trial 8 with value: 0.7789450156459544.\u001b[0m\n",
      "\u001b[32m[I 2023-04-20 17:16:54,823]\u001b[0m Trial 14 finished with value: 0.6935828877005348 and parameters: {'criterion': 'gini', 'max_depth': 5, 'min_samples_split': 9, 'min_samples_leaf': 98, 'splitter': 'random', 'max_features': None, 'max_leaf_nodes': 27}. Best is trial 8 with value: 0.7789450156459544.\u001b[0m\n",
      "\u001b[32m[I 2023-04-20 17:16:54,842]\u001b[0m Trial 15 finished with value: 0.6427076064200977 and parameters: {'criterion': 'entropy', 'max_depth': 9, 'min_samples_split': 86, 'min_samples_leaf': 44, 'splitter': 'random', 'max_features': 'sqrt', 'max_leaf_nodes': 43}. Best is trial 8 with value: 0.7789450156459544.\u001b[0m\n",
      "\u001b[32m[I 2023-04-20 17:16:54,852]\u001b[0m Trial 13 finished with value: 0.7441860465116279 and parameters: {'criterion': 'gini', 'max_depth': 83, 'min_samples_split': 76, 'min_samples_leaf': 23, 'splitter': 'best', 'max_features': 'log2', 'max_leaf_nodes': 70}. Best is trial 8 with value: 0.7789450156459544.\u001b[0m\n",
      "\u001b[32m[I 2023-04-20 17:16:54,887]\u001b[0m Trial 16 finished with value: 0.6334286194720027 and parameters: {'criterion': 'gini', 'max_depth': 42, 'min_samples_split': 8, 'min_samples_leaf': 15, 'splitter': 'random', 'max_features': None, 'max_leaf_nodes': 71}. Best is trial 8 with value: 0.7789450156459544.\u001b[0m\n",
      "\u001b[32m[I 2023-04-20 17:16:54,928]\u001b[0m Trial 18 finished with value: 0.7256667821267752 and parameters: {'criterion': 'entropy', 'max_depth': 39, 'min_samples_split': 62, 'min_samples_leaf': 64, 'splitter': 'best', 'max_features': 'sqrt', 'max_leaf_nodes': 27}. Best is trial 8 with value: 0.7789450156459544.\u001b[0m\n",
      "\u001b[32m[I 2023-04-20 17:16:54,953]\u001b[0m Trial 19 finished with value: 0.7041970344307615 and parameters: {'criterion': 'entropy', 'max_depth': 4, 'min_samples_split': 96, 'min_samples_leaf': 59, 'splitter': 'best', 'max_features': 'sqrt', 'max_leaf_nodes': 29}. Best is trial 8 with value: 0.7789450156459544.\u001b[0m\n",
      "\u001b[32m[I 2023-04-20 17:16:54,967]\u001b[0m Trial 20 finished with value: 0.7724438902743143 and parameters: {'criterion': 'entropy', 'max_depth': 6, 'min_samples_split': 99, 'min_samples_leaf': 61, 'splitter': 'best', 'max_features': 'sqrt', 'max_leaf_nodes': 26}. Best is trial 8 with value: 0.7789450156459544.\u001b[0m\n",
      "\u001b[32m[I 2023-04-20 17:16:54,983]\u001b[0m Trial 17 finished with value: 0.7408424908424909 and parameters: {'criterion': 'entropy', 'max_depth': 44, 'min_samples_split': 62, 'min_samples_leaf': 60, 'splitter': 'best', 'max_features': 'sqrt', 'max_leaf_nodes': 71}. Best is trial 8 with value: 0.7789450156459544.\u001b[0m\n",
      "\u001b[32m[I 2023-04-20 17:16:55,042]\u001b[0m Trial 21 finished with value: 0.7827675118177911 and parameters: {'criterion': 'entropy', 'max_depth': 48, 'min_samples_split': 35, 'min_samples_leaf': 60, 'splitter': 'best', 'max_features': 'sqrt', 'max_leaf_nodes': 71}. Best is trial 21 with value: 0.7827675118177911.\u001b[0m\n",
      "\u001b[32m[I 2023-04-20 17:16:55,043]\u001b[0m Trial 22 finished with value: 0.7595703125 and parameters: {'criterion': 'entropy', 'max_depth': 55, 'min_samples_split': 34, 'min_samples_leaf': 62, 'splitter': 'best', 'max_features': 'sqrt', 'max_leaf_nodes': 30}. Best is trial 21 with value: 0.7827675118177911.\u001b[0m\n",
      "\u001b[32m[I 2023-04-20 17:16:55,044]\u001b[0m Trial 24 finished with value: 0.7546894539391413 and parameters: {'criterion': 'entropy', 'max_depth': 58, 'min_samples_split': 34, 'min_samples_leaf': 66, 'splitter': 'best', 'max_features': 'sqrt', 'max_leaf_nodes': 29}. Best is trial 21 with value: 0.7827675118177911.\u001b[0m\n",
      "\u001b[32m[I 2023-04-20 17:16:55,077]\u001b[0m Trial 23 finished with value: 0.7343505477308294 and parameters: {'criterion': 'entropy', 'max_depth': 55, 'min_samples_split': 100, 'min_samples_leaf': 62, 'splitter': 'best', 'max_features': 'sqrt', 'max_leaf_nodes': 31}. Best is trial 21 with value: 0.7827675118177911.\u001b[0m\n",
      "\u001b[32m[I 2023-04-20 17:16:55,148]\u001b[0m Trial 26 finished with value: 0.7641141449394375 and parameters: {'criterion': 'entropy', 'max_depth': 58, 'min_samples_split': 34, 'min_samples_leaf': 36, 'splitter': 'best', 'max_features': 'sqrt', 'max_leaf_nodes': 61}. Best is trial 21 with value: 0.7827675118177911.\u001b[0m\n",
      "\u001b[32m[I 2023-04-20 17:16:55,153]\u001b[0m Trial 25 finished with value: 0.7422053231939163 and parameters: {'criterion': 'entropy', 'max_depth': 55, 'min_samples_split': 34, 'min_samples_leaf': 59, 'splitter': 'best', 'max_features': 'sqrt', 'max_leaf_nodes': 61}. Best is trial 21 with value: 0.7827675118177911.\u001b[0m\n",
      "\u001b[32m[I 2023-04-20 17:16:55,154]\u001b[0m Trial 28 finished with value: 0.6666666666666666 and parameters: {'criterion': 'entropy', 'max_depth': 59, 'min_samples_split': 35, 'min_samples_leaf': 53, 'splitter': 'best', 'max_features': 'sqrt', 'max_leaf_nodes': 32}. Best is trial 21 with value: 0.7827675118177911.\u001b[0m\n",
      "\u001b[32m[I 2023-04-20 17:16:55,170]\u001b[0m Trial 27 finished with value: 0.7616737416616131 and parameters: {'criterion': 'entropy', 'max_depth': 54, 'min_samples_split': 34, 'min_samples_leaf': 40, 'splitter': 'best', 'max_features': 'sqrt', 'max_leaf_nodes': 36}. Best is trial 21 with value: 0.7827675118177911.\u001b[0m\n",
      "\u001b[32m[I 2023-04-20 17:16:55,260]\u001b[0m Trial 31 finished with value: 0.7350760103819058 and parameters: {'criterion': 'entropy', 'max_depth': 28, 'min_samples_split': 46, 'min_samples_leaf': 49, 'splitter': 'best', 'max_features': 'sqrt', 'max_leaf_nodes': 62}. Best is trial 21 with value: 0.7827675118177911.\u001b[0m\n",
      "\u001b[32m[I 2023-04-20 17:16:55,262]\u001b[0m Trial 30 finished with value: 0.7484860718611224 and parameters: {'criterion': 'entropy', 'max_depth': 29, 'min_samples_split': 46, 'min_samples_leaf': 51, 'splitter': 'best', 'max_features': 'sqrt', 'max_leaf_nodes': 61}. Best is trial 21 with value: 0.7827675118177911.\u001b[0m\n",
      "\u001b[32m[I 2023-04-20 17:16:55,268]\u001b[0m Trial 29 finished with value: 0.7284236804564908 and parameters: {'criterion': 'entropy', 'max_depth': 28, 'min_samples_split': 45, 'min_samples_leaf': 50, 'splitter': 'best', 'max_features': 'sqrt', 'max_leaf_nodes': 62}. Best is trial 21 with value: 0.7827675118177911.\u001b[0m\n",
      "\u001b[32m[I 2023-04-20 17:16:55,274]\u001b[0m Trial 32 finished with value: 0.7491937013849365 and parameters: {'criterion': 'entropy', 'max_depth': 28, 'min_samples_split': 46, 'min_samples_leaf': 41, 'splitter': 'best', 'max_features': 'sqrt', 'max_leaf_nodes': 61}. Best is trial 21 with value: 0.7827675118177911.\u001b[0m\n",
      "\u001b[32m[I 2023-04-20 17:16:55,368]\u001b[0m Trial 35 finished with value: 0.7222222222222222 and parameters: {'criterion': 'gini', 'max_depth': 31, 'min_samples_split': 46, 'min_samples_leaf': 74, 'splitter': 'best', 'max_features': 'sqrt', 'max_leaf_nodes': 80}. Best is trial 21 with value: 0.7827675118177911.\u001b[0m\n",
      "\u001b[32m[I 2023-04-20 17:16:55,370]\u001b[0m Trial 34 finished with value: 0.7406163571710787 and parameters: {'criterion': 'entropy', 'max_depth': 29, 'min_samples_split': 43, 'min_samples_leaf': 79, 'splitter': 'best', 'max_features': 'sqrt', 'max_leaf_nodes': 88}. Best is trial 21 with value: 0.7827675118177911.\u001b[0m\n",
      "\u001b[32m[I 2023-04-20 17:16:55,374]\u001b[0m Trial 33 finished with value: 0.7648936170212766 and parameters: {'criterion': 'entropy', 'max_depth': 30, 'min_samples_split': 47, 'min_samples_leaf': 49, 'splitter': 'best', 'max_features': 'sqrt', 'max_leaf_nodes': 85}. Best is trial 21 with value: 0.7827675118177911.\u001b[0m\n",
      "\u001b[32m[I 2023-04-20 17:16:55,384]\u001b[0m Trial 36 finished with value: 0.7564766839378239 and parameters: {'criterion': 'gini', 'max_depth': 30, 'min_samples_split': 49, 'min_samples_leaf': 80, 'splitter': 'best', 'max_features': 'sqrt', 'max_leaf_nodes': 85}. Best is trial 21 with value: 0.7827675118177911.\u001b[0m\n",
      "\u001b[32m[I 2023-04-20 17:16:55,478]\u001b[0m Trial 39 finished with value: 0.7487437185929648 and parameters: {'criterion': 'gini', 'max_depth': 17, 'min_samples_split': 72, 'min_samples_leaf': 72, 'splitter': 'best', 'max_features': 'sqrt', 'max_leaf_nodes': 19}. Best is trial 21 with value: 0.7827675118177911.\u001b[0m\n",
      "\u001b[32m[I 2023-04-20 17:16:55,486]\u001b[0m Trial 37 finished with value: 0.6653709102688694 and parameters: {'criterion': 'entropy', 'max_depth': 15, 'min_samples_split': 24, 'min_samples_leaf': 75, 'splitter': 'best', 'max_features': 'sqrt', 'max_leaf_nodes': 17}. Best is trial 21 with value: 0.7827675118177911.\u001b[0m\n",
      "\u001b[32m[I 2023-04-20 17:16:55,490]\u001b[0m Trial 38 finished with value: 0.738626064890339 and parameters: {'criterion': 'entropy', 'max_depth': 17, 'min_samples_split': 25, 'min_samples_leaf': 71, 'splitter': 'best', 'max_features': 'sqrt', 'max_leaf_nodes': 18}. Best is trial 21 with value: 0.7827675118177911.\u001b[0m\n",
      "\u001b[32m[I 2023-04-20 17:16:55,515]\u001b[0m Trial 40 finished with value: 0.7481015002778292 and parameters: {'criterion': 'gini', 'max_depth': 15, 'min_samples_split': 26, 'min_samples_leaf': 71, 'splitter': 'best', 'max_features': 'sqrt', 'max_leaf_nodes': 52}. Best is trial 21 with value: 0.7827675118177911.\u001b[0m\n",
      "\u001b[32m[I 2023-04-20 17:16:55,604]\u001b[0m Trial 41 finished with value: 0.7647058823529411 and parameters: {'criterion': 'gini', 'max_depth': 16, 'min_samples_split': 22, 'min_samples_leaf': 30, 'splitter': 'best', 'max_features': None, 'max_leaf_nodes': 15}. Best is trial 21 with value: 0.7827675118177911.\u001b[0m\n",
      "\u001b[32m[I 2023-04-20 17:16:55,606]\u001b[0m Trial 42 finished with value: 0.7647058823529411 and parameters: {'criterion': 'gini', 'max_depth': 17, 'min_samples_split': 23, 'min_samples_leaf': 71, 'splitter': 'best', 'max_features': None, 'max_leaf_nodes': 16}. Best is trial 21 with value: 0.7827675118177911.\u001b[0m\n",
      "\u001b[32m[I 2023-04-20 17:16:55,624]\u001b[0m Trial 43 finished with value: 0.7600554785020804 and parameters: {'criterion': 'gini', 'max_depth': 16, 'min_samples_split': 24, 'min_samples_leaf': 32, 'splitter': 'best', 'max_features': None, 'max_leaf_nodes': 53}. Best is trial 21 with value: 0.7827675118177911.\u001b[0m\n",
      "\u001b[32m[I 2023-04-20 17:16:55,626]\u001b[0m Trial 44 finished with value: 0.7647058823529411 and parameters: {'criterion': 'gini', 'max_depth': 17, 'min_samples_split': 25, 'min_samples_leaf': 69, 'splitter': 'best', 'max_features': None, 'max_leaf_nodes': 18}. Best is trial 21 with value: 0.7827675118177911.\u001b[0m\n",
      "\u001b[32m[I 2023-04-20 17:16:55,704]\u001b[0m Trial 45 finished with value: 0.6045544554455445 and parameters: {'criterion': 'entropy', 'max_depth': 10, 'min_samples_split': 55, 'min_samples_leaf': 55, 'splitter': 'best', 'max_features': 'log2', 'max_leaf_nodes': 2}. Best is trial 21 with value: 0.7827675118177911.\u001b[0m\n",
      "\u001b[32m[I 2023-04-20 17:16:55,722]\u001b[0m Trial 46 finished with value: 0.7803398058252428 and parameters: {'criterion': 'gini', 'max_depth': 1, 'min_samples_split': 57, 'min_samples_leaf': 86, 'splitter': 'best', 'max_features': 'log2', 'max_leaf_nodes': 2}. Best is trial 21 with value: 0.7827675118177911.\u001b[0m\n",
      "\u001b[32m[I 2023-04-20 17:16:55,740]\u001b[0m Trial 47 finished with value: 0.6410722398909586 and parameters: {'criterion': 'gini', 'max_depth': 10, 'min_samples_split': 40, 'min_samples_leaf': 88, 'splitter': 'best', 'max_features': 'log2', 'max_leaf_nodes': 3}. Best is trial 21 with value: 0.7827675118177911.\u001b[0m\n",
      "\u001b[32m[I 2023-04-20 17:16:55,765]\u001b[0m Trial 48 finished with value: 0.7485561972456686 and parameters: {'criterion': 'entropy', 'max_depth': 69, 'min_samples_split': 56, 'min_samples_leaf': 55, 'splitter': 'best', 'max_features': 'log2', 'max_leaf_nodes': 13}. Best is trial 21 with value: 0.7827675118177911.\u001b[0m\n",
      "/home/bmmuc/.pyenv/versions/3.8.0/envs/estat/lib/python3.8/site-packages/sklearn/tree/_classes.py:269: FutureWarning: `max_features='auto'` has been deprecated in 1.1 and will be removed in 1.3. To keep the past behaviour, explicitly set `max_features='sqrt'`.\n",
      "  warnings.warn(\n",
      "/home/bmmuc/.pyenv/versions/3.8.0/envs/estat/lib/python3.8/site-packages/sklearn/tree/_classes.py:269: FutureWarning: `max_features='auto'` has been deprecated in 1.1 and will be removed in 1.3. To keep the past behaviour, explicitly set `max_features='sqrt'`.\n",
      "  warnings.warn(\n",
      "\u001b[32m[I 2023-04-20 17:16:55,841]\u001b[0m Trial 49 finished with value: 0.6608832807570978 and parameters: {'criterion': 'entropy', 'max_depth': 78, 'min_samples_split': 15, 'min_samples_leaf': 55, 'splitter': 'random', 'max_features': 'log2', 'max_leaf_nodes': 4}. Best is trial 21 with value: 0.7827675118177911.\u001b[0m\n",
      "/home/bmmuc/.pyenv/versions/3.8.0/envs/estat/lib/python3.8/site-packages/sklearn/tree/_classes.py:269: FutureWarning: `max_features='auto'` has been deprecated in 1.1 and will be removed in 1.3. To keep the past behaviour, explicitly set `max_features='sqrt'`.\n",
      "  warnings.warn(\n",
      "\u001b[32m[I 2023-04-20 17:16:55,852]\u001b[0m Trial 52 finished with value: 0.6880796976983854 and parameters: {'criterion': 'entropy', 'max_depth': 67, 'min_samples_split': 40, 'min_samples_leaf': 88, 'splitter': 'random', 'max_features': 'log2', 'max_leaf_nodes': 6}. Best is trial 21 with value: 0.7827675118177911.\u001b[0m\n",
      "\u001b[32m[I 2023-04-20 17:16:55,854]\u001b[0m Trial 50 finished with value: 0.6019184652278178 and parameters: {'criterion': 'entropy', 'max_depth': 71, 'min_samples_split': 55, 'min_samples_leaf': 88, 'splitter': 'random', 'max_features': 'log2', 'max_leaf_nodes': 2}. Best is trial 21 with value: 0.7827675118177911.\u001b[0m\n",
      "/home/bmmuc/.pyenv/versions/3.8.0/envs/estat/lib/python3.8/site-packages/sklearn/tree/_classes.py:269: FutureWarning: `max_features='auto'` has been deprecated in 1.1 and will be removed in 1.3. To keep the past behaviour, explicitly set `max_features='sqrt'`.\n",
      "  warnings.warn(\n",
      "\u001b[32m[I 2023-04-20 17:16:55,882]\u001b[0m Trial 51 finished with value: 0.6609959789669038 and parameters: {'criterion': 'entropy', 'max_depth': 72, 'min_samples_split': 57, 'min_samples_leaf': 88, 'splitter': 'random', 'max_features': 'auto', 'max_leaf_nodes': 8}. Best is trial 21 with value: 0.7827675118177911.\u001b[0m\n",
      "\u001b[32m[I 2023-04-20 17:16:55,949]\u001b[0m Trial 53 finished with value: 0.6210884353741497 and parameters: {'criterion': 'entropy', 'max_depth': 71, 'min_samples_split': 14, 'min_samples_leaf': 7, 'splitter': 'random', 'max_features': 'auto', 'max_leaf_nodes': 23}. Best is trial 21 with value: 0.7827675118177911.\u001b[0m\n",
      "\u001b[32m[I 2023-04-20 17:16:55,952]\u001b[0m Trial 54 finished with value: 0.574839708158302 and parameters: {'criterion': 'gini', 'max_depth': 9, 'min_samples_split': 16, 'min_samples_leaf': 8, 'splitter': 'random', 'max_features': 'auto', 'max_leaf_nodes': 24}. Best is trial 21 with value: 0.7827675118177911.\u001b[0m\n",
      "\u001b[32m[I 2023-04-20 17:16:55,973]\u001b[0m Trial 56 finished with value: 0.6985074626865672 and parameters: {'criterion': 'gini', 'max_depth': 23, 'min_samples_split': 78, 'min_samples_leaf': 3, 'splitter': 'random', 'max_features': 'auto', 'max_leaf_nodes': 24}. Best is trial 21 with value: 0.7827675118177911.\u001b[0m\n",
      "/home/bmmuc/.pyenv/versions/3.8.0/envs/estat/lib/python3.8/site-packages/sklearn/tree/_classes.py:269: FutureWarning: `max_features='auto'` has been deprecated in 1.1 and will be removed in 1.3. To keep the past behaviour, explicitly set `max_features='sqrt'`.\n",
      "  warnings.warn(\n",
      "/home/bmmuc/.pyenv/versions/3.8.0/envs/estat/lib/python3.8/site-packages/sklearn/tree/_classes.py:269: FutureWarning: `max_features='auto'` has been deprecated in 1.1 and will be removed in 1.3. To keep the past behaviour, explicitly set `max_features='sqrt'`.\n",
      "  warnings.warn(\n",
      "\u001b[32m[I 2023-04-20 17:16:55,997]\u001b[0m Trial 55 finished with value: 0.6836298932384341 and parameters: {'criterion': 'gini', 'max_depth': 1, 'min_samples_split': 14, 'min_samples_leaf': 90, 'splitter': 'random', 'max_features': 'auto', 'max_leaf_nodes': 24}. Best is trial 21 with value: 0.7827675118177911.\u001b[0m\n",
      "/home/bmmuc/.pyenv/versions/3.8.0/envs/estat/lib/python3.8/site-packages/sklearn/tree/_classes.py:269: FutureWarning: `max_features='auto'` has been deprecated in 1.1 and will be removed in 1.3. To keep the past behaviour, explicitly set `max_features='sqrt'`.\n",
      "  warnings.warn(\n",
      "\u001b[32m[I 2023-04-20 17:16:56,086]\u001b[0m Trial 58 finished with value: 0.7689825768982577 and parameters: {'criterion': 'gini', 'max_depth': 2, 'min_samples_split': 79, 'min_samples_leaf': 94, 'splitter': 'best', 'max_features': 'auto', 'max_leaf_nodes': 10}. Best is trial 21 with value: 0.7827675118177911.\u001b[0m\n",
      "\u001b[32m[I 2023-04-20 17:16:56,089]\u001b[0m Trial 59 finished with value: 0.7539803707742639 and parameters: {'criterion': 'gini', 'max_depth': 100, 'min_samples_split': 68, 'min_samples_leaf': 1, 'splitter': 'best', 'max_features': 'auto', 'max_leaf_nodes': 11}. Best is trial 21 with value: 0.7827675118177911.\u001b[0m\n",
      "\u001b[32m[I 2023-04-20 17:16:56,090]\u001b[0m Trial 60 finished with value: 0.6045544554455445 and parameters: {'criterion': 'gini', 'max_depth': 1, 'min_samples_split': 80, 'min_samples_leaf': 4, 'splitter': 'best', 'max_features': 'log2', 'max_leaf_nodes': 8}. Best is trial 21 with value: 0.7827675118177911.\u001b[0m\n",
      "\u001b[32m[I 2023-04-20 17:16:56,095]\u001b[0m Trial 57 finished with value: 0.7608738437315489 and parameters: {'criterion': 'gini', 'max_depth': 2, 'min_samples_split': 66, 'min_samples_leaf': 12, 'splitter': 'best', 'max_features': 'auto', 'max_leaf_nodes': 22}. Best is trial 21 with value: 0.7827675118177911.\u001b[0m\n",
      "\u001b[32m[I 2023-04-20 17:16:56,199]\u001b[0m Trial 62 finished with value: 0.6120353982300885 and parameters: {'criterion': 'gini', 'max_depth': 2, 'min_samples_split': 65, 'min_samples_leaf': 64, 'splitter': 'best', 'max_features': 'log2', 'max_leaf_nodes': 11}. Best is trial 21 with value: 0.7827675118177911.\u001b[0m\n",
      "\u001b[32m[I 2023-04-20 17:16:56,208]\u001b[0m Trial 61 finished with value: 0.6045544554455445 and parameters: {'criterion': 'gini', 'max_depth': 1, 'min_samples_split': 71, 'min_samples_leaf': 23, 'splitter': 'best', 'max_features': 'log2', 'max_leaf_nodes': 10}. Best is trial 21 with value: 0.7827675118177911.\u001b[0m\n",
      "\u001b[32m[I 2023-04-20 17:16:56,222]\u001b[0m Trial 63 finished with value: 0.6045544554455445 and parameters: {'criterion': 'gini', 'max_depth': 1, 'min_samples_split': 71, 'min_samples_leaf': 22, 'splitter': 'best', 'max_features': 'log2', 'max_leaf_nodes': 67}. Best is trial 21 with value: 0.7827675118177911.\u001b[0m\n",
      "\u001b[32m[I 2023-04-20 17:16:56,226]\u001b[0m Trial 64 finished with value: 0.7903189828240018 and parameters: {'criterion': 'entropy', 'max_depth': 47, 'min_samples_split': 2, 'min_samples_leaf': 24, 'splitter': 'best', 'max_features': 'log2', 'max_leaf_nodes': 47}. Best is trial 64 with value: 0.7903189828240018.\u001b[0m\n",
      "\u001b[32m[I 2023-04-20 17:16:56,348]\u001b[0m Trial 68 finished with value: 0.7535361364076729 and parameters: {'criterion': 'gini', 'max_depth': 94, 'min_samples_split': 91, 'min_samples_leaf': 96, 'splitter': 'best', 'max_features': 'log2', 'max_leaf_nodes': 66}. Best is trial 64 with value: 0.7903189828240018.\u001b[0m\n",
      "\u001b[32m[I 2023-04-20 17:16:56,355]\u001b[0m Trial 65 finished with value: 0.7443623639191291 and parameters: {'criterion': 'gini', 'max_depth': 22, 'min_samples_split': 85, 'min_samples_leaf': 100, 'splitter': 'best', 'max_features': 'log2', 'max_leaf_nodes': 66}. Best is trial 64 with value: 0.7903189828240018.\u001b[0m\n",
      "\u001b[32m[I 2023-04-20 17:16:56,356]\u001b[0m Trial 67 finished with value: 0.7777059077188443 and parameters: {'criterion': 'gini', 'max_depth': 7, 'min_samples_split': 91, 'min_samples_leaf': 95, 'splitter': 'best', 'max_features': 'log2', 'max_leaf_nodes': 67}. Best is trial 64 with value: 0.7903189828240018.\u001b[0m\n",
      "\u001b[32m[I 2023-04-20 17:16:56,364]\u001b[0m Trial 66 finished with value: 0.7166841552990556 and parameters: {'criterion': 'gini', 'max_depth': 37, 'min_samples_split': 3, 'min_samples_leaf': 100, 'splitter': 'best', 'max_features': 'log2', 'max_leaf_nodes': 69}. Best is trial 64 with value: 0.7903189828240018.\u001b[0m\n",
      "\u001b[32m[I 2023-04-20 17:16:56,459]\u001b[0m Trial 70 finished with value: 0.7538461538461538 and parameters: {'criterion': 'entropy', 'max_depth': 37, 'min_samples_split': 2, 'min_samples_leaf': 93, 'splitter': 'best', 'max_features': 'sqrt', 'max_leaf_nodes': 37}. Best is trial 64 with value: 0.7903189828240018.\u001b[0m\n",
      "\u001b[32m[I 2023-04-20 17:16:56,463]\u001b[0m Trial 69 finished with value: 0.7400761283306144 and parameters: {'criterion': 'entropy', 'max_depth': 35, 'min_samples_split': 2, 'min_samples_leaf': 17, 'splitter': 'best', 'max_features': 'sqrt', 'max_leaf_nodes': 48}. Best is trial 64 with value: 0.7903189828240018.\u001b[0m\n",
      "\u001b[32m[I 2023-04-20 17:16:56,480]\u001b[0m Trial 71 finished with value: 0.7629599512095955 and parameters: {'criterion': 'entropy', 'max_depth': 47, 'min_samples_split': 86, 'min_samples_leaf': 45, 'splitter': 'best', 'max_features': 'sqrt', 'max_leaf_nodes': 47}. Best is trial 64 with value: 0.7903189828240018.\u001b[0m\n",
      "\u001b[32m[I 2023-04-20 17:16:56,495]\u001b[0m Trial 72 finished with value: 0.725032667537801 and parameters: {'criterion': 'entropy', 'max_depth': 48, 'min_samples_split': 4, 'min_samples_leaf': 83, 'splitter': 'best', 'max_features': 'sqrt', 'max_leaf_nodes': 35}. Best is trial 64 with value: 0.7903189828240018.\u001b[0m\n",
      "\u001b[32m[I 2023-04-20 17:16:56,607]\u001b[0m Trial 73 finished with value: 0.7521904761904762 and parameters: {'criterion': 'entropy', 'max_depth': 35, 'min_samples_split': 99, 'min_samples_leaf': 19, 'splitter': 'best', 'max_features': 'sqrt', 'max_leaf_nodes': 76}. Best is trial 64 with value: 0.7903189828240018.\u001b[0m\n",
      "\u001b[32m[I 2023-04-20 17:16:56,629]\u001b[0m Trial 75 finished with value: 0.7161172161172161 and parameters: {'criterion': 'entropy', 'max_depth': 6, 'min_samples_split': 6, 'min_samples_leaf': 44, 'splitter': 'best', 'max_features': 'sqrt', 'max_leaf_nodes': 74}. Best is trial 64 with value: 0.7903189828240018.\u001b[0m\n",
      "\u001b[32m[I 2023-04-20 17:16:56,644]\u001b[0m Trial 76 finished with value: 0.7345701689933872 and parameters: {'criterion': 'entropy', 'max_depth': 47, 'min_samples_split': 8, 'min_samples_leaf': 19, 'splitter': 'best', 'max_features': 'log2', 'max_leaf_nodes': 74}. Best is trial 64 with value: 0.7903189828240018.\u001b[0m\n",
      "\u001b[32m[I 2023-04-20 17:16:56,651]\u001b[0m Trial 74 finished with value: 0.75898854207823 and parameters: {'criterion': 'entropy', 'max_depth': 38, 'min_samples_split': 100, 'min_samples_leaf': 18, 'splitter': 'best', 'max_features': 'sqrt', 'max_leaf_nodes': 56}. Best is trial 64 with value: 0.7903189828240018.\u001b[0m\n",
      "\u001b[32m[I 2023-04-20 17:16:56,723]\u001b[0m Trial 79 finished with value: 0.7472194135490394 and parameters: {'criterion': 'gini', 'max_depth': 8, 'min_samples_split': 96, 'min_samples_leaf': 95, 'splitter': 'best', 'max_features': 'log2', 'max_leaf_nodes': 57}. Best is trial 64 with value: 0.7903189828240018.\u001b[0m\n",
      "\u001b[32m[I 2023-04-20 17:16:56,742]\u001b[0m Trial 78 finished with value: 0.7739563054293749 and parameters: {'criterion': 'entropy', 'max_depth': 7, 'min_samples_split': 100, 'min_samples_leaf': 93, 'splitter': 'best', 'max_features': 'log2', 'max_leaf_nodes': 74}. Best is trial 64 with value: 0.7903189828240018.\u001b[0m\n",
      "\u001b[32m[I 2023-04-20 17:16:56,742]\u001b[0m Trial 77 finished with value: 0.7452110842477218 and parameters: {'criterion': 'entropy', 'max_depth': 47, 'min_samples_split': 100, 'min_samples_leaf': 96, 'splitter': 'best', 'max_features': 'log2', 'max_leaf_nodes': 74}. Best is trial 64 with value: 0.7903189828240018.\u001b[0m\n",
      "\u001b[32m[I 2023-04-20 17:16:56,743]\u001b[0m Trial 80 finished with value: 0.7422943643990516 and parameters: {'criterion': 'gini', 'max_depth': 6, 'min_samples_split': 98, 'min_samples_leaf': 94, 'splitter': 'best', 'max_features': 'log2', 'max_leaf_nodes': 55}. Best is trial 64 with value: 0.7903189828240018.\u001b[0m\n",
      "\u001b[32m[I 2023-04-20 17:16:56,853]\u001b[0m Trial 81 finished with value: 0.7367679613604347 and parameters: {'criterion': 'gini', 'max_depth': 6, 'min_samples_split': 93, 'min_samples_leaf': 95, 'splitter': 'best', 'max_features': 'log2', 'max_leaf_nodes': 43}. Best is trial 64 with value: 0.7903189828240018.\u001b[0m\n",
      "\u001b[32m[I 2023-04-20 17:16:56,884]\u001b[0m Trial 82 finished with value: 0.7712957091523991 and parameters: {'criterion': 'gini', 'max_depth': 6, 'min_samples_split': 91, 'min_samples_leaf': 93, 'splitter': 'best', 'max_features': 'log2', 'max_leaf_nodes': 43}. Best is trial 64 with value: 0.7903189828240018.\u001b[0m\n",
      "\u001b[32m[I 2023-04-20 17:16:56,921]\u001b[0m Trial 84 finished with value: 0.7375 and parameters: {'criterion': 'gini', 'max_depth': 7, 'min_samples_split': 96, 'min_samples_leaf': 92, 'splitter': 'best', 'max_features': 'log2', 'max_leaf_nodes': 81}. Best is trial 64 with value: 0.7903189828240018.\u001b[0m\n",
      "\u001b[32m[I 2023-04-20 17:16:56,944]\u001b[0m Trial 83 finished with value: 0.7740384615384616 and parameters: {'criterion': 'gini', 'max_depth': 7, 'min_samples_split': 91, 'min_samples_leaf': 92, 'splitter': 'best', 'max_features': 'log2', 'max_leaf_nodes': 77}. Best is trial 64 with value: 0.7903189828240018.\u001b[0m\n",
      "\u001b[32m[I 2023-04-20 17:16:56,974]\u001b[0m Trial 85 finished with value: 0.7906976744186046 and parameters: {'criterion': 'gini', 'max_depth': 12, 'min_samples_split': 91, 'min_samples_leaf': 84, 'splitter': 'best', 'max_features': 'log2', 'max_leaf_nodes': 43}. Best is trial 85 with value: 0.7906976744186046.\u001b[0m\n",
      "\u001b[32m[I 2023-04-20 17:16:57,027]\u001b[0m Trial 88 finished with value: 0.7761664564943254 and parameters: {'criterion': 'entropy', 'max_depth': 13, 'min_samples_split': 92, 'min_samples_leaf': 92, 'splitter': 'best', 'max_features': 'log2', 'max_leaf_nodes': 27}. Best is trial 85 with value: 0.7906976744186046.\u001b[0m\n",
      "\u001b[32m[I 2023-04-20 17:16:57,037]\u001b[0m Trial 86 finished with value: 0.7788070492544058 and parameters: {'criterion': 'entropy', 'max_depth': 12, 'min_samples_split': 91, 'min_samples_leaf': 85, 'splitter': 'best', 'max_features': 'log2', 'max_leaf_nodes': 64}. Best is trial 85 with value: 0.7906976744186046.\u001b[0m\n",
      "\u001b[32m[I 2023-04-20 17:16:57,043]\u001b[0m Trial 87 finished with value: 0.7403449568803899 and parameters: {'criterion': 'entropy', 'max_depth': 14, 'min_samples_split': 91, 'min_samples_leaf': 85, 'splitter': 'best', 'max_features': 'log2', 'max_leaf_nodes': 79}. Best is trial 85 with value: 0.7906976744186046.\u001b[0m\n",
      "\u001b[32m[I 2023-04-20 17:16:57,122]\u001b[0m Trial 89 finished with value: 0.7439161362785474 and parameters: {'criterion': 'entropy', 'max_depth': 21, 'min_samples_split': 90, 'min_samples_leaf': 85, 'splitter': 'best', 'max_features': 'log2', 'max_leaf_nodes': 49}. Best is trial 85 with value: 0.7906976744186046.\u001b[0m\n",
      "\u001b[32m[I 2023-04-20 17:16:57,124]\u001b[0m Trial 90 finished with value: 0.7617021276595745 and parameters: {'criterion': 'entropy', 'max_depth': 13, 'min_samples_split': 92, 'min_samples_leaf': 82, 'splitter': 'best', 'max_features': 'log2', 'max_leaf_nodes': 93}. Best is trial 85 with value: 0.7906976744186046.\u001b[0m\n",
      "\u001b[32m[I 2023-04-20 17:16:57,197]\u001b[0m Trial 91 finished with value: 0.7478172588832487 and parameters: {'criterion': 'entropy', 'max_depth': 20, 'min_samples_split': 28, 'min_samples_leaf': 82, 'splitter': 'best', 'max_features': 'log2', 'max_leaf_nodes': 78}. Best is trial 85 with value: 0.7906976744186046.\u001b[0m\n",
      "\u001b[32m[I 2023-04-20 17:16:57,210]\u001b[0m Trial 92 finished with value: 0.7428354526475612 and parameters: {'criterion': 'entropy', 'max_depth': 12, 'min_samples_split': 89, 'min_samples_leaf': 85, 'splitter': 'best', 'max_features': 'log2', 'max_leaf_nodes': 39}. Best is trial 85 with value: 0.7906976744186046.\u001b[0m\n",
      "\u001b[32m[I 2023-04-20 17:16:57,231]\u001b[0m Trial 93 finished with value: 0.7586133105071688 and parameters: {'criterion': 'gini', 'max_depth': 13, 'min_samples_split': 31, 'min_samples_leaf': 85, 'splitter': 'best', 'max_features': 'log2', 'max_leaf_nodes': 64}. Best is trial 85 with value: 0.7906976744186046.\u001b[0m\n",
      "\u001b[32m[I 2023-04-20 17:16:57,264]\u001b[0m Trial 94 finished with value: 0.7787197965239508 and parameters: {'criterion': 'entropy', 'max_depth': 20, 'min_samples_split': 83, 'min_samples_leaf': 80, 'splitter': 'best', 'max_features': 'log2', 'max_leaf_nodes': 63}. Best is trial 85 with value: 0.7906976744186046.\u001b[0m\n",
      "\u001b[32m[I 2023-04-20 17:16:57,268]\u001b[0m Trial 95 finished with value: 0.7316315205327414 and parameters: {'criterion': 'entropy', 'max_depth': 12, 'min_samples_split': 11, 'min_samples_leaf': 78, 'splitter': 'best', 'max_features': 'log2', 'max_leaf_nodes': 40}. Best is trial 85 with value: 0.7906976744186046.\u001b[0m\n",
      "\u001b[32m[I 2023-04-20 17:16:57,271]\u001b[0m Trial 96 finished with value: 0.7469782433521354 and parameters: {'criterion': 'entropy', 'max_depth': 20, 'min_samples_split': 19, 'min_samples_leaf': 78, 'splitter': 'best', 'max_features': 'log2', 'max_leaf_nodes': 38}. Best is trial 85 with value: 0.7906976744186046.\u001b[0m\n",
      "\u001b[32m[I 2023-04-20 17:16:57,276]\u001b[0m Trial 98 finished with value: 0.7733724914341654 and parameters: {'criterion': 'gini', 'max_depth': 12, 'min_samples_split': 82, 'min_samples_leaf': 78, 'splitter': 'best', 'max_features': 'log2', 'max_leaf_nodes': 69}. Best is trial 85 with value: 0.7906976744186046.\u001b[0m\n",
      "\u001b[32m[I 2023-04-20 17:16:57,282]\u001b[0m Trial 97 finished with value: 0.7289682539682539 and parameters: {'criterion': 'gini', 'max_depth': 12, 'min_samples_split': 83, 'min_samples_leaf': 79, 'splitter': 'best', 'max_features': 'log2', 'max_leaf_nodes': 64}. Best is trial 85 with value: 0.7906976744186046.\u001b[0m\n",
      "\u001b[32m[I 2023-04-20 17:16:57,304]\u001b[0m Trial 99 finished with value: 0.7377935147223258 and parameters: {'criterion': 'gini', 'max_depth': 11, 'min_samples_split': 20, 'min_samples_leaf': 77, 'splitter': 'best', 'max_features': 'log2', 'max_leaf_nodes': 69}. Best is trial 85 with value: 0.7906976744186046.\u001b[0m\n"
     ]
    }
   ],
   "source": [
    "# xgb_clf = xgb.XGBClassifier()\n",
    "import xgboost as xgb\n",
    "import optuna\n",
    "#import accuracy score\n",
    "from sklearn.metrics import accuracy_score, precision_score\n",
    "def objective(trial):\n",
    "    \"\"\"Define the objective function\"\"\"\n",
    "\n",
    "    params = {\n",
    "        'criterion': trial.suggest_categorical('criterion', ['gini', 'entropy']),\n",
    "        'max_depth': trial.suggest_int('max_depth', 1, 100),\n",
    "        'min_samples_split': trial.suggest_int('min_samples_split', 2, 100),\n",
    "        'min_samples_leaf': trial.suggest_int('min_samples_leaf', 1, 100),\n",
    "        'splitter': trial.suggest_categorical('splitter', ['best', 'random']),\n",
    "        'max_features': trial.suggest_categorical('max_features', ['auto', 'sqrt', 'log2', None]),\n",
    "        'max_leaf_nodes': trial.suggest_int('max_leaf_nodes', 2, 100),\n",
    "        'max_features' : trial.suggest_categorical('max_features', ['auto', 'sqrt', 'log2', None]),\n",
    "    }\n",
    "\n",
    "    # Fit the model\n",
    "    optuna_model = DecisionTreeClassifier(**params)\n",
    "    optuna_model.fit(data_transformed, y_train)\n",
    "\n",
    "    # Make predictions\n",
    "    y_pred = optuna_model.predict(val_transformed)\n",
    "\n",
    "    # Evaluate predictions\n",
    "    accuracy = precision_score(y_val, y_pred)\n",
    "\n",
    "    return accuracy\n",
    "study = optuna.create_study(direction='maximize')\n",
    "study.optimize(objective, n_trials=100, n_jobs=8, timeout=600 * 3)"
   ]
  },
  {
   "cell_type": "code",
   "execution_count": 11,
   "metadata": {},
   "outputs": [
    {
     "name": "stdout",
     "output_type": "stream",
     "text": [
      "Number of finished trials: 100\n",
      "Best trial:\n",
      "  Value: 0.7906976744186046\n",
      "  Params: \n",
      "    criterion: gini\n",
      "    max_depth: 12\n",
      "    min_samples_split: 91\n",
      "    min_samples_leaf: 84\n",
      "    splitter: best\n",
      "    max_features: log2\n",
      "    max_leaf_nodes: 43\n"
     ]
    }
   ],
   "source": [
    "print('Number of finished trials: {}'.format(len(study.trials)))\n",
    "print('Best trial:')\n",
    "trial = study.best_trial\n",
    "\n",
    "print('  Value: {}'.format(trial.value))\n",
    "print('  Params: ')\n",
    "\n",
    "for key, value in trial.params.items():\n",
    "    print('    {}: {}'.format(key, value))"
   ]
  },
  {
   "cell_type": "code",
   "execution_count": 12,
   "metadata": {},
   "outputs": [
    {
     "data": {
      "text/plain": [
       "{'criterion': 'gini',\n",
       " 'max_depth': 12,\n",
       " 'min_samples_split': 91,\n",
       " 'min_samples_leaf': 84,\n",
       " 'splitter': 'best',\n",
       " 'max_features': 'log2',\n",
       " 'max_leaf_nodes': 43}"
      ]
     },
     "execution_count": 12,
     "metadata": {},
     "output_type": "execute_result"
    }
   ],
   "source": [
    "trial.params"
   ]
  },
  {
   "cell_type": "code",
   "execution_count": 8,
   "metadata": {},
   "outputs": [],
   "source": [
    "params = trial.params\n",
    "\n",
    "model = DecisionTreeClassifier(**params)"
   ]
  },
  {
   "cell_type": "code",
   "execution_count": 9,
   "metadata": {},
   "outputs": [
    {
     "name": "stdout",
     "output_type": "stream",
     "text": [
      "precision: 0.75 +/- 0.02\n",
      "accuracy: 0.72 +/- 0.01\n"
     ]
    }
   ],
   "source": [
    "from sklearn.model_selection import KFold\n",
    "kf = KFold(n_splits=5, shuffle=True, random_state=0)\n",
    "\n",
    "from sklearn.model_selection import cross_val_score\n",
    "\n",
    "scores = cross_val_score(model, data_transformed, y_train, cv=kf, scoring='precision', n_jobs=8)\n",
    "scores_acc = cross_val_score(model, data_transformed, y_train, cv=kf, scoring='accuracy', n_jobs=8)\n",
    "\n",
    "print('precision: {:.2f} +/- {:.2f}'.format(scores.mean(), scores.std()))\n",
    "print('accuracy: {:.2f} +/- {:.2f}'.format(scores_acc.mean(), scores_acc.std()))"
   ]
  },
  {
   "cell_type": "code",
   "execution_count": 13,
   "metadata": {},
   "outputs": [
    {
     "data": {
      "text/html": [
       "<style>#sk-container-id-2 {color: black;background-color: white;}#sk-container-id-2 pre{padding: 0;}#sk-container-id-2 div.sk-toggleable {background-color: white;}#sk-container-id-2 label.sk-toggleable__label {cursor: pointer;display: block;width: 100%;margin-bottom: 0;padding: 0.3em;box-sizing: border-box;text-align: center;}#sk-container-id-2 label.sk-toggleable__label-arrow:before {content: \"▸\";float: left;margin-right: 0.25em;color: #696969;}#sk-container-id-2 label.sk-toggleable__label-arrow:hover:before {color: black;}#sk-container-id-2 div.sk-estimator:hover label.sk-toggleable__label-arrow:before {color: black;}#sk-container-id-2 div.sk-toggleable__content {max-height: 0;max-width: 0;overflow: hidden;text-align: left;background-color: #f0f8ff;}#sk-container-id-2 div.sk-toggleable__content pre {margin: 0.2em;color: black;border-radius: 0.25em;background-color: #f0f8ff;}#sk-container-id-2 input.sk-toggleable__control:checked~div.sk-toggleable__content {max-height: 200px;max-width: 100%;overflow: auto;}#sk-container-id-2 input.sk-toggleable__control:checked~label.sk-toggleable__label-arrow:before {content: \"▾\";}#sk-container-id-2 div.sk-estimator input.sk-toggleable__control:checked~label.sk-toggleable__label {background-color: #d4ebff;}#sk-container-id-2 div.sk-label input.sk-toggleable__control:checked~label.sk-toggleable__label {background-color: #d4ebff;}#sk-container-id-2 input.sk-hidden--visually {border: 0;clip: rect(1px 1px 1px 1px);clip: rect(1px, 1px, 1px, 1px);height: 1px;margin: -1px;overflow: hidden;padding: 0;position: absolute;width: 1px;}#sk-container-id-2 div.sk-estimator {font-family: monospace;background-color: #f0f8ff;border: 1px dotted black;border-radius: 0.25em;box-sizing: border-box;margin-bottom: 0.5em;}#sk-container-id-2 div.sk-estimator:hover {background-color: #d4ebff;}#sk-container-id-2 div.sk-parallel-item::after {content: \"\";width: 100%;border-bottom: 1px solid gray;flex-grow: 1;}#sk-container-id-2 div.sk-label:hover label.sk-toggleable__label {background-color: #d4ebff;}#sk-container-id-2 div.sk-serial::before {content: \"\";position: absolute;border-left: 1px solid gray;box-sizing: border-box;top: 0;bottom: 0;left: 50%;z-index: 0;}#sk-container-id-2 div.sk-serial {display: flex;flex-direction: column;align-items: center;background-color: white;padding-right: 0.2em;padding-left: 0.2em;position: relative;}#sk-container-id-2 div.sk-item {position: relative;z-index: 1;}#sk-container-id-2 div.sk-parallel {display: flex;align-items: stretch;justify-content: center;background-color: white;position: relative;}#sk-container-id-2 div.sk-item::before, #sk-container-id-2 div.sk-parallel-item::before {content: \"\";position: absolute;border-left: 1px solid gray;box-sizing: border-box;top: 0;bottom: 0;left: 50%;z-index: -1;}#sk-container-id-2 div.sk-parallel-item {display: flex;flex-direction: column;z-index: 1;position: relative;background-color: white;}#sk-container-id-2 div.sk-parallel-item:first-child::after {align-self: flex-end;width: 50%;}#sk-container-id-2 div.sk-parallel-item:last-child::after {align-self: flex-start;width: 50%;}#sk-container-id-2 div.sk-parallel-item:only-child::after {width: 0;}#sk-container-id-2 div.sk-dashed-wrapped {border: 1px dashed gray;margin: 0 0.4em 0.5em 0.4em;box-sizing: border-box;padding-bottom: 0.4em;background-color: white;}#sk-container-id-2 div.sk-label label {font-family: monospace;font-weight: bold;display: inline-block;line-height: 1.2em;}#sk-container-id-2 div.sk-label-container {text-align: center;}#sk-container-id-2 div.sk-container {/* jupyter's `normalize.less` sets `[hidden] { display: none; }` but bootstrap.min.css set `[hidden] { display: none !important; }` so we also need the `!important` here to be able to override the default hidden behavior on the sphinx rendered scikit-learn.org. See: https://github.com/scikit-learn/scikit-learn/issues/21755 */display: inline-block !important;position: relative;}#sk-container-id-2 div.sk-text-repr-fallback {display: none;}</style><div id=\"sk-container-id-2\" class=\"sk-top-container\"><div class=\"sk-text-repr-fallback\"><pre>DecisionTreeClassifier(max_depth=12, max_features=&#x27;log2&#x27;, max_leaf_nodes=43,\n",
       "                       min_samples_leaf=84, min_samples_split=91)</pre><b>In a Jupyter environment, please rerun this cell to show the HTML representation or trust the notebook. <br />On GitHub, the HTML representation is unable to render, please try loading this page with nbviewer.org.</b></div><div class=\"sk-container\" hidden><div class=\"sk-item\"><div class=\"sk-estimator sk-toggleable\"><input class=\"sk-toggleable__control sk-hidden--visually\" id=\"sk-estimator-id-2\" type=\"checkbox\" checked><label for=\"sk-estimator-id-2\" class=\"sk-toggleable__label sk-toggleable__label-arrow\">DecisionTreeClassifier</label><div class=\"sk-toggleable__content\"><pre>DecisionTreeClassifier(max_depth=12, max_features=&#x27;log2&#x27;, max_leaf_nodes=43,\n",
       "                       min_samples_leaf=84, min_samples_split=91)</pre></div></div></div></div></div>"
      ],
      "text/plain": [
       "DecisionTreeClassifier(max_depth=12, max_features='log2', max_leaf_nodes=43,\n",
       "                       min_samples_leaf=84, min_samples_split=91)"
      ]
     },
     "execution_count": 13,
     "metadata": {},
     "output_type": "execute_result"
    }
   ],
   "source": [
    "full_data = preprocessor.transform(data.drop('cardio', axis=1))\n",
    "model.fit(full_data, data['cardio'])"
   ]
  },
  {
   "cell_type": "code",
   "execution_count": 14,
   "metadata": {},
   "outputs": [],
   "source": [
    "decison_tree_pred = model.predict(val_transformed)\n",
    "\n",
    "pd.DataFrame(decison_tree_pred).to_csv('decision_tree.csv', index=False, header=False)"
   ]
  },
  {
   "cell_type": "code",
   "execution_count": 16,
   "metadata": {},
   "outputs": [
    {
     "data": {
      "text/plain": [
       "0.7631211335062862"
      ]
     },
     "execution_count": 16,
     "metadata": {},
     "output_type": "execute_result"
    }
   ],
   "source": [
    "model.fit(data_transformed, y_train)\n",
    "precision_score(y_val, model.predict(val_transformed))"
   ]
  },
  {
   "cell_type": "code",
   "execution_count": 18,
   "metadata": {},
   "outputs": [],
   "source": [
    "data_test = pd.read_csv('test.csv')\n",
    "data_test.head()\n",
    "data_test['age'] = round(data_test['age'] / 365)"
   ]
  },
  {
   "cell_type": "code",
   "execution_count": 19,
   "metadata": {},
   "outputs": [
    {
     "data": {
      "text/plain": [
       "array([[0.01670792, 0.01390268, 0.28421053, ..., 0.        , 1.        ,\n",
       "        0.        ],\n",
       "       [0.01608911, 0.01489573, 0.36842105, ..., 0.        , 0.        ,\n",
       "        1.        ],\n",
       "       [0.01608911, 0.01489573, 0.26315789, ..., 0.        , 1.        ,\n",
       "        0.        ],\n",
       "       ...,\n",
       "       [0.01670792, 0.01489573, 0.48421053, ..., 1.        , 1.        ,\n",
       "        0.        ],\n",
       "       [0.0154703 , 0.01390268, 0.25789474, ..., 0.        , 0.        ,\n",
       "        1.        ],\n",
       "       [0.01608911, 0.01390268, 0.38421053, ..., 0.        , 0.        ,\n",
       "        1.        ]])"
      ]
     },
     "execution_count": 19,
     "metadata": {},
     "output_type": "execute_result"
    }
   ],
   "source": [
    "data_test_transformed = preprocessor.transform(data_test.drop('cardio', axis=1))\n",
    "data_test_transformed"
   ]
  },
  {
   "cell_type": "code",
   "execution_count": 21,
   "metadata": {},
   "outputs": [
    {
     "data": {
      "text/plain": [
       "0.7819645143588806"
      ]
     },
     "execution_count": 21,
     "metadata": {},
     "output_type": "execute_result"
    }
   ],
   "source": [
    "y_pred = model.predict(data_test_transformed)\n",
    "test_target = data_test['cardio']\n",
    "precision_score(test_target, y_pred)"
   ]
  },
  {
   "cell_type": "code",
   "execution_count": null,
   "metadata": {},
   "outputs": [],
   "source": []
  }
 ],
 "metadata": {
  "kernelspec": {
   "display_name": "dev",
   "language": "python",
   "name": "python3"
  },
  "language_info": {
   "codemirror_mode": {
    "name": "ipython",
    "version": 3
   },
   "file_extension": ".py",
   "mimetype": "text/x-python",
   "name": "python",
   "nbconvert_exporter": "python",
   "pygments_lexer": "ipython3",
   "version": "3.8.0"
  },
  "orig_nbformat": 4
 },
 "nbformat": 4,
 "nbformat_minor": 2
}
