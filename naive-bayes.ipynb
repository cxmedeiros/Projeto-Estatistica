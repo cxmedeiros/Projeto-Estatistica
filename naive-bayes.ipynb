{
 "cells": [
  {
   "cell_type": "code",
   "execution_count": 1,
   "id": "018914de",
   "metadata": {},
   "outputs": [],
   "source": [
    "import pandas as pd\n",
    "# import dummy classifier\n",
    "from sklearn.dummy import DummyClassifier\n",
    "# import train_test_split\n",
    "from sklearn.model_selection import train_test_split"
   ]
  },
  {
   "cell_type": "code",
   "execution_count": 2,
   "id": "628b3407",
   "metadata": {},
   "outputs": [],
   "source": [
    "data = pd.read_csv('train.csv')"
   ]
  },
  {
   "cell_type": "code",
   "execution_count": 3,
   "id": "ac673a68",
   "metadata": {},
   "outputs": [
    {
     "data": {
      "text/html": [
       "<div>\n",
       "<style scoped>\n",
       "    .dataframe tbody tr th:only-of-type {\n",
       "        vertical-align: middle;\n",
       "    }\n",
       "\n",
       "    .dataframe tbody tr th {\n",
       "        vertical-align: top;\n",
       "    }\n",
       "\n",
       "    .dataframe thead th {\n",
       "        text-align: right;\n",
       "    }\n",
       "</style>\n",
       "<table border=\"1\" class=\"dataframe\">\n",
       "  <thead>\n",
       "    <tr style=\"text-align: right;\">\n",
       "      <th></th>\n",
       "      <th>id</th>\n",
       "      <th>age</th>\n",
       "      <th>gender</th>\n",
       "      <th>height</th>\n",
       "      <th>weight</th>\n",
       "      <th>ap_hi</th>\n",
       "      <th>ap_lo</th>\n",
       "      <th>cholesterol</th>\n",
       "      <th>gluc</th>\n",
       "      <th>smoke</th>\n",
       "      <th>alco</th>\n",
       "      <th>active</th>\n",
       "      <th>cardio</th>\n",
       "    </tr>\n",
       "  </thead>\n",
       "  <tbody>\n",
       "    <tr>\n",
       "      <th>0</th>\n",
       "      <td>66728</td>\n",
       "      <td>21770</td>\n",
       "      <td>1</td>\n",
       "      <td>156</td>\n",
       "      <td>64.0</td>\n",
       "      <td>140</td>\n",
       "      <td>80</td>\n",
       "      <td>2</td>\n",
       "      <td>1</td>\n",
       "      <td>0</td>\n",
       "      <td>0</td>\n",
       "      <td>1</td>\n",
       "      <td>1</td>\n",
       "    </tr>\n",
       "    <tr>\n",
       "      <th>1</th>\n",
       "      <td>69098</td>\n",
       "      <td>21876</td>\n",
       "      <td>1</td>\n",
       "      <td>170</td>\n",
       "      <td>85.0</td>\n",
       "      <td>160</td>\n",
       "      <td>90</td>\n",
       "      <td>1</td>\n",
       "      <td>1</td>\n",
       "      <td>0</td>\n",
       "      <td>0</td>\n",
       "      <td>1</td>\n",
       "      <td>1</td>\n",
       "    </tr>\n",
       "    <tr>\n",
       "      <th>2</th>\n",
       "      <td>59185</td>\n",
       "      <td>23270</td>\n",
       "      <td>1</td>\n",
       "      <td>151</td>\n",
       "      <td>90.0</td>\n",
       "      <td>130</td>\n",
       "      <td>80</td>\n",
       "      <td>1</td>\n",
       "      <td>1</td>\n",
       "      <td>0</td>\n",
       "      <td>0</td>\n",
       "      <td>1</td>\n",
       "      <td>1</td>\n",
       "    </tr>\n",
       "    <tr>\n",
       "      <th>3</th>\n",
       "      <td>49288</td>\n",
       "      <td>19741</td>\n",
       "      <td>1</td>\n",
       "      <td>159</td>\n",
       "      <td>97.0</td>\n",
       "      <td>120</td>\n",
       "      <td>80</td>\n",
       "      <td>1</td>\n",
       "      <td>1</td>\n",
       "      <td>0</td>\n",
       "      <td>0</td>\n",
       "      <td>1</td>\n",
       "      <td>1</td>\n",
       "    </tr>\n",
       "    <tr>\n",
       "      <th>4</th>\n",
       "      <td>62481</td>\n",
       "      <td>18395</td>\n",
       "      <td>1</td>\n",
       "      <td>164</td>\n",
       "      <td>68.0</td>\n",
       "      <td>120</td>\n",
       "      <td>80</td>\n",
       "      <td>1</td>\n",
       "      <td>1</td>\n",
       "      <td>0</td>\n",
       "      <td>0</td>\n",
       "      <td>1</td>\n",
       "      <td>0</td>\n",
       "    </tr>\n",
       "  </tbody>\n",
       "</table>\n",
       "</div>"
      ],
      "text/plain": [
       "      id    age  gender  height  weight  ap_hi  ap_lo  cholesterol  gluc  \\\n",
       "0  66728  21770       1     156    64.0    140     80            2     1   \n",
       "1  69098  21876       1     170    85.0    160     90            1     1   \n",
       "2  59185  23270       1     151    90.0    130     80            1     1   \n",
       "3  49288  19741       1     159    97.0    120     80            1     1   \n",
       "4  62481  18395       1     164    68.0    120     80            1     1   \n",
       "\n",
       "   smoke  alco  active  cardio  \n",
       "0      0     0       1       1  \n",
       "1      0     0       1       1  \n",
       "2      0     0       1       1  \n",
       "3      0     0       1       1  \n",
       "4      0     0       1       0  "
      ]
     },
     "execution_count": 3,
     "metadata": {},
     "output_type": "execute_result"
    }
   ],
   "source": [
    "data.head()"
   ]
  },
  {
   "cell_type": "code",
   "execution_count": 4,
   "id": "61173fa8",
   "metadata": {},
   "outputs": [],
   "source": [
    "x_train, x_val, y_train, y_val = train_test_split(data.drop('cardio', axis=1), data['cardio'], test_size=0.2, random_state=0)"
   ]
  },
  {
   "cell_type": "code",
   "execution_count": 5,
   "id": "799e8feb",
   "metadata": {},
   "outputs": [
    {
     "data": {
      "text/plain": [
       "0.4988392857142857"
      ]
     },
     "execution_count": 5,
     "metadata": {},
     "output_type": "execute_result"
    }
   ],
   "source": [
    "dummy_clf = DummyClassifier(strategy='most_frequent')\n",
    "dummy_clf.fit(x_train, y_train)\n",
    "\n",
    "dummy_clf.score(x_val, y_val)"
   ]
  },
  {
   "cell_type": "code",
   "execution_count": 6,
   "id": "c0b92647",
   "metadata": {},
   "outputs": [
    {
     "data": {
      "text/plain": [
       "0.5583035714285715"
      ]
     },
     "execution_count": 6,
     "metadata": {},
     "output_type": "execute_result"
    }
   ],
   "source": [
    "#Naive-bayes algorithm\n",
    "from sklearn.naive_bayes import GaussianNB\n",
    "\n",
    "nb_clf = GaussianNB()\n",
    "nb_clf.fit(x_train,y_train)\n",
    "\n",
    "nb_clf.score(x_val,y_val)"
   ]
  },
  {
   "cell_type": "code",
   "execution_count": 7,
   "id": "fcb3bb68",
   "metadata": {},
   "outputs": [],
   "source": [
    "#import min max scaler (normalizar os dados), one hot encoder (transformar em binários os dados categóricos), and column transformer\n",
    "from sklearn.preprocessing import MinMaxScaler, OneHotEncoder\n",
    "from sklearn.compose import ColumnTransformer\n",
    "\n",
    "# pode deixar dessa forma, se tiver mt ruim a gente muda\n",
    "var_to_be_used = ['gluc', 'cholesterol', 'ap_hi', 'age', 'ap_lo', 'weight']\n",
    "numerical_features = ['ap_hi', 'ap_lo', 'age', 'weight']\n",
    "categorical_features = ['gluc', 'cholesterol']\n",
    "\n",
    "# create column transformer\n",
    "preprocessor = ColumnTransformer(\n",
    "    transformers=[\n",
    "        ('num', MinMaxScaler(), numerical_features),\n",
    "        ('cat', OneHotEncoder(), categorical_features)\n",
    "    ])\n",
    "\n",
    "x_train = preprocessor.fit_transform(x_train)\n",
    "x_val = preprocessor.transform(x_val)"
   ]
  },
  {
   "cell_type": "code",
   "execution_count": 9,
   "id": "df4e5614",
   "metadata": {},
   "outputs": [
    {
     "name": "stdout",
     "output_type": "stream",
     "text": [
      "Fitting 5 folds for each of 5 candidates, totalling 25 fits\n"
     ]
    },
    {
     "data": {
      "text/plain": [
       "{'var_smoothing': 1e-09}"
      ]
     },
     "execution_count": 9,
     "metadata": {},
     "output_type": "execute_result"
    }
   ],
   "source": [
    "# import ransearchcv\n",
    "from sklearn.model_selection import RandomizedSearchCV\n",
    "# define the parameters\n",
    "params = {\n",
    "    'var_smoothing' : [1e-9, 1e-8, 1e-7,1e-6, 1e-5]\n",
    "}\n",
    "\n",
    "#create the model\n",
    "nb_clf = GaussianNB()\n",
    "\n",
    "# create the random search cv\n",
    "random_search = RandomizedSearchCV(nb_clf, param_distributions = params, n_iter = 5, scoring = 'roc_auc', n_jobs = -1, cv = 5, verbose = 3)\n",
    "\n",
    "# fit the model\n",
    "random_search.fit(x_train, y_train)\n",
    "\n",
    "random_search.best_params_"
   ]
  },
  {
   "cell_type": "code",
   "execution_count": 10,
   "id": "162fade8",
   "metadata": {},
   "outputs": [
    {
     "data": {
      "text/plain": [
       "GaussianNB()"
      ]
     },
     "execution_count": 10,
     "metadata": {},
     "output_type": "execute_result"
    }
   ],
   "source": [
    "# train nb with the best params\n",
    "nb_clf = GaussianNB(**random_search.best_params_)\n",
    "nb_clf.fit(x_train, y_train)"
   ]
  },
  {
   "cell_type": "code",
   "execution_count": 11,
   "id": "b821a8e7",
   "metadata": {},
   "outputs": [
    {
     "data": {
      "text/plain": [
       "0.5958928571428571"
      ]
     },
     "execution_count": 11,
     "metadata": {},
     "output_type": "execute_result"
    }
   ],
   "source": [
    "nb_clf.score(x_val,y_val)"
   ]
  },
  {
   "cell_type": "code",
   "execution_count": 12,
   "id": "0d138f0c",
   "metadata": {},
   "outputs": [],
   "source": [
    "data_test = pd.read_csv('test.csv')"
   ]
  },
  {
   "cell_type": "code",
   "execution_count": 13,
   "id": "3e2676de",
   "metadata": {},
   "outputs": [
    {
     "data": {
      "text/plain": [
       "(14000,)"
      ]
     },
     "execution_count": 13,
     "metadata": {},
     "output_type": "execute_result"
    },
    {
     "name": "stdout",
     "output_type": "stream",
     "text": [
      "[CV 1/5] END ...............var_smoothing=1e-08;, score=0.708 total time=   0.1s\n",
      "[CV 3/5] END ...............var_smoothing=1e-07;, score=0.680 total time=   0.0s\n",
      "[CV 1/5] END ...............var_smoothing=1e-09;, score=0.708 total time=   0.0s\n",
      "[CV 4/5] END ...............var_smoothing=1e-08;, score=0.685 total time=   0.0s\n",
      "[CV 2/5] END ...............var_smoothing=1e-06;, score=0.686 total time=   0.0s\n",
      "[CV 3/5] END ...............var_smoothing=1e-09;, score=0.680 total time=   0.1s\n",
      "[CV 4/5] END ...............var_smoothing=1e-07;, score=0.685 total time=   0.0s\n",
      "[CV 2/5] END ...............var_smoothing=1e-09;, score=0.686 total time=   0.0s\n",
      "[CV 5/5] END ...............var_smoothing=1e-08;, score=0.691 total time=   0.0s\n",
      "[CV 3/5] END ...............var_smoothing=1e-06;, score=0.680 total time=   0.0s\n",
      "[CV 1/5] END ...............var_smoothing=1e-09;, score=0.708 total time=   0.1s\n",
      "[CV 5/5] END ...............var_smoothing=1e-07;, score=0.691 total time=   0.0s\n",
      "[CV 3/5] END ...............var_smoothing=1e-09;, score=0.680 total time=   0.0s\n",
      "[CV 1/5] END ...............var_smoothing=1e-07;, score=0.708 total time=   0.0s\n",
      "[CV 4/5] END ...............var_smoothing=1e-06;, score=0.685 total time=   0.0s\n",
      "[CV 4/5] END ...............var_smoothing=1e-09;, score=0.685 total time=   0.1s\n",
      "[CV 4/5] END ...............var_smoothing=1e-05;, score=0.685 total time=   0.0s\n",
      "[CV 2/5] END ...............var_smoothing=1e-08;, score=0.686 total time=   0.0s\n",
      "[CV 5/5] END ...............var_smoothing=1e-07;, score=0.691 total time=   0.0s\n",
      "[CV 2/5] END ...............var_smoothing=1e-05;, score=0.686 total time=   0.0s\n",
      "[CV 2/5] END ...............var_smoothing=1e-08;, score=0.686 total time=   0.1s\n",
      "[CV 1/5] END ...............var_smoothing=1e-07;, score=0.708 total time=   0.0s\n",
      "[CV 3/5] END ...............var_smoothing=1e-05;, score=0.679 total time=   0.0s\n",
      "[CV 1/5] END ...............var_smoothing=1e-08;, score=0.708 total time=   0.0s\n",
      "[CV 4/5] END ...............var_smoothing=1e-07;, score=0.685 total time=   0.0s\n",
      "[CV 3/5] END ...............var_smoothing=1e-05;, score=0.679 total time=   0.0s\n",
      "[CV 3/5] END ...............var_smoothing=1e-08;, score=0.680 total time=   0.1s\n",
      "[CV 2/5] END ...............var_smoothing=1e-07;, score=0.686 total time=   0.0s\n",
      "[CV 5/5] END ...............var_smoothing=1e-05;, score=0.691 total time=   0.0s\n",
      "[CV 3/5] END ...............var_smoothing=1e-08;, score=0.680 total time=   0.0s\n",
      "[CV 1/5] END ...............var_smoothing=1e-06;, score=0.707 total time=   0.0s\n",
      "[CV 4/5] END ...............var_smoothing=1e-05;, score=0.685 total time=   0.0s\n",
      "[CV 2/5] END ...............var_smoothing=1e-09;, score=0.686 total time=   0.1s\n",
      "[CV 5/5] END ...............var_smoothing=1e-08;, score=0.691 total time=   0.0s\n",
      "[CV 2/5] END ...............var_smoothing=1e-05;, score=0.686 total time=   0.0s\n",
      "[CV 4/5] END ...............var_smoothing=1e-09;, score=0.685 total time=   0.0s\n",
      "[CV 2/5] END ...............var_smoothing=1e-07;, score=0.686 total time=   0.0s\n",
      "[CV 5/5] END ...............var_smoothing=1e-06;, score=0.691 total time=   0.0s\n",
      "[CV 5/5] END ...............var_smoothing=1e-05;, score=0.691 total time=   0.0s\n",
      "[CV 5/5] END ...............var_smoothing=1e-09;, score=0.691 total time=   0.0s\n",
      "[CV 4/5] END ...............var_smoothing=1e-08;, score=0.685 total time=   0.0s\n",
      "[CV 1/5] END ...............var_smoothing=1e-05;, score=0.697 total time=   0.0s\n",
      "[CV 5/5] END ...............var_smoothing=1e-09;, score=0.691 total time=   0.0s\n",
      "[CV 3/5] END ...............var_smoothing=1e-07;, score=0.680 total time=   0.0s\n",
      "[CV 1/5] END ...............var_smoothing=1e-05;, score=0.697 total time=   0.0s\n"
     ]
    }
   ],
   "source": [
    "data_test['cardio'].shape"
   ]
  },
  {
   "cell_type": "code",
   "execution_count": 14,
   "id": "c69a9a4a",
   "metadata": {},
   "outputs": [],
   "source": [
    "x_test = preprocessor.transform(data_test)\n",
    "y_test = nb_clf.predict(x_test)"
   ]
  },
  {
   "cell_type": "code",
   "execution_count": 15,
   "id": "e1c81beb",
   "metadata": {},
   "outputs": [
    {
     "data": {
      "text/plain": [
       "0.6006428571428571"
      ]
     },
     "execution_count": 15,
     "metadata": {},
     "output_type": "execute_result"
    }
   ],
   "source": [
    "from sklearn.metrics import accuracy_score\n",
    "accuracy_score(data_test['cardio'], y_test)"
   ]
  },
  {
   "cell_type": "code",
   "execution_count": null,
   "id": "b10c1374",
   "metadata": {},
   "outputs": [],
   "source": []
  }
 ],
 "metadata": {
  "kernelspec": {
   "display_name": "Python 3 (ipykernel)",
   "language": "python",
   "name": "python3"
  },
  "language_info": {
   "codemirror_mode": {
    "name": "ipython",
    "version": 3
   },
   "file_extension": ".py",
   "mimetype": "text/x-python",
   "name": "python",
   "nbconvert_exporter": "python",
   "pygments_lexer": "ipython3",
   "version": "3.7.15"
  }
 },
 "nbformat": 4,
 "nbformat_minor": 5
}
