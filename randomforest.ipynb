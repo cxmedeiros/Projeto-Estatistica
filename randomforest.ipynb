{
  "cells": [
    {
      "cell_type": "code",
      "execution_count": 1,
      "metadata": {
        "id": "YHYsoZCFSt_Q"
      },
      "outputs": [],
      "source": [
        "import pandas as pd\n",
        "\n",
        "from sklearn.dummy import DummyClassifier\n",
        "\n",
        "from sklearn.model_selection import train_test_split"
      ]
    },
    {
      "cell_type": "code",
      "execution_count": 2,
      "metadata": {
        "id": "2pIVAIAlT9hu"
      },
      "outputs": [],
      "source": [
        "data = pd.read_csv('train.csv', sep=',', index_col=0)"
      ]
    },
    {
      "cell_type": "code",
      "execution_count": 3,
      "metadata": {
        "colab": {
          "base_uri": "https://localhost:8080/",
          "height": 206
        },
        "id": "KbZBchEgUBwS",
        "outputId": "8f5cd65f-02e6-4204-d11b-9d198b2cb68f"
      },
      "outputs": [
        {
          "data": {
            "text/html": [
              "<div>\n",
              "<style scoped>\n",
              "    .dataframe tbody tr th:only-of-type {\n",
              "        vertical-align: middle;\n",
              "    }\n",
              "\n",
              "    .dataframe tbody tr th {\n",
              "        vertical-align: top;\n",
              "    }\n",
              "\n",
              "    .dataframe thead th {\n",
              "        text-align: right;\n",
              "    }\n",
              "</style>\n",
              "<table border=\"1\" class=\"dataframe\">\n",
              "  <thead>\n",
              "    <tr style=\"text-align: right;\">\n",
              "      <th></th>\n",
              "      <th>age</th>\n",
              "      <th>gender</th>\n",
              "      <th>height</th>\n",
              "      <th>weight</th>\n",
              "      <th>ap_hi</th>\n",
              "      <th>ap_lo</th>\n",
              "      <th>cholesterol</th>\n",
              "      <th>gluc</th>\n",
              "      <th>smoke</th>\n",
              "      <th>alco</th>\n",
              "      <th>active</th>\n",
              "      <th>cardio</th>\n",
              "    </tr>\n",
              "    <tr>\n",
              "      <th>id</th>\n",
              "      <th></th>\n",
              "      <th></th>\n",
              "      <th></th>\n",
              "      <th></th>\n",
              "      <th></th>\n",
              "      <th></th>\n",
              "      <th></th>\n",
              "      <th></th>\n",
              "      <th></th>\n",
              "      <th></th>\n",
              "      <th></th>\n",
              "      <th></th>\n",
              "    </tr>\n",
              "  </thead>\n",
              "  <tbody>\n",
              "    <tr>\n",
              "      <th>66728</th>\n",
              "      <td>60.0</td>\n",
              "      <td>1</td>\n",
              "      <td>156</td>\n",
              "      <td>64.0</td>\n",
              "      <td>140</td>\n",
              "      <td>80</td>\n",
              "      <td>2</td>\n",
              "      <td>1</td>\n",
              "      <td>0</td>\n",
              "      <td>0</td>\n",
              "      <td>1</td>\n",
              "      <td>1</td>\n",
              "    </tr>\n",
              "    <tr>\n",
              "      <th>69098</th>\n",
              "      <td>60.0</td>\n",
              "      <td>1</td>\n",
              "      <td>170</td>\n",
              "      <td>85.0</td>\n",
              "      <td>160</td>\n",
              "      <td>90</td>\n",
              "      <td>1</td>\n",
              "      <td>1</td>\n",
              "      <td>0</td>\n",
              "      <td>0</td>\n",
              "      <td>1</td>\n",
              "      <td>1</td>\n",
              "    </tr>\n",
              "    <tr>\n",
              "      <th>59185</th>\n",
              "      <td>64.0</td>\n",
              "      <td>1</td>\n",
              "      <td>151</td>\n",
              "      <td>90.0</td>\n",
              "      <td>130</td>\n",
              "      <td>80</td>\n",
              "      <td>1</td>\n",
              "      <td>1</td>\n",
              "      <td>0</td>\n",
              "      <td>0</td>\n",
              "      <td>1</td>\n",
              "      <td>1</td>\n",
              "    </tr>\n",
              "    <tr>\n",
              "      <th>49288</th>\n",
              "      <td>54.0</td>\n",
              "      <td>1</td>\n",
              "      <td>159</td>\n",
              "      <td>97.0</td>\n",
              "      <td>120</td>\n",
              "      <td>80</td>\n",
              "      <td>1</td>\n",
              "      <td>1</td>\n",
              "      <td>0</td>\n",
              "      <td>0</td>\n",
              "      <td>1</td>\n",
              "      <td>1</td>\n",
              "    </tr>\n",
              "    <tr>\n",
              "      <th>62481</th>\n",
              "      <td>50.0</td>\n",
              "      <td>1</td>\n",
              "      <td>164</td>\n",
              "      <td>68.0</td>\n",
              "      <td>120</td>\n",
              "      <td>80</td>\n",
              "      <td>1</td>\n",
              "      <td>1</td>\n",
              "      <td>0</td>\n",
              "      <td>0</td>\n",
              "      <td>1</td>\n",
              "      <td>0</td>\n",
              "    </tr>\n",
              "  </tbody>\n",
              "</table>\n",
              "</div>"
            ],
            "text/plain": [
              "        age  gender  height  weight  ap_hi  ap_lo  cholesterol  gluc  smoke   \n",
              "id                                                                            \n",
              "66728  60.0       1     156    64.0    140     80            2     1      0  \\\n",
              "69098  60.0       1     170    85.0    160     90            1     1      0   \n",
              "59185  64.0       1     151    90.0    130     80            1     1      0   \n",
              "49288  54.0       1     159    97.0    120     80            1     1      0   \n",
              "62481  50.0       1     164    68.0    120     80            1     1      0   \n",
              "\n",
              "       alco  active  cardio  \n",
              "id                           \n",
              "66728     0       1       1  \n",
              "69098     0       1       1  \n",
              "59185     0       1       1  \n",
              "49288     0       1       1  \n",
              "62481     0       1       0  "
            ]
          },
          "execution_count": 3,
          "metadata": {},
          "output_type": "execute_result"
        }
      ],
      "source": [
        "data['age'] = round(data['age'] / 365)\n",
        "target = data['cardio']\n",
        "data.head()"
      ]
    },
    {
      "cell_type": "code",
      "execution_count": 4,
      "metadata": {
        "id": "ukjUuIxNUEAm"
      },
      "outputs": [],
      "source": [
        "x_train, x_val, y_train, y_val = train_test_split(data.drop('cardio', axis=1), data['cardio'], test_size=0.2, random_state=0)"
      ]
    },
    {
      "cell_type": "code",
      "execution_count": 5,
      "metadata": {
        "colab": {
          "base_uri": "https://localhost:8080/"
        },
        "id": "HsiCc6liUGc_",
        "outputId": "fa36240c-ee22-4499-e1e8-0294efae43c6"
      },
      "outputs": [
        {
          "data": {
            "text/plain": [
              "0.4988392857142857"
            ]
          },
          "execution_count": 5,
          "metadata": {},
          "output_type": "execute_result"
        }
      ],
      "source": [
        "dummy_clf = DummyClassifier(strategy='most_frequent')\n",
        "dummy_clf.fit(x_train, y_train)\n",
        "\n",
        "dummy_clf.score(x_val, y_val)"
      ]
    },
    {
      "cell_type": "code",
      "execution_count": 6,
      "metadata": {
        "colab": {
          "base_uri": "https://localhost:8080/"
        },
        "id": "ymBpxyAEW-aE",
        "outputId": "6980d7e4-f6b8-4a0f-cae1-b984daac0c07"
      },
      "outputs": [
        {
          "data": {
            "text/plain": [
              "0.7125"
            ]
          },
          "execution_count": 6,
          "metadata": {},
          "output_type": "execute_result"
        }
      ],
      "source": [
        "#Random Forest algorithm\n",
        "from sklearn.ensemble import RandomForestClassifier\n",
        "\n",
        "rf_clf = RandomForestClassifier()\n",
        "rf_clf.fit(x_train, y_train)\n",
        "\n",
        "rf_clf.score(x_val, y_val)"
      ]
    },
    {
      "cell_type": "code",
      "execution_count": 7,
      "metadata": {
        "id": "qaYcoNeSXCzW"
      },
      "outputs": [],
      "source": [
        "\n",
        "from sklearn.preprocessing import MinMaxScaler, OneHotEncoder\n",
        "from sklearn.compose import ColumnTransformer\n",
        "\n",
        "var_to_be_used = ['gluc', 'cholesterol', 'ap_hi', 'age', 'ap_lo', 'weight']\n",
        "numerical_features = ['ap_hi', 'ap_lo', 'age', 'weight']\n",
        "categorical_features = ['gluc', 'cholesterol']\n",
        "\n",
        "# create column transformer\n",
        "preprocessor = ColumnTransformer(\n",
        "    transformers=[\n",
        "        ('num', MinMaxScaler(), numerical_features),\n",
        "        ('cat', OneHotEncoder(), categorical_features)\n",
        "    ])\n",
        "\n",
        "x_train = preprocessor.fit_transform(x_train)\n",
        "x_val = preprocessor.transform(x_val)"
      ]
    },
    {
      "cell_type": "code",
      "execution_count": 10,
      "metadata": {
        "colab": {
          "base_uri": "https://localhost:8080/"
        },
        "id": "icyAmT6abieF",
        "outputId": "ac4f0377-facc-4678-81a3-7cfa45bc4f82"
      },
      "outputs": [
        {
          "name": "stderr",
          "output_type": "stream",
          "text": [
            "/home/bmmuc/.pyenv/versions/3.8.0/envs/estat/lib/python3.8/site-packages/tqdm/auto.py:21: TqdmWarning: IProgress not found. Please update jupyter and ipywidgets. See https://ipywidgets.readthedocs.io/en/stable/user_install.html\n",
            "  from .autonotebook import tqdm as notebook_tqdm\n",
            "\u001b[32m[I 2023-04-19 17:31:32,031]\u001b[0m A new study created in memory with name: no-name-69238499-6bc6-429a-83d1-e7974b09f196\u001b[0m\n",
            "/home/bmmuc/.pyenv/versions/3.8.0/envs/estat/lib/python3.8/site-packages/sklearn/ensemble/_forest.py:424: FutureWarning: `max_features='auto'` has been deprecated in 1.1 and will be removed in 1.3. To keep the past behaviour, explicitly set `max_features='sqrt'` or remove this parameter as it is also the default value for RandomForestClassifiers and ExtraTreesClassifiers.\n",
            "  warn(\n",
            "\u001b[32m[I 2023-04-19 17:31:34,747]\u001b[0m Trial 2 finished with value: 0.7221428571428572 and parameters: {'n_estimators': 157, 'max_depth': 13, 'min_samples_split': 6, 'min_samples_leaf': 10, 'max_features': 'sqrt', 'bootstrap': False, 'criterion': 'gini', 'max_leaf_nodes': 6, 'min_weight_fraction_leaf': 0.3661706702205361}. Best is trial 2 with value: 0.7221428571428572.\u001b[0m\n",
            "\u001b[32m[I 2023-04-19 17:31:35,069]\u001b[0m Trial 1 finished with value: 0.7197321428571428 and parameters: {'n_estimators': 139, 'max_depth': 11, 'min_samples_split': 2, 'min_samples_leaf': 4, 'max_features': 'log2', 'bootstrap': True, 'criterion': 'gini', 'max_leaf_nodes': 20, 'min_weight_fraction_leaf': 0.27462269158877056}. Best is trial 2 with value: 0.7221428571428572.\u001b[0m\n",
            "\u001b[32m[I 2023-04-19 17:31:36,459]\u001b[0m Trial 3 finished with value: 0.7198214285714286 and parameters: {'n_estimators': 225, 'max_depth': 16, 'min_samples_split': 9, 'min_samples_leaf': 2, 'max_features': 'sqrt', 'bootstrap': True, 'criterion': 'entropy', 'max_leaf_nodes': 14, 'min_weight_fraction_leaf': 0.21652783224952082}. Best is trial 2 with value: 0.7221428571428572.\u001b[0m\n",
            "/home/bmmuc/.pyenv/versions/3.8.0/envs/estat/lib/python3.8/site-packages/sklearn/ensemble/_forest.py:424: FutureWarning: `max_features='auto'` has been deprecated in 1.1 and will be removed in 1.3. To keep the past behaviour, explicitly set `max_features='sqrt'` or remove this parameter as it is also the default value for RandomForestClassifiers and ExtraTreesClassifiers.\n",
            "  warn(\n",
            "\u001b[32m[I 2023-04-19 17:31:39,214]\u001b[0m Trial 9 finished with value: 0.7221428571428572 and parameters: {'n_estimators': 329, 'max_depth': 10, 'min_samples_split': 7, 'min_samples_leaf': 9, 'max_features': 'sqrt', 'bootstrap': False, 'criterion': 'gini', 'max_leaf_nodes': 19, 'min_weight_fraction_leaf': 0.31518201185068573}. Best is trial 2 with value: 0.7221428571428572.\u001b[0m\n",
            "/home/bmmuc/.pyenv/versions/3.8.0/envs/estat/lib/python3.8/site-packages/sklearn/ensemble/_forest.py:424: FutureWarning: `max_features='auto'` has been deprecated in 1.1 and will be removed in 1.3. To keep the past behaviour, explicitly set `max_features='sqrt'` or remove this parameter as it is also the default value for RandomForestClassifiers and ExtraTreesClassifiers.\n",
            "  warn(\n",
            "\u001b[32m[I 2023-04-19 17:31:39,233]\u001b[0m Trial 0 finished with value: 0.7229464285714285 and parameters: {'n_estimators': 431, 'max_depth': 14, 'min_samples_split': 5, 'min_samples_leaf': 8, 'max_features': 'sqrt', 'bootstrap': False, 'criterion': 'gini', 'max_leaf_nodes': 5, 'min_weight_fraction_leaf': 0.20381936670797235}. Best is trial 0 with value: 0.7229464285714285.\u001b[0m\n",
            "\u001b[32m[I 2023-04-19 17:31:40,186]\u001b[0m Trial 5 finished with value: 0.7221428571428572 and parameters: {'n_estimators': 507, 'max_depth': 5, 'min_samples_split': 6, 'min_samples_leaf': 7, 'max_features': 'log2', 'bootstrap': True, 'criterion': 'gini', 'max_leaf_nodes': 17, 'min_weight_fraction_leaf': 0.3203802146057179}. Best is trial 0 with value: 0.7229464285714285.\u001b[0m\n",
            "\u001b[32m[I 2023-04-19 17:31:40,305]\u001b[0m Trial 6 finished with value: 0.7313392857142857 and parameters: {'n_estimators': 408, 'max_depth': 7, 'min_samples_split': 7, 'min_samples_leaf': 9, 'max_features': 'log2', 'bootstrap': False, 'criterion': 'entropy', 'max_leaf_nodes': 5, 'min_weight_fraction_leaf': 0.06455436180635249}. Best is trial 6 with value: 0.7313392857142857.\u001b[0m\n",
            "\u001b[32m[I 2023-04-19 17:31:40,530]\u001b[0m Trial 4 finished with value: 0.5933928571428572 and parameters: {'n_estimators': 514, 'max_depth': 7, 'min_samples_split': 4, 'min_samples_leaf': 4, 'max_features': 'auto', 'bootstrap': True, 'criterion': 'gini', 'max_leaf_nodes': 17, 'min_weight_fraction_leaf': 0.43909566878021544}. Best is trial 6 with value: 0.7313392857142857.\u001b[0m\n",
            "/home/bmmuc/.pyenv/versions/3.8.0/envs/estat/lib/python3.8/site-packages/sklearn/ensemble/_forest.py:424: FutureWarning: `max_features='auto'` has been deprecated in 1.1 and will be removed in 1.3. To keep the past behaviour, explicitly set `max_features='sqrt'` or remove this parameter as it is also the default value for RandomForestClassifiers and ExtraTreesClassifiers.\n",
            "  warn(\n",
            "\u001b[32m[I 2023-04-19 17:31:40,836]\u001b[0m Trial 7 finished with value: 0.5991071428571428 and parameters: {'n_estimators': 542, 'max_depth': 10, 'min_samples_split': 10, 'min_samples_leaf': 8, 'max_features': 'log2', 'bootstrap': True, 'criterion': 'entropy', 'max_leaf_nodes': 20, 'min_weight_fraction_leaf': 0.42988711494885634}. Best is trial 6 with value: 0.7313392857142857.\u001b[0m\n",
            "\u001b[32m[I 2023-04-19 17:31:41,453]\u001b[0m Trial 12 finished with value: 0.7221428571428572 and parameters: {'n_estimators': 122, 'max_depth': 18, 'min_samples_split': 6, 'min_samples_leaf': 7, 'max_features': 'log2', 'bootstrap': True, 'criterion': 'entropy', 'max_leaf_nodes': 7, 'min_weight_fraction_leaf': 0.36679959312309524}. Best is trial 6 with value: 0.7313392857142857.\u001b[0m\n",
            "/home/bmmuc/.pyenv/versions/3.8.0/envs/estat/lib/python3.8/site-packages/sklearn/ensemble/_forest.py:424: FutureWarning: `max_features='auto'` has been deprecated in 1.1 and will be removed in 1.3. To keep the past behaviour, explicitly set `max_features='sqrt'` or remove this parameter as it is also the default value for RandomForestClassifiers and ExtraTreesClassifiers.\n",
            "  warn(\n",
            "\u001b[32m[I 2023-04-19 17:31:42,472]\u001b[0m Trial 10 finished with value: 0.7221428571428572 and parameters: {'n_estimators': 439, 'max_depth': 7, 'min_samples_split': 6, 'min_samples_leaf': 5, 'max_features': 'auto', 'bootstrap': False, 'criterion': 'gini', 'max_leaf_nodes': 19, 'min_weight_fraction_leaf': 0.30496468089250794}. Best is trial 6 with value: 0.7313392857142857.\u001b[0m\n",
            "\u001b[32m[I 2023-04-19 17:31:46,863]\u001b[0m Trial 16 finished with value: 0.7221428571428572 and parameters: {'n_estimators': 438, 'max_depth': 13, 'min_samples_split': 3, 'min_samples_leaf': 5, 'max_features': 'sqrt', 'bootstrap': True, 'criterion': 'gini', 'max_leaf_nodes': 19, 'min_weight_fraction_leaf': 0.36564807327295745}. Best is trial 6 with value: 0.7313392857142857.\u001b[0m\n",
            "\u001b[32m[I 2023-04-19 17:31:48,007]\u001b[0m Trial 15 finished with value: 0.7324107142857142 and parameters: {'n_estimators': 355, 'max_depth': 12, 'min_samples_split': 2, 'min_samples_leaf': 8, 'max_features': 'auto', 'bootstrap': False, 'criterion': 'gini', 'max_leaf_nodes': 7, 'min_weight_fraction_leaf': 0.04945282541345114}. Best is trial 15 with value: 0.7324107142857142.\u001b[0m\n",
            "/home/bmmuc/.pyenv/versions/3.8.0/envs/estat/lib/python3.8/site-packages/sklearn/ensemble/_forest.py:424: FutureWarning: `max_features='auto'` has been deprecated in 1.1 and will be removed in 1.3. To keep the past behaviour, explicitly set `max_features='sqrt'` or remove this parameter as it is also the default value for RandomForestClassifiers and ExtraTreesClassifiers.\n",
            "  warn(\n",
            "\u001b[32m[I 2023-04-19 17:31:48,402]\u001b[0m Trial 13 finished with value: 0.7357142857142858 and parameters: {'n_estimators': 318, 'max_depth': 10, 'min_samples_split': 7, 'min_samples_leaf': 4, 'max_features': 'sqrt', 'bootstrap': False, 'criterion': 'entropy', 'max_leaf_nodes': 16, 'min_weight_fraction_leaf': 0.0059977484703718775}. Best is trial 13 with value: 0.7357142857142858.\u001b[0m\n",
            "/home/bmmuc/.pyenv/versions/3.8.0/envs/estat/lib/python3.8/site-packages/sklearn/ensemble/_forest.py:424: FutureWarning: `max_features='auto'` has been deprecated in 1.1 and will be removed in 1.3. To keep the past behaviour, explicitly set `max_features='sqrt'` or remove this parameter as it is also the default value for RandomForestClassifiers and ExtraTreesClassifiers.\n",
            "  warn(\n",
            "\u001b[32m[I 2023-04-19 17:31:49,074]\u001b[0m Trial 8 finished with value: 0.7221428571428572 and parameters: {'n_estimators': 937, 'max_depth': 11, 'min_samples_split': 5, 'min_samples_leaf': 7, 'max_features': 'sqrt', 'bootstrap': False, 'criterion': 'entropy', 'max_leaf_nodes': 11, 'min_weight_fraction_leaf': 0.2297254838011641}. Best is trial 13 with value: 0.7357142857142858.\u001b[0m\n",
            "/home/bmmuc/.pyenv/versions/3.8.0/envs/estat/lib/python3.8/site-packages/sklearn/ensemble/_forest.py:424: FutureWarning: `max_features='auto'` has been deprecated in 1.1 and will be removed in 1.3. To keep the past behaviour, explicitly set `max_features='sqrt'` or remove this parameter as it is also the default value for RandomForestClassifiers and ExtraTreesClassifiers.\n",
            "  warn(\n",
            "\u001b[32m[I 2023-04-19 17:31:54,700]\u001b[0m Trial 14 finished with value: 0.7245535714285715 and parameters: {'n_estimators': 799, 'max_depth': 7, 'min_samples_split': 8, 'min_samples_leaf': 8, 'max_features': 'sqrt', 'bootstrap': True, 'criterion': 'gini', 'max_leaf_nodes': 15, 'min_weight_fraction_leaf': 0.14383032447340482}. Best is trial 13 with value: 0.7357142857142858.\u001b[0m\n",
            "/home/bmmuc/.pyenv/versions/3.8.0/envs/estat/lib/python3.8/site-packages/sklearn/ensemble/_forest.py:424: FutureWarning: `max_features='auto'` has been deprecated in 1.1 and will be removed in 1.3. To keep the past behaviour, explicitly set `max_features='sqrt'` or remove this parameter as it is also the default value for RandomForestClassifiers and ExtraTreesClassifiers.\n",
            "  warn(\n",
            "\u001b[32m[I 2023-04-19 17:31:55,189]\u001b[0m Trial 11 finished with value: 0.7223214285714286 and parameters: {'n_estimators': 942, 'max_depth': 19, 'min_samples_split': 9, 'min_samples_leaf': 8, 'max_features': 'auto', 'bootstrap': False, 'criterion': 'gini', 'max_leaf_nodes': 12, 'min_weight_fraction_leaf': 0.19304608404075546}. Best is trial 13 with value: 0.7357142857142858.\u001b[0m\n",
            "/home/bmmuc/.pyenv/versions/3.8.0/envs/estat/lib/python3.8/site-packages/sklearn/ensemble/_forest.py:424: FutureWarning: `max_features='auto'` has been deprecated in 1.1 and will be removed in 1.3. To keep the past behaviour, explicitly set `max_features='sqrt'` or remove this parameter as it is also the default value for RandomForestClassifiers and ExtraTreesClassifiers.\n",
            "  warn(\n",
            "\u001b[32m[I 2023-04-19 17:31:56,851]\u001b[0m Trial 18 finished with value: 0.7317857142857143 and parameters: {'n_estimators': 804, 'max_depth': 15, 'min_samples_split': 4, 'min_samples_leaf': 10, 'max_features': 'sqrt', 'bootstrap': False, 'criterion': 'entropy', 'max_leaf_nodes': 3, 'min_weight_fraction_leaf': 0.07383393392300758}. Best is trial 13 with value: 0.7357142857142858.\u001b[0m\n",
            "/home/bmmuc/.pyenv/versions/3.8.0/envs/estat/lib/python3.8/site-packages/sklearn/ensemble/_forest.py:424: FutureWarning: `max_features='auto'` has been deprecated in 1.1 and will be removed in 1.3. To keep the past behaviour, explicitly set `max_features='sqrt'` or remove this parameter as it is also the default value for RandomForestClassifiers and ExtraTreesClassifiers.\n",
            "  warn(\n",
            "\u001b[32m[I 2023-04-19 17:31:59,498]\u001b[0m Trial 19 finished with value: 0.7221428571428572 and parameters: {'n_estimators': 772, 'max_depth': 16, 'min_samples_split': 8, 'min_samples_leaf': 10, 'max_features': 'sqrt', 'bootstrap': False, 'criterion': 'entropy', 'max_leaf_nodes': 2, 'min_weight_fraction_leaf': 0.09031968849896994}. Best is trial 13 with value: 0.7357142857142858.\u001b[0m\n",
            "/home/bmmuc/.pyenv/versions/3.8.0/envs/estat/lib/python3.8/site-packages/sklearn/ensemble/_forest.py:424: FutureWarning: `max_features='auto'` has been deprecated in 1.1 and will be removed in 1.3. To keep the past behaviour, explicitly set `max_features='sqrt'` or remove this parameter as it is also the default value for RandomForestClassifiers and ExtraTreesClassifiers.\n",
            "  warn(\n",
            "\u001b[32m[I 2023-04-19 17:31:59,876]\u001b[0m Trial 17 finished with value: 0.7341964285714285 and parameters: {'n_estimators': 815, 'max_depth': 7, 'min_samples_split': 8, 'min_samples_leaf': 5, 'max_features': 'auto', 'bootstrap': False, 'criterion': 'entropy', 'max_leaf_nodes': 10, 'min_weight_fraction_leaf': 0.03951033298983053}. Best is trial 13 with value: 0.7357142857142858.\u001b[0m\n",
            "/home/bmmuc/.pyenv/versions/3.8.0/envs/estat/lib/python3.8/site-packages/sklearn/ensemble/_forest.py:424: FutureWarning: `max_features='auto'` has been deprecated in 1.1 and will be removed in 1.3. To keep the past behaviour, explicitly set `max_features='sqrt'` or remove this parameter as it is also the default value for RandomForestClassifiers and ExtraTreesClassifiers.\n",
            "  warn(\n",
            "\u001b[32m[I 2023-04-19 17:32:00,839]\u001b[0m Trial 20 finished with value: 0.7221428571428572 and parameters: {'n_estimators': 758, 'max_depth': 20, 'min_samples_split': 8, 'min_samples_leaf': 10, 'max_features': 'auto', 'bootstrap': False, 'criterion': 'entropy', 'max_leaf_nodes': 2, 'min_weight_fraction_leaf': 0.033689296426189216}. Best is trial 13 with value: 0.7357142857142858.\u001b[0m\n",
            "/home/bmmuc/.pyenv/versions/3.8.0/envs/estat/lib/python3.8/site-packages/sklearn/ensemble/_forest.py:424: FutureWarning: `max_features='auto'` has been deprecated in 1.1 and will be removed in 1.3. To keep the past behaviour, explicitly set `max_features='sqrt'` or remove this parameter as it is also the default value for RandomForestClassifiers and ExtraTreesClassifiers.\n",
            "  warn(\n",
            "\u001b[32m[I 2023-04-19 17:32:01,208]\u001b[0m Trial 22 finished with value: 0.7221428571428572 and parameters: {'n_estimators': 732, 'max_depth': 15, 'min_samples_split': 8, 'min_samples_leaf': 1, 'max_features': 'auto', 'bootstrap': False, 'criterion': 'entropy', 'max_leaf_nodes': 2, 'min_weight_fraction_leaf': 0.015490236805608605}. Best is trial 13 with value: 0.7357142857142858.\u001b[0m\n",
            "/home/bmmuc/.pyenv/versions/3.8.0/envs/estat/lib/python3.8/site-packages/sklearn/ensemble/_forest.py:424: FutureWarning: `max_features='auto'` has been deprecated in 1.1 and will be removed in 1.3. To keep the past behaviour, explicitly set `max_features='sqrt'` or remove this parameter as it is also the default value for RandomForestClassifiers and ExtraTreesClassifiers.\n",
            "  warn(\n",
            "\u001b[32m[I 2023-04-19 17:32:03,325]\u001b[0m Trial 25 finished with value: 0.73625 and parameters: {'n_estimators': 286, 'max_depth': 9, 'min_samples_split': 2, 'min_samples_leaf': 2, 'max_features': 'auto', 'bootstrap': False, 'criterion': 'entropy', 'max_leaf_nodes': 9, 'min_weight_fraction_leaf': 0.012074434518689503}. Best is trial 25 with value: 0.73625.\u001b[0m\n",
            "/home/bmmuc/.pyenv/versions/3.8.0/envs/estat/lib/python3.8/site-packages/sklearn/ensemble/_forest.py:424: FutureWarning: `max_features='auto'` has been deprecated in 1.1 and will be removed in 1.3. To keep the past behaviour, explicitly set `max_features='sqrt'` or remove this parameter as it is also the default value for RandomForestClassifiers and ExtraTreesClassifiers.\n",
            "  warn(\n",
            "\u001b[32m[I 2023-04-19 17:32:05,501]\u001b[0m Trial 21 finished with value: 0.7341964285714285 and parameters: {'n_estimators': 720, 'max_depth': 20, 'min_samples_split': 8, 'min_samples_leaf': 1, 'max_features': 'auto', 'bootstrap': False, 'criterion': 'entropy', 'max_leaf_nodes': 10, 'min_weight_fraction_leaf': 0.0013513454025573298}. Best is trial 25 with value: 0.73625.\u001b[0m\n",
            "/home/bmmuc/.pyenv/versions/3.8.0/envs/estat/lib/python3.8/site-packages/sklearn/ensemble/_forest.py:424: FutureWarning: `max_features='auto'` has been deprecated in 1.1 and will be removed in 1.3. To keep the past behaviour, explicitly set `max_features='sqrt'` or remove this parameter as it is also the default value for RandomForestClassifiers and ExtraTreesClassifiers.\n",
            "  warn(\n",
            "\u001b[32m[I 2023-04-19 17:32:06,552]\u001b[0m Trial 26 finished with value: 0.7342857142857143 and parameters: {'n_estimators': 297, 'max_depth': 9, 'min_samples_split': 2, 'min_samples_leaf': 1, 'max_features': 'auto', 'bootstrap': False, 'criterion': 'entropy', 'max_leaf_nodes': 9, 'min_weight_fraction_leaf': 2.111814138330316e-05}. Best is trial 25 with value: 0.73625.\u001b[0m\n",
            "/home/bmmuc/.pyenv/versions/3.8.0/envs/estat/lib/python3.8/site-packages/sklearn/ensemble/_forest.py:424: FutureWarning: `max_features='auto'` has been deprecated in 1.1 and will be removed in 1.3. To keep the past behaviour, explicitly set `max_features='sqrt'` or remove this parameter as it is also the default value for RandomForestClassifiers and ExtraTreesClassifiers.\n",
            "  warn(\n",
            "\u001b[32m[I 2023-04-19 17:32:07,519]\u001b[0m Trial 29 finished with value: 0.7341071428571428 and parameters: {'n_estimators': 291, 'max_depth': 9, 'min_samples_split': 2, 'min_samples_leaf': 3, 'max_features': 'auto', 'bootstrap': False, 'criterion': 'entropy', 'max_leaf_nodes': 9, 'min_weight_fraction_leaf': 0.0006144777903096792}. Best is trial 25 with value: 0.73625.\u001b[0m\n",
            "/home/bmmuc/.pyenv/versions/3.8.0/envs/estat/lib/python3.8/site-packages/sklearn/ensemble/_forest.py:424: FutureWarning: `max_features='auto'` has been deprecated in 1.1 and will be removed in 1.3. To keep the past behaviour, explicitly set `max_features='sqrt'` or remove this parameter as it is also the default value for RandomForestClassifiers and ExtraTreesClassifiers.\n",
            "  warn(\n",
            "\u001b[32m[I 2023-04-19 17:32:09,783]\u001b[0m Trial 24 finished with value: 0.7339285714285714 and parameters: {'n_estimators': 661, 'max_depth': 15, 'min_samples_split': 2, 'min_samples_leaf': 1, 'max_features': 'auto', 'bootstrap': False, 'criterion': 'entropy', 'max_leaf_nodes': 9, 'min_weight_fraction_leaf': 0.003894450927744597}. Best is trial 25 with value: 0.73625.\u001b[0m\n",
            "/home/bmmuc/.pyenv/versions/3.8.0/envs/estat/lib/python3.8/site-packages/sklearn/ensemble/_forest.py:424: FutureWarning: `max_features='auto'` has been deprecated in 1.1 and will be removed in 1.3. To keep the past behaviour, explicitly set `max_features='sqrt'` or remove this parameter as it is also the default value for RandomForestClassifiers and ExtraTreesClassifiers.\n",
            "  warn(\n",
            "\u001b[32m[I 2023-04-19 17:32:10,490]\u001b[0m Trial 32 finished with value: 0.7265178571428571 and parameters: {'n_estimators': 254, 'max_depth': 9, 'min_samples_split': 3, 'min_samples_leaf': 3, 'max_features': 'auto', 'bootstrap': False, 'criterion': 'entropy', 'max_leaf_nodes': 9, 'min_weight_fraction_leaf': 0.10614559502273263}. Best is trial 25 with value: 0.73625.\u001b[0m\n",
            "/home/bmmuc/.pyenv/versions/3.8.0/envs/estat/lib/python3.8/site-packages/sklearn/ensemble/_forest.py:424: FutureWarning: `max_features='auto'` has been deprecated in 1.1 and will be removed in 1.3. To keep the past behaviour, explicitly set `max_features='sqrt'` or remove this parameter as it is also the default value for RandomForestClassifiers and ExtraTreesClassifiers.\n",
            "  warn(\n",
            "\u001b[32m[I 2023-04-19 17:32:11,181]\u001b[0m Trial 23 finished with value: 0.7341964285714285 and parameters: {'n_estimators': 743, 'max_depth': 15, 'min_samples_split': 3, 'min_samples_leaf': 1, 'max_features': 'auto', 'bootstrap': False, 'criterion': 'entropy', 'max_leaf_nodes': 9, 'min_weight_fraction_leaf': 0.00339390413238693}. Best is trial 25 with value: 0.73625.\u001b[0m\n",
            "/home/bmmuc/.pyenv/versions/3.8.0/envs/estat/lib/python3.8/site-packages/sklearn/ensemble/_forest.py:424: FutureWarning: `max_features='auto'` has been deprecated in 1.1 and will be removed in 1.3. To keep the past behaviour, explicitly set `max_features='sqrt'` or remove this parameter as it is also the default value for RandomForestClassifiers and ExtraTreesClassifiers.\n",
            "  warn(\n",
            "\u001b[32m[I 2023-04-19 17:32:11,386]\u001b[0m Trial 33 finished with value: 0.7304464285714286 and parameters: {'n_estimators': 233, 'max_depth': 9, 'min_samples_split': 3, 'min_samples_leaf': 2, 'max_features': 'auto', 'bootstrap': False, 'criterion': 'entropy', 'max_leaf_nodes': 13, 'min_weight_fraction_leaf': 0.10261145004019213}. Best is trial 25 with value: 0.73625.\u001b[0m\n",
            "\u001b[32m[I 2023-04-19 17:32:13,537]\u001b[0m Trial 35 finished with value: 0.7267857142857143 and parameters: {'n_estimators': 188, 'max_depth': 5, 'min_samples_split': 3, 'min_samples_leaf': 2, 'max_features': 'auto', 'bootstrap': False, 'criterion': 'entropy', 'max_leaf_nodes': 13, 'min_weight_fraction_leaf': 0.1187083022441922}. Best is trial 25 with value: 0.73625.\u001b[0m\n",
            "/home/bmmuc/.pyenv/versions/3.8.0/envs/estat/lib/python3.8/site-packages/sklearn/ensemble/_forest.py:424: FutureWarning: `max_features='auto'` has been deprecated in 1.1 and will be removed in 1.3. To keep the past behaviour, explicitly set `max_features='sqrt'` or remove this parameter as it is also the default value for RandomForestClassifiers and ExtraTreesClassifiers.\n",
            "  warn(\n",
            "\u001b[32m[I 2023-04-19 17:32:14,035]\u001b[0m Trial 34 finished with value: 0.7299107142857143 and parameters: {'n_estimators': 240, 'max_depth': 9, 'min_samples_split': 3, 'min_samples_leaf': 2, 'max_features': 'auto', 'bootstrap': False, 'criterion': 'entropy', 'max_leaf_nodes': 13, 'min_weight_fraction_leaf': 0.1084983385180725}. Best is trial 25 with value: 0.73625.\u001b[0m\n",
            "/home/bmmuc/.pyenv/versions/3.8.0/envs/estat/lib/python3.8/site-packages/sklearn/ensemble/_forest.py:424: FutureWarning: `max_features='auto'` has been deprecated in 1.1 and will be removed in 1.3. To keep the past behaviour, explicitly set `max_features='sqrt'` or remove this parameter as it is also the default value for RandomForestClassifiers and ExtraTreesClassifiers.\n",
            "  warn(\n",
            "\u001b[32m[I 2023-04-19 17:32:14,499]\u001b[0m Trial 27 finished with value: 0.7341964285714285 and parameters: {'n_estimators': 663, 'max_depth': 5, 'min_samples_split': 10, 'min_samples_leaf': 1, 'max_features': 'auto', 'bootstrap': False, 'criterion': 'entropy', 'max_leaf_nodes': 10, 'min_weight_fraction_leaf': 0.017776681828557357}. Best is trial 25 with value: 0.73625.\u001b[0m\n",
            "/home/bmmuc/.pyenv/versions/3.8.0/envs/estat/lib/python3.8/site-packages/sklearn/ensemble/_forest.py:424: FutureWarning: `max_features='auto'` has been deprecated in 1.1 and will be removed in 1.3. To keep the past behaviour, explicitly set `max_features='sqrt'` or remove this parameter as it is also the default value for RandomForestClassifiers and ExtraTreesClassifiers.\n",
            "  warn(\n",
            "\u001b[32m[I 2023-04-19 17:32:15,100]\u001b[0m Trial 36 finished with value: 0.7255357142857143 and parameters: {'n_estimators': 218, 'max_depth': 5, 'min_samples_split': 4, 'min_samples_leaf': 2, 'max_features': 'auto', 'bootstrap': False, 'criterion': 'entropy', 'max_leaf_nodes': 13, 'min_weight_fraction_leaf': 0.11980976747619998}. Best is trial 25 with value: 0.73625.\u001b[0m\n",
            "\u001b[32m[I 2023-04-19 17:32:15,478]\u001b[0m Trial 28 finished with value: 0.735625 and parameters: {'n_estimators': 673, 'max_depth': 9, 'min_samples_split': 2, 'min_samples_leaf': 2, 'max_features': 'auto', 'bootstrap': False, 'criterion': 'entropy', 'max_leaf_nodes': 9, 'min_weight_fraction_leaf': 0.01927547550964766}. Best is trial 25 with value: 0.73625.\u001b[0m\n",
            "\u001b[32m[I 2023-04-19 17:32:16,903]\u001b[0m Trial 31 finished with value: 0.7298214285714286 and parameters: {'n_estimators': 643, 'max_depth': 9, 'min_samples_split': 7, 'min_samples_leaf': 3, 'max_features': 'auto', 'bootstrap': False, 'criterion': 'entropy', 'max_leaf_nodes': 9, 'min_weight_fraction_leaf': 0.11076697055124043}. Best is trial 25 with value: 0.73625.\u001b[0m\n",
            "\u001b[32m[I 2023-04-19 17:32:17,959]\u001b[0m Trial 30 finished with value: 0.7357142857142858 and parameters: {'n_estimators': 654, 'max_depth': 9, 'min_samples_split': 7, 'min_samples_leaf': 3, 'max_features': 'auto', 'bootstrap': False, 'criterion': 'entropy', 'max_leaf_nodes': 9, 'min_weight_fraction_leaf': 0.004453490390462115}. Best is trial 25 with value: 0.73625.\u001b[0m\n",
            "\u001b[32m[I 2023-04-19 17:32:22,147]\u001b[0m Trial 37 finished with value: 0.7269642857142857 and parameters: {'n_estimators': 628, 'max_depth': 5, 'min_samples_split': 4, 'min_samples_leaf': 2, 'max_features': 'sqrt', 'bootstrap': False, 'criterion': 'entropy', 'max_leaf_nodes': 16, 'min_weight_fraction_leaf': 0.14384372484046923}. Best is trial 25 with value: 0.73625.\u001b[0m\n",
            "\u001b[32m[I 2023-04-19 17:32:22,513]\u001b[0m Trial 40 finished with value: 0.7330357142857142 and parameters: {'n_estimators': 357, 'max_depth': 8, 'min_samples_split': 7, 'min_samples_leaf': 4, 'max_features': 'auto', 'bootstrap': False, 'criterion': 'entropy', 'max_leaf_nodes': 7, 'min_weight_fraction_leaf': 0.04708885664955143}. Best is trial 25 with value: 0.73625.\u001b[0m\n",
            "\u001b[32m[I 2023-04-19 17:32:23,277]\u001b[0m Trial 41 finished with value: 0.7349107142857143 and parameters: {'n_estimators': 358, 'max_depth': 8, 'min_samples_split': 7, 'min_samples_leaf': 4, 'max_features': 'sqrt', 'bootstrap': False, 'criterion': 'entropy', 'max_leaf_nodes': 8, 'min_weight_fraction_leaf': 0.038777647170808255}. Best is trial 25 with value: 0.73625.\u001b[0m\n",
            "\u001b[32m[I 2023-04-19 17:32:25,056]\u001b[0m Trial 43 finished with value: 0.7333928571428572 and parameters: {'n_estimators': 373, 'max_depth': 12, 'min_samples_split': 5, 'min_samples_leaf': 4, 'max_features': 'sqrt', 'bootstrap': False, 'criterion': 'entropy', 'max_leaf_nodes': 7, 'min_weight_fraction_leaf': 0.052101269801320196}. Best is trial 25 with value: 0.73625.\u001b[0m\n",
            "\u001b[32m[I 2023-04-19 17:32:27,521]\u001b[0m Trial 38 finished with value: 0.7327678571428572 and parameters: {'n_estimators': 607, 'max_depth': 8, 'min_samples_split': 7, 'min_samples_leaf': 3, 'max_features': 'auto', 'bootstrap': False, 'criterion': 'entropy', 'max_leaf_nodes': 11, 'min_weight_fraction_leaf': 0.04729770135467556}. Best is trial 25 with value: 0.73625.\u001b[0m\n",
            "\u001b[32m[I 2023-04-19 17:32:28,791]\u001b[0m Trial 39 finished with value: 0.7325 and parameters: {'n_estimators': 658, 'max_depth': 8, 'min_samples_split': 7, 'min_samples_leaf': 4, 'max_features': 'auto', 'bootstrap': False, 'criterion': 'entropy', 'max_leaf_nodes': 7, 'min_weight_fraction_leaf': 0.04326502376397928}. Best is trial 25 with value: 0.73625.\u001b[0m\n",
            "\u001b[32m[I 2023-04-19 17:32:29,072]\u001b[0m Trial 42 finished with value: 0.7324107142857142 and parameters: {'n_estimators': 623, 'max_depth': 11, 'min_samples_split': 2, 'min_samples_leaf': 3, 'max_features': 'sqrt', 'bootstrap': False, 'criterion': 'entropy', 'max_leaf_nodes': 7, 'min_weight_fraction_leaf': 0.043341607979220265}. Best is trial 25 with value: 0.73625.\u001b[0m\n",
            "\u001b[32m[I 2023-04-19 17:32:30,395]\u001b[0m Trial 44 finished with value: 0.7328571428571429 and parameters: {'n_estimators': 574, 'max_depth': 11, 'min_samples_split': 5, 'min_samples_leaf': 4, 'max_features': 'sqrt', 'bootstrap': False, 'criterion': 'entropy', 'max_leaf_nodes': 7, 'min_weight_fraction_leaf': 0.05785201222040899}. Best is trial 25 with value: 0.73625.\u001b[0m\n",
            "\u001b[32m[I 2023-04-19 17:32:33,612]\u001b[0m Trial 46 finished with value: 0.7314285714285714 and parameters: {'n_estimators': 577, 'max_depth': 12, 'min_samples_split': 5, 'min_samples_leaf': 3, 'max_features': 'log2', 'bootstrap': True, 'criterion': 'entropy', 'max_leaf_nodes': 5, 'min_weight_fraction_leaf': 0.06740647296642666}. Best is trial 25 with value: 0.73625.\u001b[0m\n",
            "\u001b[32m[I 2023-04-19 17:32:34,672]\u001b[0m Trial 47 finished with value: 0.7310714285714286 and parameters: {'n_estimators': 588, 'max_depth': 11, 'min_samples_split': 5, 'min_samples_leaf': 3, 'max_features': 'log2', 'bootstrap': True, 'criterion': 'entropy', 'max_leaf_nodes': 5, 'min_weight_fraction_leaf': 0.0661826804915587}. Best is trial 25 with value: 0.73625.\u001b[0m\n",
            "\u001b[32m[I 2023-04-19 17:32:35,360]\u001b[0m Trial 45 finished with value: 0.7333035714285714 and parameters: {'n_estimators': 607, 'max_depth': 11, 'min_samples_split': 5, 'min_samples_leaf': 4, 'max_features': 'log2', 'bootstrap': False, 'criterion': 'entropy', 'max_leaf_nodes': 7, 'min_weight_fraction_leaf': 0.060348321290541}. Best is trial 25 with value: 0.73625.\u001b[0m\n",
            "\u001b[32m[I 2023-04-19 17:32:36,311]\u001b[0m Trial 48 finished with value: 0.7319642857142857 and parameters: {'n_estimators': 578, 'max_depth': 11, 'min_samples_split': 7, 'min_samples_leaf': 3, 'max_features': 'sqrt', 'bootstrap': False, 'criterion': 'entropy', 'max_leaf_nodes': 5, 'min_weight_fraction_leaf': 0.0724076957371274}. Best is trial 25 with value: 0.73625.\u001b[0m\n",
            "\u001b[32m[I 2023-04-19 17:32:36,945]\u001b[0m Trial 49 finished with value: 0.7325892857142857 and parameters: {'n_estimators': 481, 'max_depth': 11, 'min_samples_split': 6, 'min_samples_leaf': 4, 'max_features': 'sqrt', 'bootstrap': True, 'criterion': 'entropy', 'max_leaf_nodes': 6, 'min_weight_fraction_leaf': 0.07381158305188472}. Best is trial 25 with value: 0.73625.\u001b[0m\n",
            "\u001b[32m[I 2023-04-19 17:32:38,135]\u001b[0m Trial 50 finished with value: 0.731875 and parameters: {'n_estimators': 478, 'max_depth': 11, 'min_samples_split': 6, 'min_samples_leaf': 6, 'max_features': 'sqrt', 'bootstrap': True, 'criterion': 'entropy', 'max_leaf_nodes': 5, 'min_weight_fraction_leaf': 0.06717358843226232}. Best is trial 25 with value: 0.73625.\u001b[0m\n",
            "/home/bmmuc/.pyenv/versions/3.8.0/envs/estat/lib/python3.8/site-packages/sklearn/ensemble/_forest.py:424: FutureWarning: `max_features='auto'` has been deprecated in 1.1 and will be removed in 1.3. To keep the past behaviour, explicitly set `max_features='sqrt'` or remove this parameter as it is also the default value for RandomForestClassifiers and ExtraTreesClassifiers.\n",
            "  warn(\n",
            "\u001b[32m[I 2023-04-19 17:32:38,451]\u001b[0m Trial 51 finished with value: 0.7326785714285714 and parameters: {'n_estimators': 480, 'max_depth': 10, 'min_samples_split': 6, 'min_samples_leaf': 6, 'max_features': 'log2', 'bootstrap': True, 'criterion': 'entropy', 'max_leaf_nodes': 5, 'min_weight_fraction_leaf': 0.07454880341878765}. Best is trial 25 with value: 0.73625.\u001b[0m\n",
            "/home/bmmuc/.pyenv/versions/3.8.0/envs/estat/lib/python3.8/site-packages/sklearn/ensemble/_forest.py:424: FutureWarning: `max_features='auto'` has been deprecated in 1.1 and will be removed in 1.3. To keep the past behaviour, explicitly set `max_features='sqrt'` or remove this parameter as it is also the default value for RandomForestClassifiers and ExtraTreesClassifiers.\n",
            "  warn(\n",
            "\u001b[32m[I 2023-04-19 17:32:40,479]\u001b[0m Trial 52 finished with value: 0.7348214285714286 and parameters: {'n_estimators': 512, 'max_depth': 10, 'min_samples_split': 6, 'min_samples_leaf': 6, 'max_features': 'log2', 'bootstrap': True, 'criterion': 'entropy', 'max_leaf_nodes': 5, 'min_weight_fraction_leaf': 0.02471361914509332}. Best is trial 25 with value: 0.73625.\u001b[0m\n",
            "\u001b[32m[I 2023-04-19 17:32:42,842]\u001b[0m Trial 53 finished with value: 0.7314285714285714 and parameters: {'n_estimators': 490, 'max_depth': 10, 'min_samples_split': 6, 'min_samples_leaf': 6, 'max_features': 'sqrt', 'bootstrap': True, 'criterion': 'entropy', 'max_leaf_nodes': 5, 'min_weight_fraction_leaf': 0.07741649544743988}. Best is trial 25 with value: 0.73625.\u001b[0m\n",
            "\u001b[32m[I 2023-04-19 17:32:44,621]\u001b[0m Trial 59 finished with value: 0.7360714285714286 and parameters: {'n_estimators': 285, 'max_depth': 6, 'min_samples_split': 9, 'min_samples_leaf': 5, 'max_features': 'auto', 'bootstrap': False, 'criterion': 'gini', 'max_leaf_nodes': 8, 'min_weight_fraction_leaf': 0.025569415633893217}. Best is trial 25 with value: 0.73625.\u001b[0m\n",
            "/home/bmmuc/.pyenv/versions/3.8.0/envs/estat/lib/python3.8/site-packages/sklearn/ensemble/_forest.py:424: FutureWarning: `max_features='auto'` has been deprecated in 1.1 and will be removed in 1.3. To keep the past behaviour, explicitly set `max_features='sqrt'` or remove this parameter as it is also the default value for RandomForestClassifiers and ExtraTreesClassifiers.\n",
            "  warn(\n",
            "\u001b[32m[I 2023-04-19 17:32:44,830]\u001b[0m Trial 58 finished with value: 0.7351785714285715 and parameters: {'n_estimators': 297, 'max_depth': 10, 'min_samples_split': 2, 'min_samples_leaf': 5, 'max_features': 'auto', 'bootstrap': False, 'criterion': 'gini', 'max_leaf_nodes': 8, 'min_weight_fraction_leaf': 0.02432870741897072}. Best is trial 25 with value: 0.73625.\u001b[0m\n",
            "/home/bmmuc/.pyenv/versions/3.8.0/envs/estat/lib/python3.8/site-packages/sklearn/ensemble/_forest.py:424: FutureWarning: `max_features='auto'` has been deprecated in 1.1 and will be removed in 1.3. To keep the past behaviour, explicitly set `max_features='sqrt'` or remove this parameter as it is also the default value for RandomForestClassifiers and ExtraTreesClassifiers.\n",
            "  warn(\n",
            "\u001b[32m[I 2023-04-19 17:32:45,957]\u001b[0m Trial 54 finished with value: 0.7358928571428571 and parameters: {'n_estimators': 480, 'max_depth': 10, 'min_samples_split': 6, 'min_samples_leaf': 6, 'max_features': 'sqrt', 'bootstrap': False, 'criterion': 'gini', 'max_leaf_nodes': 11, 'min_weight_fraction_leaf': 0.02263789953709444}. Best is trial 25 with value: 0.73625.\u001b[0m\n",
            "/home/bmmuc/.pyenv/versions/3.8.0/envs/estat/lib/python3.8/site-packages/sklearn/ensemble/_forest.py:424: FutureWarning: `max_features='auto'` has been deprecated in 1.1 and will be removed in 1.3. To keep the past behaviour, explicitly set `max_features='sqrt'` or remove this parameter as it is also the default value for RandomForestClassifiers and ExtraTreesClassifiers.\n",
            "  warn(\n",
            "\u001b[32m[I 2023-04-19 17:32:46,586]\u001b[0m Trial 55 finished with value: 0.735625 and parameters: {'n_estimators': 471, 'max_depth': 6, 'min_samples_split': 6, 'min_samples_leaf': 5, 'max_features': 'sqrt', 'bootstrap': False, 'criterion': 'gini', 'max_leaf_nodes': 11, 'min_weight_fraction_leaf': 0.026546018666077666}. Best is trial 25 with value: 0.73625.\u001b[0m\n",
            "/home/bmmuc/.pyenv/versions/3.8.0/envs/estat/lib/python3.8/site-packages/sklearn/ensemble/_forest.py:424: FutureWarning: `max_features='auto'` has been deprecated in 1.1 and will be removed in 1.3. To keep the past behaviour, explicitly set `max_features='sqrt'` or remove this parameter as it is also the default value for RandomForestClassifiers and ExtraTreesClassifiers.\n",
            "  warn(\n",
            "\u001b[32m[I 2023-04-19 17:32:47,473]\u001b[0m Trial 56 finished with value: 0.7354464285714286 and parameters: {'n_estimators': 502, 'max_depth': 6, 'min_samples_split': 6, 'min_samples_leaf': 5, 'max_features': 'sqrt', 'bootstrap': True, 'criterion': 'gini', 'max_leaf_nodes': 12, 'min_weight_fraction_leaf': 0.028691998738597017}. Best is trial 25 with value: 0.73625.\u001b[0m\n",
            "/home/bmmuc/.pyenv/versions/3.8.0/envs/estat/lib/python3.8/site-packages/sklearn/ensemble/_forest.py:424: FutureWarning: `max_features='auto'` has been deprecated in 1.1 and will be removed in 1.3. To keep the past behaviour, explicitly set `max_features='sqrt'` or remove this parameter as it is also the default value for RandomForestClassifiers and ExtraTreesClassifiers.\n",
            "  warn(\n",
            "\u001b[32m[I 2023-04-19 17:32:47,699]\u001b[0m Trial 57 finished with value: 0.7349107142857143 and parameters: {'n_estimators': 467, 'max_depth': 10, 'min_samples_split': 9, 'min_samples_leaf': 6, 'max_features': 'sqrt', 'bootstrap': False, 'criterion': 'gini', 'max_leaf_nodes': 8, 'min_weight_fraction_leaf': 0.024172577100363166}. Best is trial 25 with value: 0.73625.\u001b[0m\n",
            "/home/bmmuc/.pyenv/versions/3.8.0/envs/estat/lib/python3.8/site-packages/sklearn/ensemble/_forest.py:424: FutureWarning: `max_features='auto'` has been deprecated in 1.1 and will be removed in 1.3. To keep the past behaviour, explicitly set `max_features='sqrt'` or remove this parameter as it is also the default value for RandomForestClassifiers and ExtraTreesClassifiers.\n",
            "  warn(\n",
            "\u001b[32m[I 2023-04-19 17:32:48,840]\u001b[0m Trial 63 finished with value: 0.7347321428571428 and parameters: {'n_estimators': 165, 'max_depth': 6, 'min_samples_split': 9, 'min_samples_leaf': 5, 'max_features': 'auto', 'bootstrap': False, 'criterion': 'gini', 'max_leaf_nodes': 11, 'min_weight_fraction_leaf': 0.026671347381048194}. Best is trial 25 with value: 0.73625.\u001b[0m\n",
            "\u001b[32m[I 2023-04-19 17:32:49,166]\u001b[0m Trial 60 finished with value: 0.7355357142857143 and parameters: {'n_estimators': 398, 'max_depth': 10, 'min_samples_split': 9, 'min_samples_leaf': 5, 'max_features': 'log2', 'bootstrap': True, 'criterion': 'gini', 'max_leaf_nodes': 8, 'min_weight_fraction_leaf': 0.022661697183060745}. Best is trial 25 with value: 0.73625.\u001b[0m\n",
            "\u001b[32m[I 2023-04-19 17:32:50,852]\u001b[0m Trial 67 finished with value: 0.7357142857142858 and parameters: {'n_estimators': 131, 'max_depth': 13, 'min_samples_split': 10, 'min_samples_leaf': 7, 'max_features': 'auto', 'bootstrap': False, 'criterion': 'gini', 'max_leaf_nodes': 11, 'min_weight_fraction_leaf': 0.016985629437388627}. Best is trial 25 with value: 0.73625.\u001b[0m\n",
            "/home/bmmuc/.pyenv/versions/3.8.0/envs/estat/lib/python3.8/site-packages/sklearn/ensemble/_forest.py:424: FutureWarning: `max_features='auto'` has been deprecated in 1.1 and will be removed in 1.3. To keep the past behaviour, explicitly set `max_features='sqrt'` or remove this parameter as it is also the default value for RandomForestClassifiers and ExtraTreesClassifiers.\n",
            "  warn(\n",
            "\u001b[32m[I 2023-04-19 17:32:51,636]\u001b[0m Trial 61 finished with value: 0.7350892857142857 and parameters: {'n_estimators': 411, 'max_depth': 8, 'min_samples_split': 9, 'min_samples_leaf': 5, 'max_features': 'log2', 'bootstrap': True, 'criterion': 'gini', 'max_leaf_nodes': 8, 'min_weight_fraction_leaf': 0.027982449598709137}. Best is trial 25 with value: 0.73625.\u001b[0m\n",
            "/home/bmmuc/.pyenv/versions/3.8.0/envs/estat/lib/python3.8/site-packages/sklearn/ensemble/_forest.py:424: FutureWarning: `max_features='auto'` has been deprecated in 1.1 and will be removed in 1.3. To keep the past behaviour, explicitly set `max_features='sqrt'` or remove this parameter as it is also the default value for RandomForestClassifiers and ExtraTreesClassifiers.\n",
            "  warn(\n",
            "\u001b[32m[I 2023-04-19 17:32:52,008]\u001b[0m Trial 66 finished with value: 0.7360714285714286 and parameters: {'n_estimators': 169, 'max_depth': 6, 'min_samples_split': 9, 'min_samples_leaf': 7, 'max_features': 'auto', 'bootstrap': False, 'criterion': 'gini', 'max_leaf_nodes': 11, 'min_weight_fraction_leaf': 0.00940508078364749}. Best is trial 25 with value: 0.73625.\u001b[0m\n",
            "/home/bmmuc/.pyenv/versions/3.8.0/envs/estat/lib/python3.8/site-packages/sklearn/ensemble/_forest.py:424: FutureWarning: `max_features='auto'` has been deprecated in 1.1 and will be removed in 1.3. To keep the past behaviour, explicitly set `max_features='sqrt'` or remove this parameter as it is also the default value for RandomForestClassifiers and ExtraTreesClassifiers.\n",
            "  warn(\n",
            "\u001b[32m[I 2023-04-19 17:32:53,546]\u001b[0m Trial 70 finished with value: 0.7345535714285715 and parameters: {'n_estimators': 111, 'max_depth': 13, 'min_samples_split': 10, 'min_samples_leaf': 7, 'max_features': 'auto', 'bootstrap': False, 'criterion': 'gini', 'max_leaf_nodes': 10, 'min_weight_fraction_leaf': 0.001071170393557204}. Best is trial 25 with value: 0.73625.\u001b[0m\n",
            "/home/bmmuc/.pyenv/versions/3.8.0/envs/estat/lib/python3.8/site-packages/sklearn/ensemble/_forest.py:424: FutureWarning: `max_features='auto'` has been deprecated in 1.1 and will be removed in 1.3. To keep the past behaviour, explicitly set `max_features='sqrt'` or remove this parameter as it is also the default value for RandomForestClassifiers and ExtraTreesClassifiers.\n",
            "  warn(\n",
            "\u001b[32m[I 2023-04-19 17:32:53,813]\u001b[0m Trial 62 finished with value: 0.735625 and parameters: {'n_estimators': 387, 'max_depth': 6, 'min_samples_split': 9, 'min_samples_leaf': 5, 'max_features': 'auto', 'bootstrap': False, 'criterion': 'gini', 'max_leaf_nodes': 8, 'min_weight_fraction_leaf': 0.028524652082015114}. Best is trial 25 with value: 0.73625.\u001b[0m\n",
            "/home/bmmuc/.pyenv/versions/3.8.0/envs/estat/lib/python3.8/site-packages/sklearn/ensemble/_forest.py:424: FutureWarning: `max_features='auto'` has been deprecated in 1.1 and will be removed in 1.3. To keep the past behaviour, explicitly set `max_features='sqrt'` or remove this parameter as it is also the default value for RandomForestClassifiers and ExtraTreesClassifiers.\n",
            "  warn(\n",
            "\u001b[32m[I 2023-04-19 17:32:54,535]\u001b[0m Trial 72 finished with value: 0.7353571428571428 and parameters: {'n_estimators': 112, 'max_depth': 14, 'min_samples_split': 10, 'min_samples_leaf': 8, 'max_features': 'auto', 'bootstrap': False, 'criterion': 'gini', 'max_leaf_nodes': 12, 'min_weight_fraction_leaf': 0.0078035461360736556}. Best is trial 25 with value: 0.73625.\u001b[0m\n",
            "/home/bmmuc/.pyenv/versions/3.8.0/envs/estat/lib/python3.8/site-packages/sklearn/ensemble/_forest.py:424: FutureWarning: `max_features='auto'` has been deprecated in 1.1 and will be removed in 1.3. To keep the past behaviour, explicitly set `max_features='sqrt'` or remove this parameter as it is also the default value for RandomForestClassifiers and ExtraTreesClassifiers.\n",
            "  warn(\n",
            "\u001b[32m[I 2023-04-19 17:32:56,079]\u001b[0m Trial 64 finished with value: 0.7359821428571428 and parameters: {'n_estimators': 415, 'max_depth': 6, 'min_samples_split': 9, 'min_samples_leaf': 5, 'max_features': 'auto', 'bootstrap': False, 'criterion': 'gini', 'max_leaf_nodes': 11, 'min_weight_fraction_leaf': 0.02542283140756983}. Best is trial 25 with value: 0.73625.\u001b[0m\n",
            "/home/bmmuc/.pyenv/versions/3.8.0/envs/estat/lib/python3.8/site-packages/sklearn/ensemble/_forest.py:424: FutureWarning: `max_features='auto'` has been deprecated in 1.1 and will be removed in 1.3. To keep the past behaviour, explicitly set `max_features='sqrt'` or remove this parameter as it is also the default value for RandomForestClassifiers and ExtraTreesClassifiers.\n",
            "  warn(\n",
            "\u001b[32m[I 2023-04-19 17:32:57,029]\u001b[0m Trial 73 finished with value: 0.7348214285714286 and parameters: {'n_estimators': 145, 'max_depth': 7, 'min_samples_split': 10, 'min_samples_leaf': 7, 'max_features': 'auto', 'bootstrap': False, 'criterion': 'gini', 'max_leaf_nodes': 12, 'min_weight_fraction_leaf': 0.009103550593377193}. Best is trial 25 with value: 0.73625.\u001b[0m\n",
            "/home/bmmuc/.pyenv/versions/3.8.0/envs/estat/lib/python3.8/site-packages/sklearn/ensemble/_forest.py:424: FutureWarning: `max_features='auto'` has been deprecated in 1.1 and will be removed in 1.3. To keep the past behaviour, explicitly set `max_features='sqrt'` or remove this parameter as it is also the default value for RandomForestClassifiers and ExtraTreesClassifiers.\n",
            "  warn(\n",
            "\u001b[32m[I 2023-04-19 17:32:57,433]\u001b[0m Trial 74 finished with value: 0.7341071428571428 and parameters: {'n_estimators': 150, 'max_depth': 14, 'min_samples_split': 10, 'min_samples_leaf': 7, 'max_features': 'auto', 'bootstrap': False, 'criterion': 'gini', 'max_leaf_nodes': 12, 'min_weight_fraction_leaf': 0.014168139063902855}. Best is trial 25 with value: 0.73625.\u001b[0m\n",
            "/home/bmmuc/.pyenv/versions/3.8.0/envs/estat/lib/python3.8/site-packages/sklearn/ensemble/_forest.py:424: FutureWarning: `max_features='auto'` has been deprecated in 1.1 and will be removed in 1.3. To keep the past behaviour, explicitly set `max_features='sqrt'` or remove this parameter as it is also the default value for RandomForestClassifiers and ExtraTreesClassifiers.\n",
            "  warn(\n",
            "\u001b[32m[I 2023-04-19 17:32:58,405]\u001b[0m Trial 75 finished with value: 0.736875 and parameters: {'n_estimators': 158, 'max_depth': 7, 'min_samples_split': 10, 'min_samples_leaf': 7, 'max_features': 'auto', 'bootstrap': False, 'criterion': 'gini', 'max_leaf_nodes': 14, 'min_weight_fraction_leaf': 0.007871254791640473}. Best is trial 75 with value: 0.736875.\u001b[0m\n",
            "/home/bmmuc/.pyenv/versions/3.8.0/envs/estat/lib/python3.8/site-packages/sklearn/ensemble/_forest.py:424: FutureWarning: `max_features='auto'` has been deprecated in 1.1 and will be removed in 1.3. To keep the past behaviour, explicitly set `max_features='sqrt'` or remove this parameter as it is also the default value for RandomForestClassifiers and ExtraTreesClassifiers.\n",
            "  warn(\n",
            "\u001b[32m[I 2023-04-19 17:33:01,231]\u001b[0m Trial 76 finished with value: 0.7303571428571428 and parameters: {'n_estimators': 272, 'max_depth': 7, 'min_samples_split': 8, 'min_samples_leaf': 9, 'max_features': 'auto', 'bootstrap': False, 'criterion': 'gini', 'max_leaf_nodes': 12, 'min_weight_fraction_leaf': 0.08436597683118752}. Best is trial 75 with value: 0.736875.\u001b[0m\n",
            "/home/bmmuc/.pyenv/versions/3.8.0/envs/estat/lib/python3.8/site-packages/sklearn/ensemble/_forest.py:424: FutureWarning: `max_features='auto'` has been deprecated in 1.1 and will be removed in 1.3. To keep the past behaviour, explicitly set `max_features='sqrt'` or remove this parameter as it is also the default value for RandomForestClassifiers and ExtraTreesClassifiers.\n",
            "  warn(\n",
            "\u001b[32m[I 2023-04-19 17:33:02,900]\u001b[0m Trial 77 finished with value: 0.7314285714285714 and parameters: {'n_estimators': 318, 'max_depth': 7, 'min_samples_split': 8, 'min_samples_leaf': 9, 'max_features': 'auto', 'bootstrap': False, 'criterion': 'gini', 'max_leaf_nodes': 14, 'min_weight_fraction_leaf': 0.09254943232882933}. Best is trial 75 with value: 0.736875.\u001b[0m\n",
            "/home/bmmuc/.pyenv/versions/3.8.0/envs/estat/lib/python3.8/site-packages/sklearn/ensemble/_forest.py:424: FutureWarning: `max_features='auto'` has been deprecated in 1.1 and will be removed in 1.3. To keep the past behaviour, explicitly set `max_features='sqrt'` or remove this parameter as it is also the default value for RandomForestClassifiers and ExtraTreesClassifiers.\n",
            "  warn(\n",
            "\u001b[32m[I 2023-04-19 17:33:04,061]\u001b[0m Trial 79 finished with value: 0.7328571428571429 and parameters: {'n_estimators': 263, 'max_depth': 7, 'min_samples_split': 8, 'min_samples_leaf': 9, 'max_features': 'auto', 'bootstrap': False, 'criterion': 'gini', 'max_leaf_nodes': 17, 'min_weight_fraction_leaf': 0.04430066785063182}. Best is trial 75 with value: 0.736875.\u001b[0m\n",
            "/home/bmmuc/.pyenv/versions/3.8.0/envs/estat/lib/python3.8/site-packages/sklearn/ensemble/_forest.py:424: FutureWarning: `max_features='auto'` has been deprecated in 1.1 and will be removed in 1.3. To keep the past behaviour, explicitly set `max_features='sqrt'` or remove this parameter as it is also the default value for RandomForestClassifiers and ExtraTreesClassifiers.\n",
            "  warn(\n",
            "\u001b[32m[I 2023-04-19 17:33:04,502]\u001b[0m Trial 78 finished with value: 0.7333928571428572 and parameters: {'n_estimators': 321, 'max_depth': 7, 'min_samples_split': 8, 'min_samples_leaf': 6, 'max_features': 'auto', 'bootstrap': False, 'criterion': 'gini', 'max_leaf_nodes': 10, 'min_weight_fraction_leaf': 0.04100521615673866}. Best is trial 75 with value: 0.736875.\u001b[0m\n",
            "/home/bmmuc/.pyenv/versions/3.8.0/envs/estat/lib/python3.8/site-packages/sklearn/ensemble/_forest.py:424: FutureWarning: `max_features='auto'` has been deprecated in 1.1 and will be removed in 1.3. To keep the past behaviour, explicitly set `max_features='sqrt'` or remove this parameter as it is also the default value for RandomForestClassifiers and ExtraTreesClassifiers.\n",
            "  warn(\n",
            "\u001b[32m[I 2023-04-19 17:33:05,261]\u001b[0m Trial 68 finished with value: 0.7341964285714285 and parameters: {'n_estimators': 687, 'max_depth': 6, 'min_samples_split': 9, 'min_samples_leaf': 7, 'max_features': 'sqrt', 'bootstrap': False, 'criterion': 'gini', 'max_leaf_nodes': 10, 'min_weight_fraction_leaf': 0.016161942939365084}. Best is trial 75 with value: 0.736875.\u001b[0m\n",
            "/home/bmmuc/.pyenv/versions/3.8.0/envs/estat/lib/python3.8/site-packages/sklearn/ensemble/_forest.py:424: FutureWarning: `max_features='auto'` has been deprecated in 1.1 and will be removed in 1.3. To keep the past behaviour, explicitly set `max_features='sqrt'` or remove this parameter as it is also the default value for RandomForestClassifiers and ExtraTreesClassifiers.\n",
            "  warn(\n",
            "\u001b[32m[I 2023-04-19 17:33:05,654]\u001b[0m Trial 69 finished with value: 0.7336607142857143 and parameters: {'n_estimators': 696, 'max_depth': 6, 'min_samples_split': 10, 'min_samples_leaf': 2, 'max_features': 'sqrt', 'bootstrap': False, 'criterion': 'gini', 'max_leaf_nodes': 10, 'min_weight_fraction_leaf': 0.010051524300698262}. Best is trial 75 with value: 0.736875.\u001b[0m\n",
            "/home/bmmuc/.pyenv/versions/3.8.0/envs/estat/lib/python3.8/site-packages/sklearn/ensemble/_forest.py:424: FutureWarning: `max_features='auto'` has been deprecated in 1.1 and will be removed in 1.3. To keep the past behaviour, explicitly set `max_features='sqrt'` or remove this parameter as it is also the default value for RandomForestClassifiers and ExtraTreesClassifiers.\n",
            "  warn(\n",
            "\u001b[32m[I 2023-04-19 17:33:07,184]\u001b[0m Trial 65 finished with value: 0.7349107142857143 and parameters: {'n_estimators': 860, 'max_depth': 6, 'min_samples_split': 9, 'min_samples_leaf': 7, 'max_features': 'auto', 'bootstrap': False, 'criterion': 'gini', 'max_leaf_nodes': 11, 'min_weight_fraction_leaf': 0.01799597961316173}. Best is trial 75 with value: 0.736875.\u001b[0m\n",
            "\u001b[32m[I 2023-04-19 17:33:07,229]\u001b[0m Trial 81 finished with value: 0.7335714285714285 and parameters: {'n_estimators': 182, 'max_depth': 6, 'min_samples_split': 9, 'min_samples_leaf': 8, 'max_features': 'auto', 'bootstrap': False, 'criterion': 'gini', 'max_leaf_nodes': 18, 'min_weight_fraction_leaf': 0.04033062906076977}. Best is trial 75 with value: 0.736875.\u001b[0m\n",
            "/home/bmmuc/.pyenv/versions/3.8.0/envs/estat/lib/python3.8/site-packages/sklearn/ensemble/_forest.py:424: FutureWarning: `max_features='auto'` has been deprecated in 1.1 and will be removed in 1.3. To keep the past behaviour, explicitly set `max_features='sqrt'` or remove this parameter as it is also the default value for RandomForestClassifiers and ExtraTreesClassifiers.\n",
            "  warn(\n",
            "/home/bmmuc/.pyenv/versions/3.8.0/envs/estat/lib/python3.8/site-packages/sklearn/ensemble/_forest.py:424: FutureWarning: `max_features='auto'` has been deprecated in 1.1 and will be removed in 1.3. To keep the past behaviour, explicitly set `max_features='sqrt'` or remove this parameter as it is also the default value for RandomForestClassifiers and ExtraTreesClassifiers.\n",
            "  warn(\n",
            "\u001b[32m[I 2023-04-19 17:33:08,901]\u001b[0m Trial 80 finished with value: 0.7327678571428572 and parameters: {'n_estimators': 330, 'max_depth': 7, 'min_samples_split': 8, 'min_samples_leaf': 6, 'max_features': 'auto', 'bootstrap': False, 'criterion': 'gini', 'max_leaf_nodes': 15, 'min_weight_fraction_leaf': 0.040664797988061996}. Best is trial 75 with value: 0.736875.\u001b[0m\n",
            "/home/bmmuc/.pyenv/versions/3.8.0/envs/estat/lib/python3.8/site-packages/sklearn/ensemble/_forest.py:424: FutureWarning: `max_features='auto'` has been deprecated in 1.1 and will be removed in 1.3. To keep the past behaviour, explicitly set `max_features='sqrt'` or remove this parameter as it is also the default value for RandomForestClassifiers and ExtraTreesClassifiers.\n",
            "  warn(\n",
            "\u001b[32m[I 2023-04-19 17:33:09,589]\u001b[0m Trial 84 finished with value: 0.7338392857142857 and parameters: {'n_estimators': 204, 'max_depth': 8, 'min_samples_split': 9, 'min_samples_leaf': 6, 'max_features': 'auto', 'bootstrap': False, 'criterion': 'gini', 'max_leaf_nodes': 16, 'min_weight_fraction_leaf': 0.05489920889537245}. Best is trial 75 with value: 0.736875.\u001b[0m\n",
            "/home/bmmuc/.pyenv/versions/3.8.0/envs/estat/lib/python3.8/site-packages/sklearn/ensemble/_forest.py:424: FutureWarning: `max_features='auto'` has been deprecated in 1.1 and will be removed in 1.3. To keep the past behaviour, explicitly set `max_features='sqrt'` or remove this parameter as it is also the default value for RandomForestClassifiers and ExtraTreesClassifiers.\n",
            "  warn(\n",
            "\u001b[32m[I 2023-04-19 17:33:11,106]\u001b[0m Trial 82 finished with value: 0.7342857142857143 and parameters: {'n_estimators': 328, 'max_depth': 6, 'min_samples_split': 9, 'min_samples_leaf': 8, 'max_features': 'auto', 'bootstrap': False, 'criterion': 'gini', 'max_leaf_nodes': 15, 'min_weight_fraction_leaf': 0.05526872605403078}. Best is trial 75 with value: 0.736875.\u001b[0m\n",
            "/home/bmmuc/.pyenv/versions/3.8.0/envs/estat/lib/python3.8/site-packages/sklearn/ensemble/_forest.py:424: FutureWarning: `max_features='auto'` has been deprecated in 1.1 and will be removed in 1.3. To keep the past behaviour, explicitly set `max_features='sqrt'` or remove this parameter as it is also the default value for RandomForestClassifiers and ExtraTreesClassifiers.\n",
            "  warn(\n",
            "\u001b[32m[I 2023-04-19 17:33:11,485]\u001b[0m Trial 86 finished with value: 0.7321428571428571 and parameters: {'n_estimators': 192, 'max_depth': 8, 'min_samples_split': 9, 'min_samples_leaf': 8, 'max_features': 'auto', 'bootstrap': False, 'criterion': 'gini', 'max_leaf_nodes': 16, 'min_weight_fraction_leaf': 0.05628858259898692}. Best is trial 75 with value: 0.736875.\u001b[0m\n",
            "/home/bmmuc/.pyenv/versions/3.8.0/envs/estat/lib/python3.8/site-packages/sklearn/ensemble/_forest.py:424: FutureWarning: `max_features='auto'` has been deprecated in 1.1 and will be removed in 1.3. To keep the past behaviour, explicitly set `max_features='sqrt'` or remove this parameter as it is also the default value for RandomForestClassifiers and ExtraTreesClassifiers.\n",
            "  warn(\n",
            "\u001b[32m[I 2023-04-19 17:33:12,014]\u001b[0m Trial 87 finished with value: 0.7325 and parameters: {'n_estimators': 214, 'max_depth': 5, 'min_samples_split': 9, 'min_samples_leaf': 6, 'max_features': 'auto', 'bootstrap': False, 'criterion': 'gini', 'max_leaf_nodes': 15, 'min_weight_fraction_leaf': 0.053456289262281124}. Best is trial 75 with value: 0.736875.\u001b[0m\n",
            "/home/bmmuc/.pyenv/versions/3.8.0/envs/estat/lib/python3.8/site-packages/sklearn/ensemble/_forest.py:424: FutureWarning: `max_features='auto'` has been deprecated in 1.1 and will be removed in 1.3. To keep the past behaviour, explicitly set `max_features='sqrt'` or remove this parameter as it is also the default value for RandomForestClassifiers and ExtraTreesClassifiers.\n",
            "  warn(\n",
            "\u001b[32m[I 2023-04-19 17:33:12,464]\u001b[0m Trial 71 finished with value: 0.7338392857142857 and parameters: {'n_estimators': 881, 'max_depth': 14, 'min_samples_split': 10, 'min_samples_leaf': 7, 'max_features': 'auto', 'bootstrap': False, 'criterion': 'gini', 'max_leaf_nodes': 10, 'min_weight_fraction_leaf': 0.01039570495839875}. Best is trial 75 with value: 0.736875.\u001b[0m\n",
            "/home/bmmuc/.pyenv/versions/3.8.0/envs/estat/lib/python3.8/site-packages/sklearn/ensemble/_forest.py:424: FutureWarning: `max_features='auto'` has been deprecated in 1.1 and will be removed in 1.3. To keep the past behaviour, explicitly set `max_features='sqrt'` or remove this parameter as it is also the default value for RandomForestClassifiers and ExtraTreesClassifiers.\n",
            "  warn(\n",
            "\u001b[32m[I 2023-04-19 17:33:13,382]\u001b[0m Trial 88 finished with value: 0.7316964285714286 and parameters: {'n_estimators': 192, 'max_depth': 5, 'min_samples_split': 10, 'min_samples_leaf': 7, 'max_features': 'auto', 'bootstrap': False, 'criterion': 'gini', 'max_leaf_nodes': 15, 'min_weight_fraction_leaf': 0.055004181197559905}. Best is trial 75 with value: 0.736875.\u001b[0m\n",
            "/home/bmmuc/.pyenv/versions/3.8.0/envs/estat/lib/python3.8/site-packages/sklearn/ensemble/_forest.py:424: FutureWarning: `max_features='auto'` has been deprecated in 1.1 and will be removed in 1.3. To keep the past behaviour, explicitly set `max_features='sqrt'` or remove this parameter as it is also the default value for RandomForestClassifiers and ExtraTreesClassifiers.\n",
            "  warn(\n",
            "\u001b[32m[I 2023-04-19 17:33:17,485]\u001b[0m Trial 85 finished with value: 0.7329464285714286 and parameters: {'n_estimators': 541, 'max_depth': 8, 'min_samples_split': 9, 'min_samples_leaf': 8, 'max_features': 'auto', 'bootstrap': False, 'criterion': 'gini', 'max_leaf_nodes': 18, 'min_weight_fraction_leaf': 0.05317773091032227}. Best is trial 75 with value: 0.736875.\u001b[0m\n",
            "/home/bmmuc/.pyenv/versions/3.8.0/envs/estat/lib/python3.8/site-packages/sklearn/ensemble/_forest.py:424: FutureWarning: `max_features='auto'` has been deprecated in 1.1 and will be removed in 1.3. To keep the past behaviour, explicitly set `max_features='sqrt'` or remove this parameter as it is also the default value for RandomForestClassifiers and ExtraTreesClassifiers.\n",
            "  warn(\n",
            "\u001b[32m[I 2023-04-19 17:33:17,691]\u001b[0m Trial 83 finished with value: 0.7350892857142857 and parameters: {'n_estimators': 543, 'max_depth': 6, 'min_samples_split': 9, 'min_samples_leaf': 8, 'max_features': 'auto', 'bootstrap': False, 'criterion': 'gini', 'max_leaf_nodes': 15, 'min_weight_fraction_leaf': 0.00129713094341629}. Best is trial 75 with value: 0.736875.\u001b[0m\n",
            "/home/bmmuc/.pyenv/versions/3.8.0/envs/estat/lib/python3.8/site-packages/sklearn/ensemble/_forest.py:424: FutureWarning: `max_features='auto'` has been deprecated in 1.1 and will be removed in 1.3. To keep the past behaviour, explicitly set `max_features='sqrt'` or remove this parameter as it is also the default value for RandomForestClassifiers and ExtraTreesClassifiers.\n",
            "  warn(\n",
            "\u001b[32m[I 2023-04-19 17:33:19,711]\u001b[0m Trial 89 finished with value: 0.7350892857142857 and parameters: {'n_estimators': 424, 'max_depth': 5, 'min_samples_split': 10, 'min_samples_leaf': 7, 'max_features': 'auto', 'bootstrap': False, 'criterion': 'gini', 'max_leaf_nodes': 14, 'min_weight_fraction_leaf': 0.010775329664464029}. Best is trial 75 with value: 0.736875.\u001b[0m\n",
            "/home/bmmuc/.pyenv/versions/3.8.0/envs/estat/lib/python3.8/site-packages/sklearn/ensemble/_forest.py:424: FutureWarning: `max_features='auto'` has been deprecated in 1.1 and will be removed in 1.3. To keep the past behaviour, explicitly set `max_features='sqrt'` or remove this parameter as it is also the default value for RandomForestClassifiers and ExtraTreesClassifiers.\n",
            "  warn(\n",
            "\u001b[32m[I 2023-04-19 17:33:20,577]\u001b[0m Trial 95 finished with value: 0.7338392857142857 and parameters: {'n_estimators': 128, 'max_depth': 9, 'min_samples_split': 4, 'min_samples_leaf': 4, 'max_features': 'auto', 'bootstrap': False, 'criterion': 'gini', 'max_leaf_nodes': 11, 'min_weight_fraction_leaf': 0.034716937002392326}. Best is trial 75 with value: 0.736875.\u001b[0m\n",
            "/home/bmmuc/.pyenv/versions/3.8.0/envs/estat/lib/python3.8/site-packages/sklearn/ensemble/_forest.py:424: FutureWarning: `max_features='auto'` has been deprecated in 1.1 and will be removed in 1.3. To keep the past behaviour, explicitly set `max_features='sqrt'` or remove this parameter as it is also the default value for RandomForestClassifiers and ExtraTreesClassifiers.\n",
            "  warn(\n",
            "\u001b[32m[I 2023-04-19 17:33:22,446]\u001b[0m Trial 92 finished with value: 0.7348214285714286 and parameters: {'n_estimators': 433, 'max_depth': 12, 'min_samples_split': 10, 'min_samples_leaf': 7, 'max_features': 'auto', 'bootstrap': False, 'criterion': 'gini', 'max_leaf_nodes': 14, 'min_weight_fraction_leaf': 0.0037749346428573903}. Best is trial 75 with value: 0.736875.\u001b[0m\n",
            "/home/bmmuc/.pyenv/versions/3.8.0/envs/estat/lib/python3.8/site-packages/sklearn/ensemble/_forest.py:424: FutureWarning: `max_features='auto'` has been deprecated in 1.1 and will be removed in 1.3. To keep the past behaviour, explicitly set `max_features='sqrt'` or remove this parameter as it is also the default value for RandomForestClassifiers and ExtraTreesClassifiers.\n",
            "  warn(\n",
            "\u001b[32m[I 2023-04-19 17:33:22,780]\u001b[0m Trial 97 finished with value: 0.7351785714285715 and parameters: {'n_estimators': 132, 'max_depth': 12, 'min_samples_split': 7, 'min_samples_leaf': 4, 'max_features': 'auto', 'bootstrap': False, 'criterion': 'gini', 'max_leaf_nodes': 11, 'min_weight_fraction_leaf': 0.0024904057831764454}. Best is trial 75 with value: 0.736875.\u001b[0m\n",
            "\u001b[32m[I 2023-04-19 17:33:23,067]\u001b[0m Trial 93 finished with value: 0.73375 and parameters: {'n_estimators': 442, 'max_depth': 13, 'min_samples_split': 10, 'min_samples_leaf': 7, 'max_features': 'auto', 'bootstrap': False, 'criterion': 'gini', 'max_leaf_nodes': 14, 'min_weight_fraction_leaf': 3.195455576600163e-05}. Best is trial 75 with value: 0.736875.\u001b[0m\n",
            "\u001b[32m[I 2023-04-19 17:33:23,307]\u001b[0m Trial 94 finished with value: 0.7344642857142857 and parameters: {'n_estimators': 423, 'max_depth': 12, 'min_samples_split': 10, 'min_samples_leaf': 4, 'max_features': 'auto', 'bootstrap': False, 'criterion': 'gini', 'max_leaf_nodes': 14, 'min_weight_fraction_leaf': 0.0001813028524183559}. Best is trial 75 with value: 0.736875.\u001b[0m\n",
            "\u001b[32m[I 2023-04-19 17:33:23,569]\u001b[0m Trial 91 finished with value: 0.7348214285714286 and parameters: {'n_estimators': 550, 'max_depth': 5, 'min_samples_split': 10, 'min_samples_leaf': 7, 'max_features': 'auto', 'bootstrap': False, 'criterion': 'gini', 'max_leaf_nodes': 11, 'min_weight_fraction_leaf': 0.002917648770669159}. Best is trial 75 with value: 0.736875.\u001b[0m\n",
            "\u001b[32m[I 2023-04-19 17:33:23,869]\u001b[0m Trial 90 finished with value: 0.7349107142857143 and parameters: {'n_estimators': 533, 'max_depth': 12, 'min_samples_split': 10, 'min_samples_leaf': 7, 'max_features': 'auto', 'bootstrap': False, 'criterion': 'gini', 'max_leaf_nodes': 14, 'min_weight_fraction_leaf': 0.005563011466545162}. Best is trial 75 with value: 0.736875.\u001b[0m\n",
            "\u001b[32m[I 2023-04-19 17:33:24,636]\u001b[0m Trial 98 finished with value: 0.7335714285714285 and parameters: {'n_estimators': 240, 'max_depth': 12, 'min_samples_split': 7, 'min_samples_leaf': 2, 'max_features': 'auto', 'bootstrap': False, 'criterion': 'entropy', 'max_leaf_nodes': 9, 'min_weight_fraction_leaf': 0.034308847448224475}. Best is trial 75 with value: 0.736875.\u001b[0m\n",
            "\u001b[32m[I 2023-04-19 17:33:25,588]\u001b[0m Trial 96 finished with value: 0.73625 and parameters: {'n_estimators': 432, 'max_depth': 12, 'min_samples_split': 10, 'min_samples_leaf': 4, 'max_features': 'auto', 'bootstrap': False, 'criterion': 'gini', 'max_leaf_nodes': 14, 'min_weight_fraction_leaf': 0.03349638830508962}. Best is trial 75 with value: 0.736875.\u001b[0m\n",
            "\u001b[32m[I 2023-04-19 17:33:25,688]\u001b[0m Trial 99 finished with value: 0.7350892857142857 and parameters: {'n_estimators': 240, 'max_depth': 9, 'min_samples_split': 2, 'min_samples_leaf': 2, 'max_features': 'auto', 'bootstrap': False, 'criterion': 'entropy', 'max_leaf_nodes': 9, 'min_weight_fraction_leaf': 0.03323487368677804}. Best is trial 75 with value: 0.736875.\u001b[0m\n"
          ]
        }
      ],
      "source": [
        "import optuna\n",
        "\n",
        "from sklearn.metrics import accuracy_score\n",
        "def objective(trial):\n",
        "    \"\"\"Define the objective function\"\"\"\n",
        "\n",
        "    params = {\n",
        "        'n_estimators': trial.suggest_int('n_estimators', 100, 1000),\n",
        "        'max_depth': trial.suggest_int('max_depth', 5, 20),\n",
        "        'min_samples_split': trial.suggest_int('min_samples_split', 2, 10),\n",
        "        'min_samples_leaf': trial.suggest_int('min_samples_leaf', 1, 10),\n",
        "        'max_features': trial.suggest_categorical('max_features', ['auto', 'sqrt', 'log2']),\n",
        "        'bootstrap': trial.suggest_categorical('bootstrap', [True, False]),\n",
        "        'criterion': trial.suggest_categorical('criterion', ['gini', 'entropy']),\n",
        "        'max_leaf_nodes': trial.suggest_int('max_leaf_nodes', 2, 20),\n",
        "        'min_weight_fraction_leaf': trial.suggest_float('min_weight_fraction_leaf', 0.0, 0.5),\n",
        "    }\n",
        "\n",
        "\n",
        "    optuna_model = RandomForestClassifier(**params)\n",
        "    optuna_model.fit(x_train, y_train)\n",
        "\n",
        "\n",
        "    y_pred = optuna_model.predict(x_val)\n",
        "\n",
        "\n",
        "    precision = precision_score(y_val, y_pred)\n",
        "    return accuracy\n",
        "study = optuna.create_study(direction='maximize')\n",
        "study.optimize(objective, n_trials=100, n_jobs=8, timeout=600 * 3)"
      ]
    },
    {
      "cell_type": "code",
      "execution_count": 8,
      "metadata": {
        "colab": {
          "base_uri": "https://localhost:8080/",
          "height": 92
        },
        "id": "z-qTtdyPXgz8",
        "outputId": "e77e523c-e45c-4aa8-afa3-ce4c3102bf99"
      },
      "outputs": [],
      "source": [
        "trial = study.best_trial\n",
        "params = trial.params\n",
        "\n",
        "rf_clf = RandomForestClassifier(**params)"
      ]
    },
    {
      "cell_type": "code",
      "execution_count": 9,
      "metadata": {},
      "outputs": [
        {
          "data": {
            "text/plain": [
              "{'n_estimators': 158,\n",
              " 'max_depth': 7,\n",
              " 'min_samples_split': 10,\n",
              " 'min_samples_leaf': 7,\n",
              " 'max_features': 'auto',\n",
              " 'bootstrap': False,\n",
              " 'criterion': 'gini',\n",
              " 'max_leaf_nodes': 14,\n",
              " 'min_weight_fraction_leaf': 0.007871254791640473}"
            ]
          },
          "execution_count": 9,
          "metadata": {},
          "output_type": "execute_result"
        }
      ],
      "source": [
        "params"
      ]
    },
    {
      "cell_type": "code",
      "execution_count": 10,
      "metadata": {},
      "outputs": [
        {
          "name": "stderr",
          "output_type": "stream",
          "text": [
            "/home/bmmuc/.pyenv/versions/3.8.0/envs/estat/lib/python3.8/site-packages/sklearn/ensemble/_forest.py:424: FutureWarning: `max_features='auto'` has been deprecated in 1.1 and will be removed in 1.3. To keep the past behaviour, explicitly set `max_features='sqrt'` or remove this parameter as it is also the default value for RandomForestClassifiers and ExtraTreesClassifiers.\n",
            "  warn(\n",
            "/home/bmmuc/.pyenv/versions/3.8.0/envs/estat/lib/python3.8/site-packages/sklearn/ensemble/_forest.py:424: FutureWarning: `max_features='auto'` has been deprecated in 1.1 and will be removed in 1.3. To keep the past behaviour, explicitly set `max_features='sqrt'` or remove this parameter as it is also the default value for RandomForestClassifiers and ExtraTreesClassifiers.\n",
            "  warn(\n",
            "/home/bmmuc/.pyenv/versions/3.8.0/envs/estat/lib/python3.8/site-packages/sklearn/ensemble/_forest.py:424: FutureWarning: `max_features='auto'` has been deprecated in 1.1 and will be removed in 1.3. To keep the past behaviour, explicitly set `max_features='sqrt'` or remove this parameter as it is also the default value for RandomForestClassifiers and ExtraTreesClassifiers.\n",
            "  warn(\n",
            "/home/bmmuc/.pyenv/versions/3.8.0/envs/estat/lib/python3.8/site-packages/sklearn/ensemble/_forest.py:424: FutureWarning: `max_features='auto'` has been deprecated in 1.1 and will be removed in 1.3. To keep the past behaviour, explicitly set `max_features='sqrt'` or remove this parameter as it is also the default value for RandomForestClassifiers and ExtraTreesClassifiers.\n",
            "  warn(\n",
            "/home/bmmuc/.pyenv/versions/3.8.0/envs/estat/lib/python3.8/site-packages/sklearn/ensemble/_forest.py:424: FutureWarning: `max_features='auto'` has been deprecated in 1.1 and will be removed in 1.3. To keep the past behaviour, explicitly set `max_features='sqrt'` or remove this parameter as it is also the default value for RandomForestClassifiers and ExtraTreesClassifiers.\n",
            "  warn(\n",
            "/home/bmmuc/.pyenv/versions/3.8.0/envs/estat/lib/python3.8/site-packages/sklearn/ensemble/_forest.py:424: FutureWarning: `max_features='auto'` has been deprecated in 1.1 and will be removed in 1.3. To keep the past behaviour, explicitly set `max_features='sqrt'` or remove this parameter as it is also the default value for RandomForestClassifiers and ExtraTreesClassifiers.\n",
            "  warn(\n",
            "/home/bmmuc/.pyenv/versions/3.8.0/envs/estat/lib/python3.8/site-packages/sklearn/ensemble/_forest.py:424: FutureWarning: `max_features='auto'` has been deprecated in 1.1 and will be removed in 1.3. To keep the past behaviour, explicitly set `max_features='sqrt'` or remove this parameter as it is also the default value for RandomForestClassifiers and ExtraTreesClassifiers.\n",
            "  warn(\n",
            "/home/bmmuc/.pyenv/versions/3.8.0/envs/estat/lib/python3.8/site-packages/sklearn/ensemble/_forest.py:424: FutureWarning: `max_features='auto'` has been deprecated in 1.1 and will be removed in 1.3. To keep the past behaviour, explicitly set `max_features='sqrt'` or remove this parameter as it is also the default value for RandomForestClassifiers and ExtraTreesClassifiers.\n",
            "  warn(\n",
            "/home/bmmuc/.pyenv/versions/3.8.0/envs/estat/lib/python3.8/site-packages/sklearn/ensemble/_forest.py:424: FutureWarning: `max_features='auto'` has been deprecated in 1.1 and will be removed in 1.3. To keep the past behaviour, explicitly set `max_features='sqrt'` or remove this parameter as it is also the default value for RandomForestClassifiers and ExtraTreesClassifiers.\n",
            "  warn(\n",
            "/home/bmmuc/.pyenv/versions/3.8.0/envs/estat/lib/python3.8/site-packages/sklearn/ensemble/_forest.py:424: FutureWarning: `max_features='auto'` has been deprecated in 1.1 and will be removed in 1.3. To keep the past behaviour, explicitly set `max_features='sqrt'` or remove this parameter as it is also the default value for RandomForestClassifiers and ExtraTreesClassifiers.\n",
            "  warn(\n",
            "/home/bmmuc/.pyenv/versions/3.8.0/envs/estat/lib/python3.8/site-packages/sklearn/ensemble/_forest.py:424: FutureWarning: `max_features='auto'` has been deprecated in 1.1 and will be removed in 1.3. To keep the past behaviour, explicitly set `max_features='sqrt'` or remove this parameter as it is also the default value for RandomForestClassifiers and ExtraTreesClassifiers.\n",
            "  warn(\n",
            "/home/bmmuc/.pyenv/versions/3.8.0/envs/estat/lib/python3.8/site-packages/sklearn/ensemble/_forest.py:424: FutureWarning: `max_features='auto'` has been deprecated in 1.1 and will be removed in 1.3. To keep the past behaviour, explicitly set `max_features='sqrt'` or remove this parameter as it is also the default value for RandomForestClassifiers and ExtraTreesClassifiers.\n",
            "  warn(\n",
            "/home/bmmuc/.pyenv/versions/3.8.0/envs/estat/lib/python3.8/site-packages/sklearn/ensemble/_forest.py:424: FutureWarning: `max_features='auto'` has been deprecated in 1.1 and will be removed in 1.3. To keep the past behaviour, explicitly set `max_features='sqrt'` or remove this parameter as it is also the default value for RandomForestClassifiers and ExtraTreesClassifiers.\n",
            "  warn(\n",
            "/home/bmmuc/.pyenv/versions/3.8.0/envs/estat/lib/python3.8/site-packages/sklearn/ensemble/_forest.py:424: FutureWarning: `max_features='auto'` has been deprecated in 1.1 and will be removed in 1.3. To keep the past behaviour, explicitly set `max_features='sqrt'` or remove this parameter as it is also the default value for RandomForestClassifiers and ExtraTreesClassifiers.\n",
            "  warn(\n",
            "/home/bmmuc/.pyenv/versions/3.8.0/envs/estat/lib/python3.8/site-packages/sklearn/ensemble/_forest.py:424: FutureWarning: `max_features='auto'` has been deprecated in 1.1 and will be removed in 1.3. To keep the past behaviour, explicitly set `max_features='sqrt'` or remove this parameter as it is also the default value for RandomForestClassifiers and ExtraTreesClassifiers.\n",
            "  warn(\n",
            "/home/bmmuc/.pyenv/versions/3.8.0/envs/estat/lib/python3.8/site-packages/sklearn/ensemble/_forest.py:424: FutureWarning: `max_features='auto'` has been deprecated in 1.1 and will be removed in 1.3. To keep the past behaviour, explicitly set `max_features='sqrt'` or remove this parameter as it is also the default value for RandomForestClassifiers and ExtraTreesClassifiers.\n",
            "  warn(\n",
            "/home/bmmuc/.pyenv/versions/3.8.0/envs/estat/lib/python3.8/site-packages/sklearn/ensemble/_forest.py:424: FutureWarning: `max_features='auto'` has been deprecated in 1.1 and will be removed in 1.3. To keep the past behaviour, explicitly set `max_features='sqrt'` or remove this parameter as it is also the default value for RandomForestClassifiers and ExtraTreesClassifiers.\n",
            "  warn(\n",
            "/home/bmmuc/.pyenv/versions/3.8.0/envs/estat/lib/python3.8/site-packages/sklearn/ensemble/_forest.py:424: FutureWarning: `max_features='auto'` has been deprecated in 1.1 and will be removed in 1.3. To keep the past behaviour, explicitly set `max_features='sqrt'` or remove this parameter as it is also the default value for RandomForestClassifiers and ExtraTreesClassifiers.\n",
            "  warn(\n",
            "/home/bmmuc/.pyenv/versions/3.8.0/envs/estat/lib/python3.8/site-packages/sklearn/ensemble/_forest.py:424: FutureWarning: `max_features='auto'` has been deprecated in 1.1 and will be removed in 1.3. To keep the past behaviour, explicitly set `max_features='sqrt'` or remove this parameter as it is also the default value for RandomForestClassifiers and ExtraTreesClassifiers.\n",
            "  warn(\n",
            "/home/bmmuc/.pyenv/versions/3.8.0/envs/estat/lib/python3.8/site-packages/sklearn/ensemble/_forest.py:424: FutureWarning: `max_features='auto'` has been deprecated in 1.1 and will be removed in 1.3. To keep the past behaviour, explicitly set `max_features='sqrt'` or remove this parameter as it is also the default value for RandomForestClassifiers and ExtraTreesClassifiers.\n",
            "  warn(\n"
          ]
        },
        {
          "name": "stdout",
          "output_type": "stream",
          "text": [
            "Accuracy: 0.73 +/- 0.01\n",
            "Precision: 0.76 +/- 0.01\n"
          ]
        }
      ],
      "source": [
        "from sklearn.model_selection import KFold\n",
        "kf = KFold(n_splits=10, shuffle=True, random_state=0)\n",
        "\n",
        "from sklearn.model_selection import cross_val_score\n",
        "\n",
        "scores = cross_val_score(rf_clf, x_train, y_train, cv=kf, scoring='accuracy', n_jobs=8)\n",
        "precision_scores = cross_val_score(rf_clf, x_train, y_train, cv=kf, scoring='precision', n_jobs=8)\n",
        "\n",
        "print('Accuracy: {:.2f} +/- {:.2f}'.format(scores.mean(), scores.std()))\n",
        "print('Precision: {:.2f} +/- {:.2f}'.format(precision_scores.mean(), precision_scores.std()))"
      ]
    },
    {
      "cell_type": "code",
      "execution_count": 11,
      "metadata": {
        "colab": {
          "base_uri": "https://localhost:8080/"
        },
        "id": "riMQV9bYhuVA",
        "outputId": "3bbe9380-9f2d-4a6f-b8c9-6417a8b1a827"
      },
      "outputs": [
        {
          "name": "stderr",
          "output_type": "stream",
          "text": [
            "/home/bmmuc/.pyenv/versions/3.8.0/envs/estat/lib/python3.8/site-packages/sklearn/ensemble/_forest.py:424: FutureWarning: `max_features='auto'` has been deprecated in 1.1 and will be removed in 1.3. To keep the past behaviour, explicitly set `max_features='sqrt'` or remove this parameter as it is also the default value for RandomForestClassifiers and ExtraTreesClassifiers.\n",
            "  warn(\n"
          ]
        }
      ],
      "source": [
        "full_data = preprocessor.transform(data.drop('cardio', axis=1))\n",
        "rf_clf.fit(full_data, data['cardio'])\n",
        "random_forest_pred = rf_clf.predict(x_val)\n",
        "\n",
        "pd.DataFrame(random_forest_pred).to_csv('random_forest.csv', index=False, header=False)"
      ]
    },
    {
      "cell_type": "code",
      "execution_count": 18,
      "metadata": {
        "colab": {
          "base_uri": "https://localhost:8080/"
        },
        "id": "ELZ8ygo9hxhA",
        "outputId": "e042d48e-089a-48a6-fca5-8773d6b0890f"
      },
      "outputs": [
        {
          "data": {
            "text/plain": [
              "0.7358928571428571"
            ]
          },
          "execution_count": 18,
          "metadata": {},
          "output_type": "execute_result"
        }
      ],
      "source": [
        "rf_clf.score(x_val, y_val)\n"
      ]
    },
    {
      "cell_type": "code",
      "execution_count": 19,
      "metadata": {
        "id": "lf2W0leRhzLW"
      },
      "outputs": [
        {
          "data": {
            "text/html": [
              "<div>\n",
              "<style scoped>\n",
              "    .dataframe tbody tr th:only-of-type {\n",
              "        vertical-align: middle;\n",
              "    }\n",
              "\n",
              "    .dataframe tbody tr th {\n",
              "        vertical-align: top;\n",
              "    }\n",
              "\n",
              "    .dataframe thead th {\n",
              "        text-align: right;\n",
              "    }\n",
              "</style>\n",
              "<table border=\"1\" class=\"dataframe\">\n",
              "  <thead>\n",
              "    <tr style=\"text-align: right;\">\n",
              "      <th></th>\n",
              "      <th>id</th>\n",
              "      <th>age</th>\n",
              "      <th>gender</th>\n",
              "      <th>height</th>\n",
              "      <th>weight</th>\n",
              "      <th>ap_hi</th>\n",
              "      <th>ap_lo</th>\n",
              "      <th>cholesterol</th>\n",
              "      <th>gluc</th>\n",
              "      <th>smoke</th>\n",
              "      <th>alco</th>\n",
              "      <th>active</th>\n",
              "      <th>cardio</th>\n",
              "    </tr>\n",
              "  </thead>\n",
              "  <tbody>\n",
              "    <tr>\n",
              "      <th>0</th>\n",
              "      <td>2</td>\n",
              "      <td>52.0</td>\n",
              "      <td>1</td>\n",
              "      <td>165</td>\n",
              "      <td>64.0</td>\n",
              "      <td>130</td>\n",
              "      <td>70</td>\n",
              "      <td>3</td>\n",
              "      <td>1</td>\n",
              "      <td>0</td>\n",
              "      <td>0</td>\n",
              "      <td>0</td>\n",
              "      <td>1</td>\n",
              "    </tr>\n",
              "    <tr>\n",
              "      <th>1</th>\n",
              "      <td>15</td>\n",
              "      <td>62.0</td>\n",
              "      <td>1</td>\n",
              "      <td>169</td>\n",
              "      <td>80.0</td>\n",
              "      <td>120</td>\n",
              "      <td>80</td>\n",
              "      <td>1</td>\n",
              "      <td>1</td>\n",
              "      <td>0</td>\n",
              "      <td>0</td>\n",
              "      <td>1</td>\n",
              "      <td>0</td>\n",
              "    </tr>\n",
              "    <tr>\n",
              "      <th>2</th>\n",
              "      <td>18</td>\n",
              "      <td>41.0</td>\n",
              "      <td>2</td>\n",
              "      <td>165</td>\n",
              "      <td>60.0</td>\n",
              "      <td>120</td>\n",
              "      <td>80</td>\n",
              "      <td>1</td>\n",
              "      <td>1</td>\n",
              "      <td>0</td>\n",
              "      <td>0</td>\n",
              "      <td>0</td>\n",
              "      <td>0</td>\n",
              "    </tr>\n",
              "    <tr>\n",
              "      <th>3</th>\n",
              "      <td>24</td>\n",
              "      <td>46.0</td>\n",
              "      <td>2</td>\n",
              "      <td>172</td>\n",
              "      <td>112.0</td>\n",
              "      <td>120</td>\n",
              "      <td>80</td>\n",
              "      <td>1</td>\n",
              "      <td>1</td>\n",
              "      <td>0</td>\n",
              "      <td>0</td>\n",
              "      <td>0</td>\n",
              "      <td>1</td>\n",
              "    </tr>\n",
              "    <tr>\n",
              "      <th>4</th>\n",
              "      <td>31</td>\n",
              "      <td>59.0</td>\n",
              "      <td>1</td>\n",
              "      <td>157</td>\n",
              "      <td>69.0</td>\n",
              "      <td>130</td>\n",
              "      <td>80</td>\n",
              "      <td>1</td>\n",
              "      <td>1</td>\n",
              "      <td>0</td>\n",
              "      <td>0</td>\n",
              "      <td>1</td>\n",
              "      <td>0</td>\n",
              "    </tr>\n",
              "  </tbody>\n",
              "</table>\n",
              "</div>"
            ],
            "text/plain": [
              "   id   age  gender  height  weight  ap_hi  ap_lo  cholesterol  gluc  smoke   \n",
              "0   2  52.0       1     165    64.0    130     70            3     1      0  \\\n",
              "1  15  62.0       1     169    80.0    120     80            1     1      0   \n",
              "2  18  41.0       2     165    60.0    120     80            1     1      0   \n",
              "3  24  46.0       2     172   112.0    120     80            1     1      0   \n",
              "4  31  59.0       1     157    69.0    130     80            1     1      0   \n",
              "\n",
              "   alco  active  cardio  \n",
              "0     0       0       1  \n",
              "1     0       1       0  \n",
              "2     0       0       0  \n",
              "3     0       0       1  \n",
              "4     0       1       0  "
            ]
          },
          "execution_count": 19,
          "metadata": {},
          "output_type": "execute_result"
        }
      ],
      "source": [
        "data_test = pd.read_csv('test.csv')\n",
        "test_target = data_test['cardio']\n",
        "data_test['age'] = round(data_test['age'] / 365)\n",
        "data_test.head()"
      ]
    },
    {
      "cell_type": "code",
      "execution_count": 20,
      "metadata": {
        "id": "o9rvC52IjAHb"
      },
      "outputs": [],
      "source": [
        "x_test = preprocessor.transform(data_test)\n",
        "y_test = rf_clf.predict(x_test)"
      ]
    },
    {
      "cell_type": "code",
      "execution_count": 21,
      "metadata": {
        "colab": {
          "base_uri": "https://localhost:8080/"
        },
        "id": "n7kM3aqNjDrQ",
        "outputId": "858f477d-577a-4b1b-b2ba-4ac9acb9f695"
      },
      "outputs": [
        {
          "data": {
            "text/plain": [
              "0.7250714285714286"
            ]
          },
          "execution_count": 21,
          "metadata": {},
          "output_type": "execute_result"
        }
      ],
      "source": [
        "from sklearn.metrics import accuracy_score\n",
        "accuracy_score(data_test['cardio'], y_test)"
      ]
    },
    {
      "cell_type": "code",
      "execution_count": null,
      "metadata": {},
      "outputs": [],
      "source": []
    }
  ],
  "metadata": {
    "colab": {
      "authorship_tag": "ABX9TyN0y2q8ITlR/D7x3Cljbxon",
      "provenance": []
    },
    "kernelspec": {
      "display_name": "Python 3",
      "name": "python3"
    },
    "language_info": {
      "codemirror_mode": {
        "name": "ipython",
        "version": 3
      },
      "file_extension": ".py",
      "mimetype": "text/x-python",
      "name": "python",
      "nbconvert_exporter": "python",
      "pygments_lexer": "ipython3",
      "version": "3.8.0"
    }
  },
  "nbformat": 4,
  "nbformat_minor": 0
}
