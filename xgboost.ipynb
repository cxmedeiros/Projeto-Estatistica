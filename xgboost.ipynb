{
 "cells": [
  {
   "cell_type": "code",
   "execution_count": 45,
   "metadata": {},
   "outputs": [],
   "source": [
    "import pandas as pd\n",
    "# import dummy classifier\n",
    "from sklearn.dummy import DummyClassifier\n",
    "# import train_test_split\n",
    "from sklearn.model_selection import train_test_split"
   ]
  },
  {
   "cell_type": "code",
   "execution_count": 46,
   "metadata": {},
   "outputs": [],
   "source": [
    "data = pd.read_csv('train.csv')"
   ]
  },
  {
   "cell_type": "code",
   "execution_count": 47,
   "metadata": {},
   "outputs": [
    {
     "data": {
      "text/html": [
       "<div>\n",
       "<style scoped>\n",
       "    .dataframe tbody tr th:only-of-type {\n",
       "        vertical-align: middle;\n",
       "    }\n",
       "\n",
       "    .dataframe tbody tr th {\n",
       "        vertical-align: top;\n",
       "    }\n",
       "\n",
       "    .dataframe thead th {\n",
       "        text-align: right;\n",
       "    }\n",
       "</style>\n",
       "<table border=\"1\" class=\"dataframe\">\n",
       "  <thead>\n",
       "    <tr style=\"text-align: right;\">\n",
       "      <th></th>\n",
       "      <th>id</th>\n",
       "      <th>age</th>\n",
       "      <th>gender</th>\n",
       "      <th>height</th>\n",
       "      <th>weight</th>\n",
       "      <th>ap_hi</th>\n",
       "      <th>ap_lo</th>\n",
       "      <th>cholesterol</th>\n",
       "      <th>gluc</th>\n",
       "      <th>smoke</th>\n",
       "      <th>alco</th>\n",
       "      <th>active</th>\n",
       "      <th>cardio</th>\n",
       "    </tr>\n",
       "  </thead>\n",
       "  <tbody>\n",
       "    <tr>\n",
       "      <th>0</th>\n",
       "      <td>66728</td>\n",
       "      <td>21770</td>\n",
       "      <td>1</td>\n",
       "      <td>156</td>\n",
       "      <td>64.0</td>\n",
       "      <td>140</td>\n",
       "      <td>80</td>\n",
       "      <td>2</td>\n",
       "      <td>1</td>\n",
       "      <td>0</td>\n",
       "      <td>0</td>\n",
       "      <td>1</td>\n",
       "      <td>1</td>\n",
       "    </tr>\n",
       "    <tr>\n",
       "      <th>1</th>\n",
       "      <td>69098</td>\n",
       "      <td>21876</td>\n",
       "      <td>1</td>\n",
       "      <td>170</td>\n",
       "      <td>85.0</td>\n",
       "      <td>160</td>\n",
       "      <td>90</td>\n",
       "      <td>1</td>\n",
       "      <td>1</td>\n",
       "      <td>0</td>\n",
       "      <td>0</td>\n",
       "      <td>1</td>\n",
       "      <td>1</td>\n",
       "    </tr>\n",
       "    <tr>\n",
       "      <th>2</th>\n",
       "      <td>59185</td>\n",
       "      <td>23270</td>\n",
       "      <td>1</td>\n",
       "      <td>151</td>\n",
       "      <td>90.0</td>\n",
       "      <td>130</td>\n",
       "      <td>80</td>\n",
       "      <td>1</td>\n",
       "      <td>1</td>\n",
       "      <td>0</td>\n",
       "      <td>0</td>\n",
       "      <td>1</td>\n",
       "      <td>1</td>\n",
       "    </tr>\n",
       "    <tr>\n",
       "      <th>3</th>\n",
       "      <td>49288</td>\n",
       "      <td>19741</td>\n",
       "      <td>1</td>\n",
       "      <td>159</td>\n",
       "      <td>97.0</td>\n",
       "      <td>120</td>\n",
       "      <td>80</td>\n",
       "      <td>1</td>\n",
       "      <td>1</td>\n",
       "      <td>0</td>\n",
       "      <td>0</td>\n",
       "      <td>1</td>\n",
       "      <td>1</td>\n",
       "    </tr>\n",
       "    <tr>\n",
       "      <th>4</th>\n",
       "      <td>62481</td>\n",
       "      <td>18395</td>\n",
       "      <td>1</td>\n",
       "      <td>164</td>\n",
       "      <td>68.0</td>\n",
       "      <td>120</td>\n",
       "      <td>80</td>\n",
       "      <td>1</td>\n",
       "      <td>1</td>\n",
       "      <td>0</td>\n",
       "      <td>0</td>\n",
       "      <td>1</td>\n",
       "      <td>0</td>\n",
       "    </tr>\n",
       "  </tbody>\n",
       "</table>\n",
       "</div>"
      ],
      "text/plain": [
       "      id    age  gender  height  weight  ap_hi  ap_lo  cholesterol  gluc  \\\n",
       "0  66728  21770       1     156    64.0    140     80            2     1   \n",
       "1  69098  21876       1     170    85.0    160     90            1     1   \n",
       "2  59185  23270       1     151    90.0    130     80            1     1   \n",
       "3  49288  19741       1     159    97.0    120     80            1     1   \n",
       "4  62481  18395       1     164    68.0    120     80            1     1   \n",
       "\n",
       "   smoke  alco  active  cardio  \n",
       "0      0     0       1       1  \n",
       "1      0     0       1       1  \n",
       "2      0     0       1       1  \n",
       "3      0     0       1       1  \n",
       "4      0     0       1       0  "
      ]
     },
     "execution_count": 47,
     "metadata": {},
     "output_type": "execute_result"
    }
   ],
   "source": [
    "data.head()"
   ]
  },
  {
   "cell_type": "code",
   "execution_count": 48,
   "metadata": {},
   "outputs": [],
   "source": [
    "x_train, x_val, y_train, y_val = train_test_split(data.drop('cardio', axis=1), data['cardio'], test_size=0.2, random_state=0)"
   ]
  },
  {
   "cell_type": "code",
   "execution_count": 49,
   "metadata": {},
   "outputs": [
    {
     "data": {
      "text/plain": [
       "0.4988392857142857"
      ]
     },
     "execution_count": 49,
     "metadata": {},
     "output_type": "execute_result"
    }
   ],
   "source": [
    "dummy_clf = DummyClassifier(strategy='most_frequent')\n",
    "dummy_clf.fit(x_train, y_train)\n",
    "\n",
    "dummy_clf.score(x_val, y_val)"
   ]
  },
  {
   "cell_type": "code",
   "execution_count": 50,
   "metadata": {},
   "outputs": [
    {
     "data": {
      "text/plain": [
       "0.7350892857142857"
      ]
     },
     "execution_count": 50,
     "metadata": {},
     "output_type": "execute_result"
    }
   ],
   "source": [
    "#substituir algortimo aqui!!!!\n",
    "import xgboost as xgb\n",
    "\n",
    "xgb_clf = xgb.XGBClassifier()\n",
    "xgb_clf.fit(x_train, y_train)\n",
    "\n",
    "xgb_clf.score(x_val, y_val)"
   ]
  },
  {
   "cell_type": "code",
   "execution_count": 51,
   "metadata": {},
   "outputs": [],
   "source": [
    "#import min max scaler, one hot encoder, and column transformer\n",
    "from sklearn.preprocessing import MinMaxScaler, OneHotEncoder\n",
    "from sklearn.compose import ColumnTransformer\n",
    "# pode deixar dessa forma, se tiver mt ruim a gente muda\n",
    "var_to_be_used = ['gluc', 'cholesterol', 'ap_hi', 'age', 'ap_lo', 'weight']\n",
    "numerical_features = ['ap_hi', 'ap_lo', 'age', 'weight']\n",
    "categorical_features = ['gluc', 'cholesterol']\n",
    "\n",
    "# create column transformer\n",
    "preprocessor = ColumnTransformer(\n",
    "    transformers=[\n",
    "        ('num', MinMaxScaler(), numerical_features),\n",
    "        ('cat', OneHotEncoder(), categorical_features)\n",
    "    ])\n",
    "\n",
    "x_train = preprocessor.fit_transform(x_train)\n",
    "x_val = preprocessor.transform(x_val)"
   ]
  },
  {
   "cell_type": "code",
   "execution_count": 52,
   "metadata": {},
   "outputs": [
    {
     "name": "stdout",
     "output_type": "stream",
     "text": [
      "Fitting 5 folds for each of 5 candidates, totalling 25 fits\n",
      "[CV 2/5] END gamma=0.0, learning_rate=0.2, max_depth=13, min_child_weight=1, n_estimators=300, subsample=0.7;, score=0.750 total time= 1.0min\n",
      "[CV 3/5] END gamma=0.0, learning_rate=0.2, max_depth=13, min_child_weight=1, n_estimators=300, subsample=0.7;, score=0.739 total time= 1.1min\n",
      "[CV 1/5] END gamma=0.0, learning_rate=0.2, max_depth=13, min_child_weight=1, n_estimators=300, subsample=0.7;, score=0.745 total time= 1.1min\n",
      "[CV 1/5] END gamma=0.0, learning_rate=0.3, max_depth=13, min_child_weight=1, n_estimators=400, subsample=0.6;, score=0.732 total time= 1.3min\n",
      "[CV 3/5] END gamma=0.0, learning_rate=0.3, max_depth=13, min_child_weight=1, n_estimators=400, subsample=0.6;, score=0.723 total time= 1.4min\n",
      "[CV 4/5] END gamma=0.0, learning_rate=0.3, max_depth=13, min_child_weight=1, n_estimators=400, subsample=0.6;, score=0.740 total time= 1.5min\n",
      "[CV 5/5] END gamma=0.0, learning_rate=0.3, max_depth=13, min_child_weight=1, n_estimators=400, subsample=0.6;, score=0.733 total time= 1.6min\n",
      "[CV 2/5] END gamma=0.0, learning_rate=0.3, max_depth=13, min_child_weight=1, n_estimators=400, subsample=0.6;, score=0.731 total time= 1.6min\n",
      "[CV 4/5] END gamma=0.0, learning_rate=0.2, max_depth=13, min_child_weight=1, n_estimators=300, subsample=0.7;, score=0.754 total time=  57.7s\n",
      "[CV 5/5] END gamma=0.0, learning_rate=0.2, max_depth=13, min_child_weight=1, n_estimators=300, subsample=0.7;, score=0.749 total time=  58.3s\n",
      "[CV 1/5] END gamma=0.3, learning_rate=0.15, max_depth=3, min_child_weight=7, n_estimators=900, subsample=0.9;, score=0.795 total time=  46.2s\n",
      "[CV 1/5] END gamma=0.0, learning_rate=0.15, max_depth=7, min_child_weight=3, n_estimators=800, subsample=0.8;, score=0.770 total time= 1.5min\n",
      "[CV 2/5] END gamma=0.3, learning_rate=0.15, max_depth=3, min_child_weight=7, n_estimators=900, subsample=0.9;, score=0.792 total time=  35.5s\n",
      "[CV 3/5] END gamma=0.3, learning_rate=0.15, max_depth=3, min_child_weight=7, n_estimators=900, subsample=0.9;, score=0.791 total time=  37.8s\n",
      "[CV 3/5] END gamma=0.0, learning_rate=0.15, max_depth=7, min_child_weight=3, n_estimators=800, subsample=0.8;, score=0.760 total time= 1.3min\n",
      "[CV 4/5] END gamma=0.0, learning_rate=0.15, max_depth=7, min_child_weight=3, n_estimators=800, subsample=0.8;, score=0.775 total time= 1.3min\n",
      "[CV 2/5] END gamma=0.0, learning_rate=0.15, max_depth=7, min_child_weight=3, n_estimators=800, subsample=0.8;, score=0.767 total time= 1.5min\n",
      "[CV 5/5] END gamma=0.0, learning_rate=0.15, max_depth=7, min_child_weight=3, n_estimators=800, subsample=0.8;, score=0.768 total time= 1.4min\n",
      "[CV 4/5] END gamma=0.3, learning_rate=0.15, max_depth=3, min_child_weight=7, n_estimators=900, subsample=0.9;, score=0.799 total time=  39.3s\n",
      "[CV 5/5] END gamma=0.3, learning_rate=0.15, max_depth=3, min_child_weight=7, n_estimators=900, subsample=0.9;, score=0.793 total time=  36.2s\n",
      "[CV 1/5] END gamma=0.2, learning_rate=0.15, max_depth=7, min_child_weight=3, n_estimators=1000, subsample=0.9;, score=0.769 total time= 1.2min\n",
      "[CV 3/5] END gamma=0.2, learning_rate=0.15, max_depth=7, min_child_weight=3, n_estimators=1000, subsample=0.9;, score=0.763 total time= 1.2min\n",
      "[CV 2/5] END gamma=0.2, learning_rate=0.15, max_depth=7, min_child_weight=3, n_estimators=1000, subsample=0.9;, score=0.765 total time= 1.2min\n",
      "[CV 4/5] END gamma=0.2, learning_rate=0.15, max_depth=7, min_child_weight=3, n_estimators=1000, subsample=0.9;, score=0.772 total time= 1.1min\n",
      "[CV 5/5] END gamma=0.2, learning_rate=0.15, max_depth=7, min_child_weight=3, n_estimators=1000, subsample=0.9;, score=0.767 total time= 1.1min\n"
     ]
    },
    {
     "data": {
      "text/plain": [
       "{'subsample': 0.9,\n",
       " 'n_estimators': 900,\n",
       " 'min_child_weight': 7,\n",
       " 'max_depth': 3,\n",
       " 'learning_rate': 0.15,\n",
       " 'gamma': 0.3}"
      ]
     },
     "execution_count": 52,
     "metadata": {},
     "output_type": "execute_result"
    }
   ],
   "source": [
    "# import ransearchcv\n",
    "from sklearn.model_selection import RandomizedSearchCV\n",
    "# define the parameters\n",
    "#adaptar para os modelos, verificar os parametros no site do sklearn, por ex.\n",
    "params = {\n",
    "    'max_depth': [3, 5, 7, 9, 11, 13, 15],\n",
    "    'learning_rate': [0.01, 0.05, 0.1, 0.15, 0.2, 0.25, 0.3],\n",
    "    'n_estimators': [100, 200, 300, 400, 500, 600, 700, 800, 900, 1000],\n",
    "    'min_child_weight': [1, 3, 5, 7],\n",
    "    'gamma': [0.0, 0.1, 0.2, 0.3, 0.4],\n",
    "    'subsample': [0.6, 0.7, 0.8, 0.9, 1.0],\n",
    "}\n",
    "# create the model\n",
    "xgb_clf = xgb.XGBClassifier()\n",
    "# create the random search cv\n",
    "random_search = RandomizedSearchCV(xgb_clf, param_distributions=params, n_iter=5, scoring='roc_auc', n_jobs=-1, cv=5, verbose=3)\n",
    "# fit the model\n",
    "random_search.fit(x_train, y_train)\n",
    "\n",
    "random_search.best_params_"
   ]
  },
  {
   "cell_type": "code",
   "execution_count": 53,
   "metadata": {},
   "outputs": [
    {
     "data": {
      "text/html": [
       "<style>#sk-container-id-4 {color: black;background-color: white;}#sk-container-id-4 pre{padding: 0;}#sk-container-id-4 div.sk-toggleable {background-color: white;}#sk-container-id-4 label.sk-toggleable__label {cursor: pointer;display: block;width: 100%;margin-bottom: 0;padding: 0.3em;box-sizing: border-box;text-align: center;}#sk-container-id-4 label.sk-toggleable__label-arrow:before {content: \"▸\";float: left;margin-right: 0.25em;color: #696969;}#sk-container-id-4 label.sk-toggleable__label-arrow:hover:before {color: black;}#sk-container-id-4 div.sk-estimator:hover label.sk-toggleable__label-arrow:before {color: black;}#sk-container-id-4 div.sk-toggleable__content {max-height: 0;max-width: 0;overflow: hidden;text-align: left;background-color: #f0f8ff;}#sk-container-id-4 div.sk-toggleable__content pre {margin: 0.2em;color: black;border-radius: 0.25em;background-color: #f0f8ff;}#sk-container-id-4 input.sk-toggleable__control:checked~div.sk-toggleable__content {max-height: 200px;max-width: 100%;overflow: auto;}#sk-container-id-4 input.sk-toggleable__control:checked~label.sk-toggleable__label-arrow:before {content: \"▾\";}#sk-container-id-4 div.sk-estimator input.sk-toggleable__control:checked~label.sk-toggleable__label {background-color: #d4ebff;}#sk-container-id-4 div.sk-label input.sk-toggleable__control:checked~label.sk-toggleable__label {background-color: #d4ebff;}#sk-container-id-4 input.sk-hidden--visually {border: 0;clip: rect(1px 1px 1px 1px);clip: rect(1px, 1px, 1px, 1px);height: 1px;margin: -1px;overflow: hidden;padding: 0;position: absolute;width: 1px;}#sk-container-id-4 div.sk-estimator {font-family: monospace;background-color: #f0f8ff;border: 1px dotted black;border-radius: 0.25em;box-sizing: border-box;margin-bottom: 0.5em;}#sk-container-id-4 div.sk-estimator:hover {background-color: #d4ebff;}#sk-container-id-4 div.sk-parallel-item::after {content: \"\";width: 100%;border-bottom: 1px solid gray;flex-grow: 1;}#sk-container-id-4 div.sk-label:hover label.sk-toggleable__label {background-color: #d4ebff;}#sk-container-id-4 div.sk-serial::before {content: \"\";position: absolute;border-left: 1px solid gray;box-sizing: border-box;top: 0;bottom: 0;left: 50%;z-index: 0;}#sk-container-id-4 div.sk-serial {display: flex;flex-direction: column;align-items: center;background-color: white;padding-right: 0.2em;padding-left: 0.2em;position: relative;}#sk-container-id-4 div.sk-item {position: relative;z-index: 1;}#sk-container-id-4 div.sk-parallel {display: flex;align-items: stretch;justify-content: center;background-color: white;position: relative;}#sk-container-id-4 div.sk-item::before, #sk-container-id-4 div.sk-parallel-item::before {content: \"\";position: absolute;border-left: 1px solid gray;box-sizing: border-box;top: 0;bottom: 0;left: 50%;z-index: -1;}#sk-container-id-4 div.sk-parallel-item {display: flex;flex-direction: column;z-index: 1;position: relative;background-color: white;}#sk-container-id-4 div.sk-parallel-item:first-child::after {align-self: flex-end;width: 50%;}#sk-container-id-4 div.sk-parallel-item:last-child::after {align-self: flex-start;width: 50%;}#sk-container-id-4 div.sk-parallel-item:only-child::after {width: 0;}#sk-container-id-4 div.sk-dashed-wrapped {border: 1px dashed gray;margin: 0 0.4em 0.5em 0.4em;box-sizing: border-box;padding-bottom: 0.4em;background-color: white;}#sk-container-id-4 div.sk-label label {font-family: monospace;font-weight: bold;display: inline-block;line-height: 1.2em;}#sk-container-id-4 div.sk-label-container {text-align: center;}#sk-container-id-4 div.sk-container {/* jupyter's `normalize.less` sets `[hidden] { display: none; }` but bootstrap.min.css set `[hidden] { display: none !important; }` so we also need the `!important` here to be able to override the default hidden behavior on the sphinx rendered scikit-learn.org. See: https://github.com/scikit-learn/scikit-learn/issues/21755 */display: inline-block !important;position: relative;}#sk-container-id-4 div.sk-text-repr-fallback {display: none;}</style><div id=\"sk-container-id-4\" class=\"sk-top-container\"><div class=\"sk-text-repr-fallback\"><pre>XGBClassifier(base_score=None, booster=None, callbacks=None,\n",
       "              colsample_bylevel=None, colsample_bynode=None,\n",
       "              colsample_bytree=None, early_stopping_rounds=None,\n",
       "              enable_categorical=False, eval_metric=None, feature_types=None,\n",
       "              gamma=0.3, gpu_id=None, grow_policy=None, importance_type=None,\n",
       "              interaction_constraints=None, learning_rate=0.15, max_bin=None,\n",
       "              max_cat_threshold=None, max_cat_to_onehot=None,\n",
       "              max_delta_step=None, max_depth=3, max_leaves=None,\n",
       "              min_child_weight=7, missing=nan, monotone_constraints=None,\n",
       "              n_estimators=900, n_jobs=None, num_parallel_tree=None,\n",
       "              predictor=None, random_state=None, ...)</pre><b>In a Jupyter environment, please rerun this cell to show the HTML representation or trust the notebook. <br />On GitHub, the HTML representation is unable to render, please try loading this page with nbviewer.org.</b></div><div class=\"sk-container\" hidden><div class=\"sk-item\"><div class=\"sk-estimator sk-toggleable\"><input class=\"sk-toggleable__control sk-hidden--visually\" id=\"sk-estimator-id-4\" type=\"checkbox\" checked><label for=\"sk-estimator-id-4\" class=\"sk-toggleable__label sk-toggleable__label-arrow\">XGBClassifier</label><div class=\"sk-toggleable__content\"><pre>XGBClassifier(base_score=None, booster=None, callbacks=None,\n",
       "              colsample_bylevel=None, colsample_bynode=None,\n",
       "              colsample_bytree=None, early_stopping_rounds=None,\n",
       "              enable_categorical=False, eval_metric=None, feature_types=None,\n",
       "              gamma=0.3, gpu_id=None, grow_policy=None, importance_type=None,\n",
       "              interaction_constraints=None, learning_rate=0.15, max_bin=None,\n",
       "              max_cat_threshold=None, max_cat_to_onehot=None,\n",
       "              max_delta_step=None, max_depth=3, max_leaves=None,\n",
       "              min_child_weight=7, missing=nan, monotone_constraints=None,\n",
       "              n_estimators=900, n_jobs=None, num_parallel_tree=None,\n",
       "              predictor=None, random_state=None, ...)</pre></div></div></div></div></div>"
      ],
      "text/plain": [
       "XGBClassifier(base_score=None, booster=None, callbacks=None,\n",
       "              colsample_bylevel=None, colsample_bynode=None,\n",
       "              colsample_bytree=None, early_stopping_rounds=None,\n",
       "              enable_categorical=False, eval_metric=None, feature_types=None,\n",
       "              gamma=0.3, gpu_id=None, grow_policy=None, importance_type=None,\n",
       "              interaction_constraints=None, learning_rate=0.15, max_bin=None,\n",
       "              max_cat_threshold=None, max_cat_to_onehot=None,\n",
       "              max_delta_step=None, max_depth=3, max_leaves=None,\n",
       "              min_child_weight=7, missing=nan, monotone_constraints=None,\n",
       "              n_estimators=900, n_jobs=None, num_parallel_tree=None,\n",
       "              predictor=None, random_state=None, ...)"
      ]
     },
     "execution_count": 53,
     "metadata": {},
     "output_type": "execute_result"
    }
   ],
   "source": [
    "# train xgboost with the best params\n",
    "xgb_clf = xgb.XGBClassifier(**random_search.best_params_)\n",
    "xgb_clf.fit(x_train, y_train)"
   ]
  },
  {
   "cell_type": "code",
   "execution_count": 59,
   "metadata": {},
   "outputs": [
    {
     "data": {
      "text/plain": [
       "0.7513169642857143"
      ]
     },
     "execution_count": 59,
     "metadata": {},
     "output_type": "execute_result"
    }
   ],
   "source": [
    "xgb_clf.score(x_train, y_train)"
   ]
  },
  {
   "cell_type": "code",
   "execution_count": 54,
   "metadata": {},
   "outputs": [
    {
     "data": {
      "text/plain": [
       "0.7376785714285714"
      ]
     },
     "execution_count": 54,
     "metadata": {},
     "output_type": "execute_result"
    }
   ],
   "source": [
    "xgb_clf.score(x_val, y_val)"
   ]
  },
  {
   "cell_type": "code",
   "execution_count": 55,
   "metadata": {},
   "outputs": [],
   "source": [
    "data_test = pd.read_csv('test.csv')"
   ]
  },
  {
   "cell_type": "code",
   "execution_count": null,
   "metadata": {},
   "outputs": [],
   "source": [
    "x_test = preprocessor.transform(data_test)\n",
    "y_test = xgb_clf.predict(x_test)\n",
    "xgb.score"
   ]
  },
  {
   "cell_type": "code",
   "execution_count": 57,
   "metadata": {},
   "outputs": [
    {
     "data": {
      "text/plain": [
       "0.7278571428571429"
      ]
     },
     "execution_count": 57,
     "metadata": {},
     "output_type": "execute_result"
    }
   ],
   "source": [
    "from sklearn.metrics import accuracy_score\n",
    "accuracy_score(data_test['cardio'], y_test)"
   ]
  }
 ],
 "metadata": {
  "kernelspec": {
   "display_name": "rl",
   "language": "python",
   "name": "python3"
  },
  "language_info": {
   "codemirror_mode": {
    "name": "ipython",
    "version": 3
   },
   "file_extension": ".py",
   "mimetype": "text/x-python",
   "name": "python",
   "nbconvert_exporter": "python",
   "pygments_lexer": "ipython3",
   "version": "3.10.6"
  },
  "orig_nbformat": 4
 },
 "nbformat": 4,
 "nbformat_minor": 2
}
